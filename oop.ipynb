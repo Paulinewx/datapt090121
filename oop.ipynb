{
 "cells": [
  {
   "cell_type": "code",
   "execution_count": 1,
   "id": "b357c011-4df1-4d40-b666-295e35a10afe",
   "metadata": {},
   "outputs": [],
   "source": [
    "# refactorisation : faire en sorte de ne jamais répéter plus d'une fois le même bout de code, en \n",
    "# créant notamment des fonctions ou des classes"
   ]
  },
  {
   "cell_type": "code",
   "execution_count": 2,
   "id": "55311202-fd68-47dd-b2d7-fe79a0e0faa0",
   "metadata": {},
   "outputs": [],
   "source": [
    "# classes = objets"
   ]
  },
  {
   "cell_type": "code",
   "execution_count": 3,
   "id": "2d395cf0-1db0-4088-868b-50270bf589be",
   "metadata": {},
   "outputs": [],
   "source": [
    "# un objet = des propriétés et des actions possibles"
   ]
  },
  {
   "cell_type": "code",
   "execution_count": 4,
   "id": "bba33f90-15e1-47cc-8218-614ebc88b404",
   "metadata": {},
   "outputs": [],
   "source": [
    "# exemple : un chien possède une race, un âge, un nom, etc. (propriétés), et peut effectuer\n",
    "# un certain nombre d'actions : aboyer, manger, dormir, etc. (actions)"
   ]
  },
  {
   "cell_type": "code",
   "execution_count": 5,
   "id": "8d87e78f-786f-4ab4-ac02-c1d1de93dfcb",
   "metadata": {},
   "outputs": [],
   "source": [
    "# fonction => ça permet de développer une fois pour toute une action générique donnée\n",
    "# par exemple, étant donné un fichier .csv, le convertir en .txt"
   ]
  },
  {
   "cell_type": "code",
   "execution_count": 6,
   "id": "48ec619a-1505-4885-a3c7-3ba29e6bcf2e",
   "metadata": {},
   "outputs": [],
   "source": [
    "# classe => ça permet de développer une fois pour toute une certaine classe de variables\n",
    "# qu'on est amené à manipuler régulièrement\n",
    "# et qui possède toujours les mêmes propriétés et les mêmes actions\n",
    "# propriétés = propriétés, attributs\n",
    "# actions = méthodes"
   ]
  },
  {
   "cell_type": "code",
   "execution_count": 7,
   "id": "44ef723b-3626-4084-b8d9-ea7fae1c1fa0",
   "metadata": {},
   "outputs": [],
   "source": [
    "# CamelCase : majuscule à chaque début de mot, et minuscules sinon"
   ]
  },
  {
   "cell_type": "code",
   "execution_count": 21,
   "id": "f1bd8d9e-208d-4b8d-8be6-b3325f379826",
   "metadata": {},
   "outputs": [],
   "source": [
    "import math"
   ]
  },
  {
   "cell_type": "code",
   "execution_count": 25,
   "id": "c67be0ed-0fb0-4658-8695-ace6dae7f455",
   "metadata": {},
   "outputs": [
    {
     "data": {
      "text/plain": [
       "9.869604401089358"
      ]
     },
     "execution_count": 25,
     "metadata": {},
     "output_type": "execute_result"
    }
   ],
   "source": [
    "(math.pi)**2"
   ]
  },
  {
   "cell_type": "code",
   "execution_count": 80,
   "id": "63839569-d9e6-4c43-a3b9-e216b659456f",
   "metadata": {},
   "outputs": [],
   "source": [
    "class Circle:\n",
    "    # propriétés, attributs\n",
    "    # rayon, diamètre\n",
    "    # coordonnées du centre\n",
    "    \n",
    "    # actions ou méthodes\n",
    "    # translater\n",
    "    # aggrandir\n",
    "    \n",
    "    # constructeur\n",
    "    def __init__(self, center_x, center_y, radius):\n",
    "        self.c_x = center_x\n",
    "        self.c_y = center_y\n",
    "        self.r = radius\n",
    "        self.d = 2 * self.r\n",
    "        self.circumference = math.pi * self.d\n",
    "        self.area = math.pi * (self.r)**2\n",
    "        \n",
    "    def translate(self, v_x, v_y):\n",
    "        self.c_x = self.c_x + v_x\n",
    "        self.c_y = self.c_y + v_y\n",
    "        \n",
    "    def scale(self, f):\n",
    "        return Circle(self.c_x, self.c_y, f * self.r)\n",
    "    \n",
    "    def affin_transformation(self, f, v_x, v_y):\n",
    "        self.translate(v_x, v_y)\n",
    "        return self.scale(f)\n",
    "    \n",
    "    # méthodes statiques\n",
    "    def definition():\n",
    "        print('This is the class representing a Circle.')"
   ]
  },
  {
   "cell_type": "code",
   "execution_count": 78,
   "id": "1ceb7055-5a08-4eba-8c96-5c70b5de672f",
   "metadata": {},
   "outputs": [
    {
     "name": "stdout",
     "output_type": "stream",
     "text": [
      "This is the class representing a Circle.\n"
     ]
    }
   ],
   "source": [
    "Circle.definition()"
   ]
  },
  {
   "cell_type": "code",
   "execution_count": 63,
   "id": "3f06f1a5-cb48-4e40-8962-a95c6a2a136a",
   "metadata": {},
   "outputs": [],
   "source": [
    "c1 = Circle(0.5, 1.6, 5)"
   ]
  },
  {
   "cell_type": "code",
   "execution_count": 64,
   "id": "d53061a4-fd59-48d9-8f99-1c87d86d3194",
   "metadata": {},
   "outputs": [
    {
     "data": {
      "text/plain": [
       "(0.5, 1.6)"
      ]
     },
     "execution_count": 64,
     "metadata": {},
     "output_type": "execute_result"
    }
   ],
   "source": [
    "c1.c_x, c1.c_y"
   ]
  },
  {
   "cell_type": "code",
   "execution_count": 65,
   "id": "28d0244a-efa7-402c-9ebd-6c750800fcc0",
   "metadata": {},
   "outputs": [
    {
     "data": {
      "text/plain": [
       "5"
      ]
     },
     "execution_count": 65,
     "metadata": {},
     "output_type": "execute_result"
    }
   ],
   "source": [
    "c1.r"
   ]
  },
  {
   "cell_type": "code",
   "execution_count": 66,
   "id": "6778e357-0a70-4bc8-8b45-7b2eddcf721c",
   "metadata": {},
   "outputs": [
    {
     "data": {
      "text/plain": [
       "78.53981633974483"
      ]
     },
     "execution_count": 66,
     "metadata": {},
     "output_type": "execute_result"
    }
   ],
   "source": [
    "c1.area"
   ]
  },
  {
   "cell_type": "code",
   "execution_count": 67,
   "id": "e2268b2b-4c5c-4bf9-b2bb-bea3ec5dbb3a",
   "metadata": {},
   "outputs": [
    {
     "data": {
      "text/plain": [
       "10"
      ]
     },
     "execution_count": 67,
     "metadata": {},
     "output_type": "execute_result"
    }
   ],
   "source": [
    "c1.d"
   ]
  },
  {
   "cell_type": "code",
   "execution_count": 68,
   "id": "30192e11-841c-43b9-9691-2db2878fb6e8",
   "metadata": {},
   "outputs": [
    {
     "data": {
      "text/plain": [
       "31.41592653589793"
      ]
     },
     "execution_count": 68,
     "metadata": {},
     "output_type": "execute_result"
    }
   ],
   "source": [
    "c1.circumference"
   ]
  },
  {
   "cell_type": "code",
   "execution_count": 69,
   "id": "28e58e66-c906-4b8d-a1c8-d635f327a6b0",
   "metadata": {},
   "outputs": [],
   "source": [
    "c1.translate(3, 5)"
   ]
  },
  {
   "cell_type": "code",
   "execution_count": 76,
   "id": "7c9e3aaf-f1a9-4227-9a88-9b3c83f19fa2",
   "metadata": {},
   "outputs": [
    {
     "data": {
      "text/plain": [
       "'qihlqz qldjql'"
      ]
     },
     "execution_count": 76,
     "metadata": {},
     "output_type": "execute_result"
    }
   ],
   "source": [
    "' '.join(['qihlqz', 'qldjql'])"
   ]
  },
  {
   "cell_type": "code",
   "execution_count": null,
   "id": "4ada5a8c-876a-414e-b1f7-278660df3386",
   "metadata": {},
   "outputs": [],
   "source": [
    "def join(self, l):\n",
    "    s = ''\n",
    "    for w in l:\n",
    "        s += w + self.sep\n",
    "    return s"
   ]
  },
  {
   "cell_type": "code",
   "execution_count": 70,
   "id": "7b3a7604-1687-4929-b1bd-493b2012c0c6",
   "metadata": {},
   "outputs": [],
   "source": [
    "c2 = c1.scale(0.5)"
   ]
  },
  {
   "cell_type": "code",
   "execution_count": 74,
   "id": "e19f1cd1-9e6a-41dd-80ac-45c5be5cdf8e",
   "metadata": {},
   "outputs": [
    {
     "data": {
      "text/plain": [
       "19.634954084936208"
      ]
     },
     "execution_count": 74,
     "metadata": {},
     "output_type": "execute_result"
    }
   ],
   "source": [
    "c2.area"
   ]
  },
  {
   "cell_type": "code",
   "execution_count": 59,
   "id": "550402a9-1fc0-4a6d-a306-29b503de393c",
   "metadata": {},
   "outputs": [
    {
     "data": {
      "text/plain": [
       "2.5"
      ]
     },
     "execution_count": 59,
     "metadata": {},
     "output_type": "execute_result"
    }
   ],
   "source": [
    "c1.r"
   ]
  },
  {
   "cell_type": "code",
   "execution_count": 60,
   "id": "0d344d12-0bae-42aa-a957-5bb710dc00d3",
   "metadata": {},
   "outputs": [
    {
     "data": {
      "text/plain": [
       "78.53981633974483"
      ]
     },
     "execution_count": 60,
     "metadata": {},
     "output_type": "execute_result"
    }
   ],
   "source": [
    "c1.area"
   ]
  },
  {
   "cell_type": "code",
   "execution_count": 40,
   "id": "25f5783e-72ef-493d-836e-5cba8b2ef6e7",
   "metadata": {},
   "outputs": [
    {
     "data": {
      "text/plain": [
       "(3.5, 6.6)"
      ]
     },
     "execution_count": 40,
     "metadata": {},
     "output_type": "execute_result"
    }
   ],
   "source": [
    "c1.c_x, c1.c_y"
   ]
  },
  {
   "cell_type": "code",
   "execution_count": 12,
   "id": "7b694e18-0c5f-4683-affb-9bc81e1a0872",
   "metadata": {},
   "outputs": [],
   "source": [
    "c2 = Circle(9, 7, 8)"
   ]
  },
  {
   "cell_type": "code",
   "execution_count": 13,
   "id": "8f23392a-cd86-4533-9c5d-fcd1d36beabf",
   "metadata": {},
   "outputs": [
    {
     "data": {
      "text/plain": [
       "9"
      ]
     },
     "execution_count": 13,
     "metadata": {},
     "output_type": "execute_result"
    }
   ],
   "source": [
    "c2.c_x"
   ]
  },
  {
   "cell_type": "code",
   "execution_count": 14,
   "id": "ebebbc53-340a-485b-80ae-4f7ec0ea985a",
   "metadata": {},
   "outputs": [
    {
     "data": {
      "text/plain": [
       "7"
      ]
     },
     "execution_count": 14,
     "metadata": {},
     "output_type": "execute_result"
    }
   ],
   "source": [
    "c2.c_y"
   ]
  },
  {
   "cell_type": "code",
   "execution_count": 15,
   "id": "2302566a-1be3-4944-bc1e-1e2d0159716b",
   "metadata": {},
   "outputs": [
    {
     "data": {
      "text/plain": [
       "8"
      ]
     },
     "execution_count": 15,
     "metadata": {},
     "output_type": "execute_result"
    }
   ],
   "source": [
    "c2.r"
   ]
  },
  {
   "cell_type": "code",
   "execution_count": 16,
   "id": "9f440863-b728-41b6-b7a3-ccc1c085f483",
   "metadata": {},
   "outputs": [],
   "source": [
    "c2.c_x = 8"
   ]
  },
  {
   "cell_type": "code",
   "execution_count": 18,
   "id": "bdb93dbc-332e-4083-baff-f0bdc227949b",
   "metadata": {},
   "outputs": [
    {
     "data": {
      "text/plain": [
       "8"
      ]
     },
     "execution_count": 18,
     "metadata": {},
     "output_type": "execute_result"
    }
   ],
   "source": [
    "c2.c_x"
   ]
  },
  {
   "cell_type": "code",
   "execution_count": 19,
   "id": "47310387-5573-4fa2-a1e3-d617fd056cc0",
   "metadata": {},
   "outputs": [],
   "source": [
    "c2.r = 1"
   ]
  },
  {
   "cell_type": "code",
   "execution_count": 20,
   "id": "ce1dba88-8dd6-48be-bda5-f7a18dc88f02",
   "metadata": {},
   "outputs": [
    {
     "data": {
      "text/plain": [
       "1"
      ]
     },
     "execution_count": 20,
     "metadata": {},
     "output_type": "execute_result"
    }
   ],
   "source": [
    "c2.r"
   ]
  },
  {
   "cell_type": "code",
   "execution_count": 81,
   "id": "0458dad2-4086-4173-858b-49e2c1719868",
   "metadata": {},
   "outputs": [],
   "source": [
    "c3 = Circle(0, 0, 1)"
   ]
  },
  {
   "cell_type": "code",
   "execution_count": 82,
   "id": "58b24f6a-cd76-4b10-b27c-cdc0f1dd1ffc",
   "metadata": {},
   "outputs": [],
   "source": [
    "c4 = c3.affin_transformation(10, 5, 6)"
   ]
  },
  {
   "cell_type": "code",
   "execution_count": 83,
   "id": "355e3010-2e87-47b2-94d0-7cf71eba2db5",
   "metadata": {},
   "outputs": [
    {
     "data": {
      "text/plain": [
       "(5, 6)"
      ]
     },
     "execution_count": 83,
     "metadata": {},
     "output_type": "execute_result"
    }
   ],
   "source": [
    "c4.c_x, c4.c_y"
   ]
  },
  {
   "cell_type": "code",
   "execution_count": 84,
   "id": "e5dcf2c2-2199-4a14-a5c3-6f5b88b51990",
   "metadata": {},
   "outputs": [
    {
     "data": {
      "text/plain": [
       "314.1592653589793"
      ]
     },
     "execution_count": 84,
     "metadata": {},
     "output_type": "execute_result"
    }
   ],
   "source": [
    "c4.area"
   ]
  },
  {
   "cell_type": "code",
   "execution_count": 85,
   "id": "e145ffa9-630b-4096-892b-85816320ad57",
   "metadata": {},
   "outputs": [
    {
     "data": {
      "text/plain": [
       "3.141592653589793"
      ]
     },
     "execution_count": 85,
     "metadata": {},
     "output_type": "execute_result"
    }
   ],
   "source": [
    "c3.area"
   ]
  },
  {
   "cell_type": "code",
   "execution_count": 86,
   "id": "d074e2be-d2a9-4c33-bd1d-bffc6328b1fc",
   "metadata": {},
   "outputs": [
    {
     "data": {
      "text/plain": [
       "20"
      ]
     },
     "execution_count": 86,
     "metadata": {},
     "output_type": "execute_result"
    }
   ],
   "source": [
    "c4.d"
   ]
  },
  {
   "cell_type": "code",
   "execution_count": 87,
   "id": "7f2f8b7c-1ba8-4cf5-b605-d0612e96de74",
   "metadata": {},
   "outputs": [],
   "source": [
    "class Animal:\n",
    "    def __init__(self, age, name):\n",
    "        self.age = age\n",
    "        self.name = name"
   ]
  },
  {
   "cell_type": "code",
   "execution_count": 110,
   "id": "da689963-0783-45d6-b47d-676765065fee",
   "metadata": {},
   "outputs": [],
   "source": [
    "class Hunter:\n",
    "    def __init__(self, palmares):\n",
    "        self.palmares = palmares\n",
    "        \n",
    "    def showoff(self):\n",
    "        print(f'Hey I\\'v successfully hunted {self.palmares} animals!')"
   ]
  },
  {
   "cell_type": "code",
   "execution_count": 91,
   "id": "949edc69-ee5f-4054-9c80-eacfbebb21ee",
   "metadata": {},
   "outputs": [],
   "source": [
    "class Dog(Animal):\n",
    "    def bark(self):\n",
    "        print(f'My name is {self.name} and I am {self.age} years old! wof wof')"
   ]
  },
  {
   "cell_type": "code",
   "execution_count": 92,
   "id": "da8683ac-377a-4c8d-ba73-2971fa16006b",
   "metadata": {},
   "outputs": [],
   "source": [
    "brutus = Dog(7, 'Brutus')"
   ]
  },
  {
   "cell_type": "code",
   "execution_count": 93,
   "id": "0f02489b-c1e2-498e-82e0-8379c46900dd",
   "metadata": {},
   "outputs": [
    {
     "name": "stdout",
     "output_type": "stream",
     "text": [
      "My name is Brutus and I am 7 years old! wof wof\n"
     ]
    }
   ],
   "source": [
    "brutus.bark()"
   ]
  },
  {
   "cell_type": "code",
   "execution_count": 94,
   "id": "1bfb3427-6fa7-4c86-a25c-1e169c1bb4f8",
   "metadata": {},
   "outputs": [],
   "source": [
    "titi = Animal(4, 'Titi')"
   ]
  },
  {
   "cell_type": "code",
   "execution_count": 95,
   "id": "67058d84-037c-4cd6-b19a-7d07d3041a44",
   "metadata": {},
   "outputs": [
    {
     "ename": "AttributeError",
     "evalue": "'Animal' object has no attribute 'bark'",
     "output_type": "error",
     "traceback": [
      "\u001b[0;31m---------------------------------------------------------------------------\u001b[0m",
      "\u001b[0;31mAttributeError\u001b[0m                            Traceback (most recent call last)",
      "\u001b[0;32m/var/folders/yh/8wtmx8jd1n540jp1kgvkwm5w0000gp/T/ipykernel_65967/3619391553.py\u001b[0m in \u001b[0;36m<module>\u001b[0;34m\u001b[0m\n\u001b[0;32m----> 1\u001b[0;31m \u001b[0mtiti\u001b[0m\u001b[0;34m.\u001b[0m\u001b[0mbark\u001b[0m\u001b[0;34m(\u001b[0m\u001b[0;34m)\u001b[0m\u001b[0;34m\u001b[0m\u001b[0;34m\u001b[0m\u001b[0m\n\u001b[0m",
      "\u001b[0;31mAttributeError\u001b[0m: 'Animal' object has no attribute 'bark'"
     ]
    }
   ],
   "source": [
    "titi.bark()"
   ]
  },
  {
   "cell_type": "code",
   "execution_count": 97,
   "id": "d3ce9773-b4ab-48fa-b142-e7961df8b5c2",
   "metadata": {},
   "outputs": [],
   "source": [
    "class JackRussel(Dog):\n",
    "    def hunt(self, animal):\n",
    "        print(f'Hey I\\'ve returned your animal, its name is {animal.name}')\n",
    "        return animal"
   ]
  },
  {
   "cell_type": "code",
   "execution_count": 98,
   "id": "0dca9364-74b6-4b9f-8e87-c5ba67d6ab89",
   "metadata": {},
   "outputs": [],
   "source": [
    "jack = JackRussel(3, 'Jack')"
   ]
  },
  {
   "cell_type": "code",
   "execution_count": 99,
   "id": "2b7cca19-1010-436f-a163-5af9480e4010",
   "metadata": {},
   "outputs": [],
   "source": [
    "chick = Animal(3, 'Chick')"
   ]
  },
  {
   "cell_type": "code",
   "execution_count": 100,
   "id": "3277bddd-0412-473d-9587-fffc1e56374b",
   "metadata": {},
   "outputs": [
    {
     "name": "stdout",
     "output_type": "stream",
     "text": [
      "Hey I've returned your animal, its name is Chick\n"
     ]
    }
   ],
   "source": [
    "c = jack.hunt(chick)"
   ]
  },
  {
   "cell_type": "code",
   "execution_count": 101,
   "id": "575fcee6-8089-4bcf-81d0-6e90b6731c6f",
   "metadata": {},
   "outputs": [
    {
     "name": "stdout",
     "output_type": "stream",
     "text": [
      "My name is Jack and I am 3 years old! wof wof\n"
     ]
    }
   ],
   "source": [
    "jack.bark()"
   ]
  },
  {
   "cell_type": "code",
   "execution_count": 102,
   "id": "b8c8efd1-e306-4975-a396-bb6526551a72",
   "metadata": {},
   "outputs": [
    {
     "ename": "AttributeError",
     "evalue": "'Dog' object has no attribute 'hunt'",
     "output_type": "error",
     "traceback": [
      "\u001b[0;31m---------------------------------------------------------------------------\u001b[0m",
      "\u001b[0;31mAttributeError\u001b[0m                            Traceback (most recent call last)",
      "\u001b[0;32m/var/folders/yh/8wtmx8jd1n540jp1kgvkwm5w0000gp/T/ipykernel_65967/4141476939.py\u001b[0m in \u001b[0;36m<module>\u001b[0;34m\u001b[0m\n\u001b[0;32m----> 1\u001b[0;31m \u001b[0mbrutus\u001b[0m\u001b[0;34m.\u001b[0m\u001b[0mhunt\u001b[0m\u001b[0;34m(\u001b[0m\u001b[0mchick\u001b[0m\u001b[0;34m)\u001b[0m\u001b[0;34m\u001b[0m\u001b[0;34m\u001b[0m\u001b[0m\n\u001b[0m",
      "\u001b[0;31mAttributeError\u001b[0m: 'Dog' object has no attribute 'hunt'"
     ]
    }
   ],
   "source": [
    "brutus.hunt(chick)"
   ]
  },
  {
   "cell_type": "code",
   "execution_count": 103,
   "id": "47914413-a9ad-4883-b707-3336881dc37f",
   "metadata": {},
   "outputs": [
    {
     "name": "stdout",
     "output_type": "stream",
     "text": [
      "ceci est un truc\n"
     ]
    }
   ],
   "source": [
    "a = \"truc\"\n",
    "print(f'ceci est un {a}')"
   ]
  },
  {
   "cell_type": "code",
   "execution_count": 113,
   "id": "f4eb6dc2-610a-491a-843a-9e673a86c141",
   "metadata": {},
   "outputs": [],
   "source": [
    "class HunterDogs(Dog, Hunter):\n",
    "    \n",
    "    def __init__(self, age, name, palmares):\n",
    "        Dog.__init__(self, age, name)\n",
    "        Hunter.__init__(self, palmares)\n",
    "    \n",
    "    def bark_and_showoff(self):\n",
    "        self.bark()\n",
    "        self.showoff()"
   ]
  },
  {
   "cell_type": "code",
   "execution_count": 114,
   "id": "50093f5b-085f-49c3-b6c6-7f4d129a9bb5",
   "metadata": {},
   "outputs": [],
   "source": [
    "rott = HunterDogs(5, 'Rott', 7)"
   ]
  },
  {
   "cell_type": "code",
   "execution_count": 115,
   "id": "3eb1a84d-1e31-46bd-93ff-4fc30f9ffdb2",
   "metadata": {},
   "outputs": [
    {
     "name": "stdout",
     "output_type": "stream",
     "text": [
      "My name is Rott and I am 5 years old! wof wof\n",
      "Hey I'v successfully hunted 7 animals!\n"
     ]
    }
   ],
   "source": [
    "rott.bark_and_showoff()"
   ]
  },
  {
   "cell_type": "code",
   "execution_count": 116,
   "id": "def626c4-286e-4df1-bb2f-cb90c6cee035",
   "metadata": {},
   "outputs": [
    {
     "name": "stdout",
     "output_type": "stream",
     "text": [
      "My name is Rott and I am 5 years old! wof wof\n"
     ]
    }
   ],
   "source": [
    "rott.bark()"
   ]
  },
  {
   "cell_type": "code",
   "execution_count": 117,
   "id": "03d635e9-27f5-4fbc-87b9-71953e481a73",
   "metadata": {},
   "outputs": [
    {
     "name": "stdout",
     "output_type": "stream",
     "text": [
      "Hey I'v successfully hunted 7 animals!\n"
     ]
    }
   ],
   "source": [
    "rott.showoff()"
   ]
  },
  {
   "cell_type": "code",
   "execution_count": 118,
   "id": "4861cfb7-5496-4cdd-be11-bd2402666a11",
   "metadata": {},
   "outputs": [],
   "source": [
    "rott.age = 8"
   ]
  },
  {
   "cell_type": "code",
   "execution_count": 119,
   "id": "0442ce1f-d12e-4bdb-9888-37cfc2ab81d1",
   "metadata": {},
   "outputs": [
    {
     "name": "stdout",
     "output_type": "stream",
     "text": [
      "My name is Rott and I am 8 years old! wof wof\n"
     ]
    }
   ],
   "source": [
    "rott.bark()"
   ]
  },
  {
   "cell_type": "code",
   "execution_count": null,
   "id": "f23005dd-c741-41d1-a2ec-e453af809ff5",
   "metadata": {},
   "outputs": [],
   "source": []
  }
 ],
 "metadata": {
  "kernelspec": {
   "display_name": "Python 3 (ipykernel)",
   "language": "python",
   "name": "python3"
  },
  "language_info": {
   "codemirror_mode": {
    "name": "ipython",
    "version": 3
   },
   "file_extension": ".py",
   "mimetype": "text/x-python",
   "name": "python",
   "nbconvert_exporter": "python",
   "pygments_lexer": "ipython3",
   "version": "3.9.0"
  }
 },
 "nbformat": 4,
 "nbformat_minor": 5
}
