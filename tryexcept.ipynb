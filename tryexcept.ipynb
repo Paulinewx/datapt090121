{
 "cells": [
  {
   "cell_type": "code",
   "execution_count": 1,
   "id": "61dd12a3-0ff3-4ec0-bdc8-177b9108ec00",
   "metadata": {},
   "outputs": [],
   "source": [
    "# erreurs de syntaxe"
   ]
  },
  {
   "cell_type": "code",
   "execution_count": 4,
   "id": "e5aa7ee1-094b-41c2-a6ce-20f918387ea1",
   "metadata": {},
   "outputs": [
    {
     "ename": "SyntaxError",
     "evalue": "invalid syntax (1906627589.py, line 1)",
     "output_type": "error",
     "traceback": [
      "\u001b[0;36m  File \u001b[0;32m\"/var/folders/yh/8wtmx8jd1n540jp1kgvkwm5w0000gp/T/ipykernel_15214/1906627589.py\"\u001b[0;36m, line \u001b[0;32m1\u001b[0m\n\u001b[0;31m    for i in range(12)\u001b[0m\n\u001b[0m                      ^\u001b[0m\n\u001b[0;31mSyntaxError\u001b[0m\u001b[0;31m:\u001b[0m invalid syntax\n"
     ]
    }
   ],
   "source": [
    "for i in range(12)\n",
    "    print(i)"
   ]
  },
  {
   "cell_type": "code",
   "execution_count": 5,
   "id": "bb50a95a-054f-4d1b-beab-1babb1c4a810",
   "metadata": {},
   "outputs": [],
   "source": [
    "# exceptions = erreurs à l'exécution"
   ]
  },
  {
   "cell_type": "code",
   "execution_count": 7,
   "id": "a5b7182d-b5b7-4c53-8ea8-d0ffde82fea7",
   "metadata": {},
   "outputs": [
    {
     "ename": "ZeroDivisionError",
     "evalue": "division by zero",
     "output_type": "error",
     "traceback": [
      "\u001b[0;31m---------------------------------------------------------------------------\u001b[0m",
      "\u001b[0;31mZeroDivisionError\u001b[0m                         Traceback (most recent call last)",
      "\u001b[0;32m/var/folders/yh/8wtmx8jd1n540jp1kgvkwm5w0000gp/T/ipykernel_15214/4021992727.py\u001b[0m in \u001b[0;36m<module>\u001b[0;34m\u001b[0m\n\u001b[1;32m      1\u001b[0m \u001b[0;32mfor\u001b[0m \u001b[0mi\u001b[0m \u001b[0;32min\u001b[0m \u001b[0mrange\u001b[0m\u001b[0;34m(\u001b[0m\u001b[0;36m12\u001b[0m\u001b[0;34m)\u001b[0m\u001b[0;34m:\u001b[0m\u001b[0;34m\u001b[0m\u001b[0;34m\u001b[0m\u001b[0m\n\u001b[0;32m----> 2\u001b[0;31m     \u001b[0mprint\u001b[0m\u001b[0;34m(\u001b[0m\u001b[0;36m2\u001b[0m \u001b[0;34m/\u001b[0m \u001b[0mi\u001b[0m\u001b[0;34m)\u001b[0m\u001b[0;34m\u001b[0m\u001b[0;34m\u001b[0m\u001b[0m\n\u001b[0m",
      "\u001b[0;31mZeroDivisionError\u001b[0m: division by zero"
     ]
    }
   ],
   "source": [
    "for i in range(12):\n",
    "    print(2 / i)"
   ]
  },
  {
   "cell_type": "code",
   "execution_count": 8,
   "id": "a8ec8f0c-9fd8-4e7e-bbc2-ddbe454a4f46",
   "metadata": {},
   "outputs": [],
   "source": [
    "# différence entre python, javascript ET java, go, c++... ?\n",
    "# python, javascript = languages interprétés\n",
    "# java, go, c++ = languages compilés"
   ]
  },
  {
   "cell_type": "code",
   "execution_count": 9,
   "id": "9e660c27-42a9-421f-8874-3addee7958eb",
   "metadata": {},
   "outputs": [],
   "source": [
    "# language compilé :\n",
    "# 1) On écrit des instructions. Exemple : \"int c = 0; c += 1;\"\n",
    "# 2) On compile les instructions, i.e on traduit l'ensemble des instructions en instructions \"assembleur\".\n",
    "# ...\n",
    "# 3) Le code compilé est ensuite exécuté.\n",
    "\n",
    "# language interprété :\n",
    "# 1) On écrit des instructions. Exemple : \"c = 0; c += 1;\"\n",
    "# 2) On exécute les instructions directement en traduisant à la volée chacune des instructions une à une."
   ]
  },
  {
   "cell_type": "code",
   "execution_count": 10,
   "id": "98230a36-f246-4e84-b51a-e21c9649b29f",
   "metadata": {},
   "outputs": [],
   "source": [
    "# language compilé : moins flexible, plus rapide\n",
    "# language interprété : plus flexible, moins rapide"
   ]
  },
  {
   "cell_type": "code",
   "execution_count": 11,
   "id": "59f893fc-2b6c-482d-897e-7a0b46d11d76",
   "metadata": {},
   "outputs": [],
   "source": [
    "class Dog:\n",
    "    def __init__(self, name, age):\n",
    "        self.name = name\n",
    "        self.age = age\n",
    "        \n",
    "    def bark_two_words(self, word1, word2):\n",
    "        print(f'{self.name}, who is {self.age} years old, barks : \"{word1 + word2}\".')"
   ]
  },
  {
   "cell_type": "code",
   "execution_count": 12,
   "id": "dfe5b8a4-652c-4edb-bb22-0caa7c5b42c2",
   "metadata": {},
   "outputs": [],
   "source": [
    "dog = Dog('brutus', 5)"
   ]
  },
  {
   "cell_type": "code",
   "execution_count": 13,
   "id": "91cf7bf4-995c-435f-abaf-899e085bd24e",
   "metadata": {},
   "outputs": [
    {
     "data": {
      "text/plain": [
       "<__main__.Dog at 0x10abbfb80>"
      ]
     },
     "execution_count": 13,
     "metadata": {},
     "output_type": "execute_result"
    }
   ],
   "source": [
    "dog"
   ]
  },
  {
   "cell_type": "code",
   "execution_count": 14,
   "id": "f47aa520-7e25-47e0-9138-beac3de495b3",
   "metadata": {},
   "outputs": [
    {
     "name": "stdout",
     "output_type": "stream",
     "text": [
      "brutus, who is 5 years old, barks : \"woofwaaf\".\n"
     ]
    }
   ],
   "source": [
    "dog.bark_two_words('woof', 'waaf')"
   ]
  },
  {
   "cell_type": "code",
   "execution_count": 15,
   "id": "0e2a5572-e776-4fa7-979e-8052c242bd85",
   "metadata": {},
   "outputs": [
    {
     "name": "stdout",
     "output_type": "stream",
     "text": [
      "brutus, who is 5 years old, barks : \"7\".\n"
     ]
    }
   ],
   "source": [
    "dog.bark_two_words(3, 4)"
   ]
  },
  {
   "cell_type": "code",
   "execution_count": 16,
   "id": "5ac0d7a8-cf77-44d5-935f-4fcbaba4fa8e",
   "metadata": {},
   "outputs": [],
   "source": [
    "# duck typing"
   ]
  },
  {
   "cell_type": "code",
   "execution_count": 17,
   "id": "53d4a967-95cc-4269-9569-a71bd9b8deed",
   "metadata": {},
   "outputs": [
    {
     "ename": "TypeError",
     "evalue": "can only concatenate str (not \"int\") to str",
     "output_type": "error",
     "traceback": [
      "\u001b[0;31m---------------------------------------------------------------------------\u001b[0m",
      "\u001b[0;31mTypeError\u001b[0m                                 Traceback (most recent call last)",
      "\u001b[0;32m/var/folders/yh/8wtmx8jd1n540jp1kgvkwm5w0000gp/T/ipykernel_15214/2423571735.py\u001b[0m in \u001b[0;36m<module>\u001b[0;34m\u001b[0m\n\u001b[0;32m----> 1\u001b[0;31m \u001b[0mdog\u001b[0m\u001b[0;34m.\u001b[0m\u001b[0mbark_two_words\u001b[0m\u001b[0;34m(\u001b[0m\u001b[0;34m'woof'\u001b[0m\u001b[0;34m,\u001b[0m \u001b[0;36m4\u001b[0m\u001b[0;34m)\u001b[0m\u001b[0;34m\u001b[0m\u001b[0;34m\u001b[0m\u001b[0m\n\u001b[0m",
      "\u001b[0;32m/var/folders/yh/8wtmx8jd1n540jp1kgvkwm5w0000gp/T/ipykernel_15214/1074304818.py\u001b[0m in \u001b[0;36mbark_two_words\u001b[0;34m(self, word1, word2)\u001b[0m\n\u001b[1;32m      5\u001b[0m \u001b[0;34m\u001b[0m\u001b[0m\n\u001b[1;32m      6\u001b[0m     \u001b[0;32mdef\u001b[0m \u001b[0mbark_two_words\u001b[0m\u001b[0;34m(\u001b[0m\u001b[0mself\u001b[0m\u001b[0;34m,\u001b[0m \u001b[0mword1\u001b[0m\u001b[0;34m,\u001b[0m \u001b[0mword2\u001b[0m\u001b[0;34m)\u001b[0m\u001b[0;34m:\u001b[0m\u001b[0;34m\u001b[0m\u001b[0;34m\u001b[0m\u001b[0m\n\u001b[0;32m----> 7\u001b[0;31m         \u001b[0mprint\u001b[0m\u001b[0;34m(\u001b[0m\u001b[0;34mf'{self.name}, who is {self.age} years old, barks : \"{word1 + word2}\".'\u001b[0m\u001b[0;34m)\u001b[0m\u001b[0;34m\u001b[0m\u001b[0;34m\u001b[0m\u001b[0m\n\u001b[0m",
      "\u001b[0;31mTypeError\u001b[0m: can only concatenate str (not \"int\") to str"
     ]
    }
   ],
   "source": [
    "dog.bark_two_words('woof', 4)"
   ]
  },
  {
   "cell_type": "code",
   "execution_count": 19,
   "id": "c5318006-fd01-4bd7-8fc3-bb93ddeb7773",
   "metadata": {},
   "outputs": [],
   "source": [
    "# 3ème type d'erreurs = erreurs de compilation (pas en python)"
   ]
  },
  {
   "cell_type": "code",
   "execution_count": 20,
   "id": "135e0bda-e4cf-42fc-9988-ed5616528a52",
   "metadata": {},
   "outputs": [
    {
     "ename": "NameError",
     "evalue": "name 'kqjhdu' is not defined",
     "output_type": "error",
     "traceback": [
      "\u001b[0;31m---------------------------------------------------------------------------\u001b[0m",
      "\u001b[0;31mNameError\u001b[0m                                 Traceback (most recent call last)",
      "\u001b[0;32m/var/folders/yh/8wtmx8jd1n540jp1kgvkwm5w0000gp/T/ipykernel_15214/451659326.py\u001b[0m in \u001b[0;36m<module>\u001b[0;34m\u001b[0m\n\u001b[0;32m----> 1\u001b[0;31m \u001b[0mprint\u001b[0m\u001b[0;34m(\u001b[0m\u001b[0mkqjhdu\u001b[0m\u001b[0;34m)\u001b[0m\u001b[0;34m\u001b[0m\u001b[0;34m\u001b[0m\u001b[0m\n\u001b[0m",
      "\u001b[0;31mNameError\u001b[0m: name 'kqjhdu' is not defined"
     ]
    }
   ],
   "source": [
    "print(kqjhdu)"
   ]
  },
  {
   "cell_type": "code",
   "execution_count": 21,
   "id": "8fad1485-2f78-4f9b-80f4-d078946e228f",
   "metadata": {},
   "outputs": [
    {
     "ename": "AttributeError",
     "evalue": "'Dog' object has no attribute 'breed'",
     "output_type": "error",
     "traceback": [
      "\u001b[0;31m---------------------------------------------------------------------------\u001b[0m",
      "\u001b[0;31mAttributeError\u001b[0m                            Traceback (most recent call last)",
      "\u001b[0;32m/var/folders/yh/8wtmx8jd1n540jp1kgvkwm5w0000gp/T/ipykernel_15214/1630859774.py\u001b[0m in \u001b[0;36m<module>\u001b[0;34m\u001b[0m\n\u001b[0;32m----> 1\u001b[0;31m \u001b[0mdog\u001b[0m\u001b[0;34m.\u001b[0m\u001b[0mbreed\u001b[0m\u001b[0;34m\u001b[0m\u001b[0;34m\u001b[0m\u001b[0m\n\u001b[0m",
      "\u001b[0;31mAttributeError\u001b[0m: 'Dog' object has no attribute 'breed'"
     ]
    }
   ],
   "source": [
    "dog.breed"
   ]
  },
  {
   "cell_type": "code",
   "execution_count": 25,
   "id": "735c2ce9-fd2e-484b-80fd-8fb8c0353e5d",
   "metadata": {},
   "outputs": [
    {
     "ename": "AttributeError",
     "evalue": "'Dog' object has no attribute 'parent'",
     "output_type": "error",
     "traceback": [
      "\u001b[0;31m---------------------------------------------------------------------------\u001b[0m",
      "\u001b[0;31mAttributeError\u001b[0m                            Traceback (most recent call last)",
      "\u001b[0;32m/var/folders/yh/8wtmx8jd1n540jp1kgvkwm5w0000gp/T/ipykernel_15214/485456867.py\u001b[0m in \u001b[0;36m<module>\u001b[0;34m\u001b[0m\n\u001b[0;32m----> 1\u001b[0;31m \u001b[0mdog\u001b[0m\u001b[0;34m.\u001b[0m\u001b[0mparent\u001b[0m\u001b[0;34m\u001b[0m\u001b[0;34m\u001b[0m\u001b[0m\n\u001b[0m",
      "\u001b[0;31mAttributeError\u001b[0m: 'Dog' object has no attribute 'parent'"
     ]
    }
   ],
   "source": [
    "dog.parent"
   ]
  },
  {
   "cell_type": "code",
   "execution_count": 26,
   "id": "cbc96a6f-3641-4661-8323-f85dc7a6e301",
   "metadata": {},
   "outputs": [],
   "source": [
    "import math"
   ]
  },
  {
   "cell_type": "code",
   "execution_count": 27,
   "id": "7a101abf-4e05-426b-9923-d50ea1241a3b",
   "metadata": {},
   "outputs": [
    {
     "ename": "ValueError",
     "evalue": "math domain error",
     "output_type": "error",
     "traceback": [
      "\u001b[0;31m---------------------------------------------------------------------------\u001b[0m",
      "\u001b[0;31mValueError\u001b[0m                                Traceback (most recent call last)",
      "\u001b[0;32m/var/folders/yh/8wtmx8jd1n540jp1kgvkwm5w0000gp/T/ipykernel_15214/1680458443.py\u001b[0m in \u001b[0;36m<module>\u001b[0;34m\u001b[0m\n\u001b[0;32m----> 1\u001b[0;31m \u001b[0mmath\u001b[0m\u001b[0;34m.\u001b[0m\u001b[0msqrt\u001b[0m\u001b[0;34m(\u001b[0m\u001b[0;34m-\u001b[0m\u001b[0;36m2\u001b[0m\u001b[0;34m)\u001b[0m\u001b[0;34m\u001b[0m\u001b[0;34m\u001b[0m\u001b[0m\n\u001b[0m",
      "\u001b[0;31mValueError\u001b[0m: math domain error"
     ]
    }
   ],
   "source": [
    "math.sqrt(-2)"
   ]
  },
  {
   "cell_type": "code",
   "execution_count": 28,
   "id": "15a67ff6-41b6-43d9-90c0-32cf6e1df3ee",
   "metadata": {},
   "outputs": [
    {
     "data": {
      "text/plain": [
       "2.0"
      ]
     },
     "execution_count": 28,
     "metadata": {},
     "output_type": "execute_result"
    }
   ],
   "source": [
    "math.sqrt(4)"
   ]
  },
  {
   "cell_type": "code",
   "execution_count": 31,
   "id": "bb51cdeb-3b26-431a-ba96-d5d76efbe737",
   "metadata": {},
   "outputs": [],
   "source": [
    "def add(a, b):\n",
    "    return a + 1 / b\n",
    "\n",
    "def complex_add(a, b):\n",
    "    return add(a, b) - add (a, -b)\n",
    "\n",
    "def dummy_fn(s):\n",
    "    return s + str(complex_add(len(s), len(s) - 2))"
   ]
  },
  {
   "cell_type": "code",
   "execution_count": 32,
   "id": "1c6bb50b-7692-4c12-9030-901465aa27dd",
   "metadata": {},
   "outputs": [
    {
     "data": {
      "text/plain": [
       "'yoo2.0'"
      ]
     },
     "execution_count": 32,
     "metadata": {},
     "output_type": "execute_result"
    }
   ],
   "source": [
    "dummy_fn('yoo')"
   ]
  },
  {
   "cell_type": "code",
   "execution_count": 33,
   "id": "fff9e470-77e0-41ce-964e-035b721a1b05",
   "metadata": {},
   "outputs": [
    {
     "ename": "ZeroDivisionError",
     "evalue": "division by zero",
     "output_type": "error",
     "traceback": [
      "\u001b[0;31m---------------------------------------------------------------------------\u001b[0m",
      "\u001b[0;31mZeroDivisionError\u001b[0m                         Traceback (most recent call last)",
      "\u001b[0;32m/var/folders/yh/8wtmx8jd1n540jp1kgvkwm5w0000gp/T/ipykernel_15214/738715808.py\u001b[0m in \u001b[0;36m<module>\u001b[0;34m\u001b[0m\n\u001b[0;32m----> 1\u001b[0;31m \u001b[0mdummy_fn\u001b[0m\u001b[0;34m(\u001b[0m\u001b[0;34m'yo'\u001b[0m\u001b[0;34m)\u001b[0m\u001b[0;34m\u001b[0m\u001b[0;34m\u001b[0m\u001b[0m\n\u001b[0m",
      "\u001b[0;32m/var/folders/yh/8wtmx8jd1n540jp1kgvkwm5w0000gp/T/ipykernel_15214/2695628108.py\u001b[0m in \u001b[0;36mdummy_fn\u001b[0;34m(s)\u001b[0m\n\u001b[1;32m      6\u001b[0m \u001b[0;34m\u001b[0m\u001b[0m\n\u001b[1;32m      7\u001b[0m \u001b[0;32mdef\u001b[0m \u001b[0mdummy_fn\u001b[0m\u001b[0;34m(\u001b[0m\u001b[0ms\u001b[0m\u001b[0;34m)\u001b[0m\u001b[0;34m:\u001b[0m\u001b[0;34m\u001b[0m\u001b[0;34m\u001b[0m\u001b[0m\n\u001b[0;32m----> 8\u001b[0;31m     \u001b[0;32mreturn\u001b[0m \u001b[0ms\u001b[0m \u001b[0;34m+\u001b[0m \u001b[0mstr\u001b[0m\u001b[0;34m(\u001b[0m\u001b[0mcomplex_add\u001b[0m\u001b[0;34m(\u001b[0m\u001b[0mlen\u001b[0m\u001b[0;34m(\u001b[0m\u001b[0ms\u001b[0m\u001b[0;34m)\u001b[0m\u001b[0;34m,\u001b[0m \u001b[0mlen\u001b[0m\u001b[0;34m(\u001b[0m\u001b[0ms\u001b[0m\u001b[0;34m)\u001b[0m \u001b[0;34m-\u001b[0m \u001b[0;36m2\u001b[0m\u001b[0;34m)\u001b[0m\u001b[0;34m)\u001b[0m\u001b[0;34m\u001b[0m\u001b[0;34m\u001b[0m\u001b[0m\n\u001b[0m",
      "\u001b[0;32m/var/folders/yh/8wtmx8jd1n540jp1kgvkwm5w0000gp/T/ipykernel_15214/2695628108.py\u001b[0m in \u001b[0;36mcomplex_add\u001b[0;34m(a, b)\u001b[0m\n\u001b[1;32m      3\u001b[0m \u001b[0;34m\u001b[0m\u001b[0m\n\u001b[1;32m      4\u001b[0m \u001b[0;32mdef\u001b[0m \u001b[0mcomplex_add\u001b[0m\u001b[0;34m(\u001b[0m\u001b[0ma\u001b[0m\u001b[0;34m,\u001b[0m \u001b[0mb\u001b[0m\u001b[0;34m)\u001b[0m\u001b[0;34m:\u001b[0m\u001b[0;34m\u001b[0m\u001b[0;34m\u001b[0m\u001b[0m\n\u001b[0;32m----> 5\u001b[0;31m     \u001b[0;32mreturn\u001b[0m \u001b[0madd\u001b[0m\u001b[0;34m(\u001b[0m\u001b[0ma\u001b[0m\u001b[0;34m,\u001b[0m \u001b[0mb\u001b[0m\u001b[0;34m)\u001b[0m \u001b[0;34m-\u001b[0m \u001b[0madd\u001b[0m \u001b[0;34m(\u001b[0m\u001b[0ma\u001b[0m\u001b[0;34m,\u001b[0m \u001b[0;34m-\u001b[0m\u001b[0mb\u001b[0m\u001b[0;34m)\u001b[0m\u001b[0;34m\u001b[0m\u001b[0;34m\u001b[0m\u001b[0m\n\u001b[0m\u001b[1;32m      6\u001b[0m \u001b[0;34m\u001b[0m\u001b[0m\n\u001b[1;32m      7\u001b[0m \u001b[0;32mdef\u001b[0m \u001b[0mdummy_fn\u001b[0m\u001b[0;34m(\u001b[0m\u001b[0ms\u001b[0m\u001b[0;34m)\u001b[0m\u001b[0;34m:\u001b[0m\u001b[0;34m\u001b[0m\u001b[0;34m\u001b[0m\u001b[0m\n",
      "\u001b[0;32m/var/folders/yh/8wtmx8jd1n540jp1kgvkwm5w0000gp/T/ipykernel_15214/2695628108.py\u001b[0m in \u001b[0;36madd\u001b[0;34m(a, b)\u001b[0m\n\u001b[1;32m      1\u001b[0m \u001b[0;32mdef\u001b[0m \u001b[0madd\u001b[0m\u001b[0;34m(\u001b[0m\u001b[0ma\u001b[0m\u001b[0;34m,\u001b[0m \u001b[0mb\u001b[0m\u001b[0;34m)\u001b[0m\u001b[0;34m:\u001b[0m\u001b[0;34m\u001b[0m\u001b[0;34m\u001b[0m\u001b[0m\n\u001b[0;32m----> 2\u001b[0;31m     \u001b[0;32mreturn\u001b[0m \u001b[0ma\u001b[0m \u001b[0;34m+\u001b[0m \u001b[0;36m1\u001b[0m \u001b[0;34m/\u001b[0m \u001b[0mb\u001b[0m\u001b[0;34m\u001b[0m\u001b[0;34m\u001b[0m\u001b[0m\n\u001b[0m\u001b[1;32m      3\u001b[0m \u001b[0;34m\u001b[0m\u001b[0m\n\u001b[1;32m      4\u001b[0m \u001b[0;32mdef\u001b[0m \u001b[0mcomplex_add\u001b[0m\u001b[0;34m(\u001b[0m\u001b[0ma\u001b[0m\u001b[0;34m,\u001b[0m \u001b[0mb\u001b[0m\u001b[0;34m)\u001b[0m\u001b[0;34m:\u001b[0m\u001b[0;34m\u001b[0m\u001b[0;34m\u001b[0m\u001b[0m\n\u001b[1;32m      5\u001b[0m     \u001b[0;32mreturn\u001b[0m \u001b[0madd\u001b[0m\u001b[0;34m(\u001b[0m\u001b[0ma\u001b[0m\u001b[0;34m,\u001b[0m \u001b[0mb\u001b[0m\u001b[0;34m)\u001b[0m \u001b[0;34m-\u001b[0m \u001b[0madd\u001b[0m \u001b[0;34m(\u001b[0m\u001b[0ma\u001b[0m\u001b[0;34m,\u001b[0m \u001b[0;34m-\u001b[0m\u001b[0mb\u001b[0m\u001b[0;34m)\u001b[0m\u001b[0;34m\u001b[0m\u001b[0;34m\u001b[0m\u001b[0m\n",
      "\u001b[0;31mZeroDivisionError\u001b[0m: division by zero"
     ]
    }
   ],
   "source": [
    "dummy_fn('yo')"
   ]
  },
  {
   "cell_type": "code",
   "execution_count": 41,
   "id": "d001fafa-9f2c-47c7-b9be-2d0e02729885",
   "metadata": {},
   "outputs": [
    {
     "name": "stdout",
     "output_type": "stream",
     "text": [
      "{\n",
      "\n"
     ]
    }
   ],
   "source": [
    "with open('regex.ipynb') as f:\n",
    "    for line in f:\n",
    "        print(line)\n",
    "        break"
   ]
  },
  {
   "cell_type": "code",
   "execution_count": 45,
   "id": "c6ee1a75-922f-4fee-a4c1-6fe2e374ad06",
   "metadata": {},
   "outputs": [],
   "source": [
    "def file_process(n):\n",
    "    with open('regex.ipynb') as f:\n",
    "        i = 1\n",
    "        for line in f:\n",
    "            if i % 100 == 0:\n",
    "                print(line + str(1 / n))\n",
    "            i += 1"
   ]
  },
  {
   "cell_type": "code",
   "execution_count": 46,
   "id": "bed33e33-8859-4b66-87ca-aea79d35eec2",
   "metadata": {},
   "outputs": [
    {
     "name": "stdout",
     "output_type": "stream",
     "text": [
      "   ]\n",
      "0.3333333333333333\n",
      "  {\n",
      "0.3333333333333333\n",
      "   ]\n",
      "0.3333333333333333\n",
      "   \"outputs\": [],\n",
      "0.3333333333333333\n",
      "   \"id\": \"0da064bd-ddfb-4959-8a1b-313c6ff03b80\",\n",
      "0.3333333333333333\n",
      "   \"cell_type\": \"code\",\n",
      "0.3333333333333333\n",
      "   ],\n",
      "0.3333333333333333\n",
      "   \"id\": \"ff652d5d-ddef-45d8-8c7c-adfae564c545\",\n",
      "0.3333333333333333\n",
      "  {\n",
      "0.3333333333333333\n"
     ]
    }
   ],
   "source": [
    "file_process(3)"
   ]
  },
  {
   "cell_type": "code",
   "execution_count": 47,
   "id": "efe13e8c-48d1-4e9e-aa67-d14650b1d14b",
   "metadata": {},
   "outputs": [
    {
     "ename": "ZeroDivisionError",
     "evalue": "division by zero",
     "output_type": "error",
     "traceback": [
      "\u001b[0;31m---------------------------------------------------------------------------\u001b[0m",
      "\u001b[0;31mZeroDivisionError\u001b[0m                         Traceback (most recent call last)",
      "\u001b[0;32m/var/folders/yh/8wtmx8jd1n540jp1kgvkwm5w0000gp/T/ipykernel_15214/2948345841.py\u001b[0m in \u001b[0;36m<module>\u001b[0;34m\u001b[0m\n\u001b[0;32m----> 1\u001b[0;31m \u001b[0mfile_process\u001b[0m\u001b[0;34m(\u001b[0m\u001b[0;36m0\u001b[0m\u001b[0;34m)\u001b[0m\u001b[0;34m\u001b[0m\u001b[0;34m\u001b[0m\u001b[0m\n\u001b[0m",
      "\u001b[0;32m/var/folders/yh/8wtmx8jd1n540jp1kgvkwm5w0000gp/T/ipykernel_15214/2381457808.py\u001b[0m in \u001b[0;36mfile_process\u001b[0;34m(n)\u001b[0m\n\u001b[1;32m      4\u001b[0m         \u001b[0;32mfor\u001b[0m \u001b[0mline\u001b[0m \u001b[0;32min\u001b[0m \u001b[0mf\u001b[0m\u001b[0;34m:\u001b[0m\u001b[0;34m\u001b[0m\u001b[0;34m\u001b[0m\u001b[0m\n\u001b[1;32m      5\u001b[0m             \u001b[0;32mif\u001b[0m \u001b[0mi\u001b[0m \u001b[0;34m%\u001b[0m \u001b[0;36m100\u001b[0m \u001b[0;34m==\u001b[0m \u001b[0;36m0\u001b[0m\u001b[0;34m:\u001b[0m\u001b[0;34m\u001b[0m\u001b[0;34m\u001b[0m\u001b[0m\n\u001b[0;32m----> 6\u001b[0;31m                 \u001b[0mprint\u001b[0m\u001b[0;34m(\u001b[0m\u001b[0mline\u001b[0m \u001b[0;34m+\u001b[0m \u001b[0mstr\u001b[0m\u001b[0;34m(\u001b[0m\u001b[0;36m1\u001b[0m \u001b[0;34m/\u001b[0m \u001b[0mn\u001b[0m\u001b[0;34m)\u001b[0m\u001b[0;34m)\u001b[0m\u001b[0;34m\u001b[0m\u001b[0;34m\u001b[0m\u001b[0m\n\u001b[0m\u001b[1;32m      7\u001b[0m             \u001b[0mi\u001b[0m \u001b[0;34m+=\u001b[0m \u001b[0;36m1\u001b[0m\u001b[0;34m\u001b[0m\u001b[0;34m\u001b[0m\u001b[0m\n",
      "\u001b[0;31mZeroDivisionError\u001b[0m: division by zero"
     ]
    }
   ],
   "source": [
    "file_process(0)"
   ]
  },
  {
   "cell_type": "code",
   "execution_count": 59,
   "id": "01952144-562b-485a-80a7-8d129485aeec",
   "metadata": {},
   "outputs": [],
   "source": [
    "def file_process(n):\n",
    "    if n == 0:\n",
    "        raise ValueError(\"jm says division by zero\")\n",
    "    with open('regex.ipynb') as f:\n",
    "        i = 1\n",
    "        for line in f:\n",
    "            if i % 100 == 0:\n",
    "                print(line + str(1 / n))\n",
    "            i += 1"
   ]
  },
  {
   "cell_type": "code",
   "execution_count": 60,
   "id": "ede4a6a4-0b95-4cd3-85d4-016544cacd55",
   "metadata": {},
   "outputs": [
    {
     "ename": "ValueError",
     "evalue": "jm says division by zero",
     "output_type": "error",
     "traceback": [
      "\u001b[0;31m---------------------------------------------------------------------------\u001b[0m",
      "\u001b[0;31mValueError\u001b[0m                                Traceback (most recent call last)",
      "\u001b[0;32m/var/folders/yh/8wtmx8jd1n540jp1kgvkwm5w0000gp/T/ipykernel_15214/2948345841.py\u001b[0m in \u001b[0;36m<module>\u001b[0;34m\u001b[0m\n\u001b[0;32m----> 1\u001b[0;31m \u001b[0mfile_process\u001b[0m\u001b[0;34m(\u001b[0m\u001b[0;36m0\u001b[0m\u001b[0;34m)\u001b[0m\u001b[0;34m\u001b[0m\u001b[0;34m\u001b[0m\u001b[0m\n\u001b[0m",
      "\u001b[0;32m/var/folders/yh/8wtmx8jd1n540jp1kgvkwm5w0000gp/T/ipykernel_15214/2072353847.py\u001b[0m in \u001b[0;36mfile_process\u001b[0;34m(n)\u001b[0m\n\u001b[1;32m      1\u001b[0m \u001b[0;32mdef\u001b[0m \u001b[0mfile_process\u001b[0m\u001b[0;34m(\u001b[0m\u001b[0mn\u001b[0m\u001b[0;34m)\u001b[0m\u001b[0;34m:\u001b[0m\u001b[0;34m\u001b[0m\u001b[0;34m\u001b[0m\u001b[0m\n\u001b[1;32m      2\u001b[0m     \u001b[0;32mif\u001b[0m \u001b[0mn\u001b[0m \u001b[0;34m==\u001b[0m \u001b[0;36m0\u001b[0m\u001b[0;34m:\u001b[0m\u001b[0;34m\u001b[0m\u001b[0;34m\u001b[0m\u001b[0m\n\u001b[0;32m----> 3\u001b[0;31m         \u001b[0;32mraise\u001b[0m \u001b[0mValueError\u001b[0m\u001b[0;34m(\u001b[0m\u001b[0;34m\"jm says division by zero\"\u001b[0m\u001b[0;34m)\u001b[0m\u001b[0;34m\u001b[0m\u001b[0;34m\u001b[0m\u001b[0m\n\u001b[0m\u001b[1;32m      4\u001b[0m     \u001b[0;32mwith\u001b[0m \u001b[0mopen\u001b[0m\u001b[0;34m(\u001b[0m\u001b[0;34m'regex.ipynb'\u001b[0m\u001b[0;34m)\u001b[0m \u001b[0;32mas\u001b[0m \u001b[0mf\u001b[0m\u001b[0;34m:\u001b[0m\u001b[0;34m\u001b[0m\u001b[0;34m\u001b[0m\u001b[0m\n\u001b[1;32m      5\u001b[0m         \u001b[0mi\u001b[0m \u001b[0;34m=\u001b[0m \u001b[0;36m1\u001b[0m\u001b[0;34m\u001b[0m\u001b[0;34m\u001b[0m\u001b[0m\n",
      "\u001b[0;31mValueError\u001b[0m: jm says division by zero"
     ]
    }
   ],
   "source": [
    "file_process(0)"
   ]
  },
  {
   "cell_type": "code",
   "execution_count": 50,
   "id": "0a80c287-9db0-481c-803d-16a2ddc783bf",
   "metadata": {},
   "outputs": [],
   "source": [
    "# test-driven development"
   ]
  },
  {
   "cell_type": "code",
   "execution_count": 61,
   "id": "74b2cdcc-7fbd-4e14-957d-2c1cd49e62ab",
   "metadata": {},
   "outputs": [],
   "source": [
    "# error handling"
   ]
  },
  {
   "cell_type": "code",
   "execution_count": 67,
   "id": "b1f719e9-9de1-44f0-8de4-120cc54cb369",
   "metadata": {},
   "outputs": [],
   "source": [
    "import random"
   ]
  },
  {
   "cell_type": "code",
   "execution_count": 74,
   "id": "3a0ac68f-17f8-4f60-b1ad-acbb52229713",
   "metadata": {},
   "outputs": [],
   "source": [
    "def file_process(n):\n",
    "    if n == 0:\n",
    "        raise ValueError(\"jm says division by zero\")\n",
    "    with open('regex.ipynb') as f:\n",
    "        i = 1\n",
    "        for line in f:\n",
    "            if i % 100 == 0:\n",
    "                print(i)\n",
    "                try:\n",
    "                    if random.random() > 0.5:\n",
    "                        print(line + str(1 / 0))\n",
    "                    else:\n",
    "                        print(line + str(1 / n))\n",
    "                except Exception as e:\n",
    "                    print('caught an error')\n",
    "                    print(e)\n",
    "                    print(i)\n",
    "                    print(n)\n",
    "                    print(line)\n",
    "                print('-------')\n",
    "            i += 1"
   ]
  },
  {
   "cell_type": "code",
   "execution_count": 72,
   "id": "ea5429b5-257b-49c2-aced-4f8cdeb53554",
   "metadata": {},
   "outputs": [
    {
     "ename": "ValueError",
     "evalue": "jm says division by zero",
     "output_type": "error",
     "traceback": [
      "\u001b[0;31m---------------------------------------------------------------------------\u001b[0m",
      "\u001b[0;31mValueError\u001b[0m                                Traceback (most recent call last)",
      "\u001b[0;32m/var/folders/yh/8wtmx8jd1n540jp1kgvkwm5w0000gp/T/ipykernel_15214/2948345841.py\u001b[0m in \u001b[0;36m<module>\u001b[0;34m\u001b[0m\n\u001b[0;32m----> 1\u001b[0;31m \u001b[0mfile_process\u001b[0m\u001b[0;34m(\u001b[0m\u001b[0;36m0\u001b[0m\u001b[0;34m)\u001b[0m\u001b[0;34m\u001b[0m\u001b[0;34m\u001b[0m\u001b[0m\n\u001b[0m",
      "\u001b[0;32m/var/folders/yh/8wtmx8jd1n540jp1kgvkwm5w0000gp/T/ipykernel_15214/2995024828.py\u001b[0m in \u001b[0;36mfile_process\u001b[0;34m(n)\u001b[0m\n\u001b[1;32m      1\u001b[0m \u001b[0;32mdef\u001b[0m \u001b[0mfile_process\u001b[0m\u001b[0;34m(\u001b[0m\u001b[0mn\u001b[0m\u001b[0;34m)\u001b[0m\u001b[0;34m:\u001b[0m\u001b[0;34m\u001b[0m\u001b[0;34m\u001b[0m\u001b[0m\n\u001b[1;32m      2\u001b[0m     \u001b[0;32mif\u001b[0m \u001b[0mn\u001b[0m \u001b[0;34m==\u001b[0m \u001b[0;36m0\u001b[0m\u001b[0;34m:\u001b[0m\u001b[0;34m\u001b[0m\u001b[0;34m\u001b[0m\u001b[0m\n\u001b[0;32m----> 3\u001b[0;31m         \u001b[0;32mraise\u001b[0m \u001b[0mValueError\u001b[0m\u001b[0;34m(\u001b[0m\u001b[0;34m\"jm says division by zero\"\u001b[0m\u001b[0;34m)\u001b[0m\u001b[0;34m\u001b[0m\u001b[0;34m\u001b[0m\u001b[0m\n\u001b[0m\u001b[1;32m      4\u001b[0m     \u001b[0;32mwith\u001b[0m \u001b[0mopen\u001b[0m\u001b[0;34m(\u001b[0m\u001b[0;34m'regex.ipynb'\u001b[0m\u001b[0;34m)\u001b[0m \u001b[0;32mas\u001b[0m \u001b[0mf\u001b[0m\u001b[0;34m:\u001b[0m\u001b[0;34m\u001b[0m\u001b[0;34m\u001b[0m\u001b[0m\n\u001b[1;32m      5\u001b[0m         \u001b[0mi\u001b[0m \u001b[0;34m=\u001b[0m \u001b[0;36m1\u001b[0m\u001b[0;34m\u001b[0m\u001b[0;34m\u001b[0m\u001b[0m\n",
      "\u001b[0;31mValueError\u001b[0m: jm says division by zero"
     ]
    }
   ],
   "source": [
    "file_process(0)"
   ]
  },
  {
   "cell_type": "code",
   "execution_count": 75,
   "id": "7c64c8c7-6c3d-40ff-b997-c9c10e183dc5",
   "metadata": {},
   "outputs": [
    {
     "name": "stdout",
     "output_type": "stream",
     "text": [
      "100\n",
      "caught an error\n",
      "division by zero\n",
      "100\n",
      "3\n",
      "   ]\n",
      "\n",
      "-------\n",
      "200\n",
      "  {\n",
      "0.3333333333333333\n",
      "-------\n",
      "300\n",
      "   ]\n",
      "0.3333333333333333\n",
      "-------\n",
      "400\n",
      "   \"outputs\": [],\n",
      "0.3333333333333333\n",
      "-------\n",
      "500\n",
      "caught an error\n",
      "division by zero\n",
      "500\n",
      "3\n",
      "   \"id\": \"0da064bd-ddfb-4959-8a1b-313c6ff03b80\",\n",
      "\n",
      "-------\n",
      "600\n",
      "   \"cell_type\": \"code\",\n",
      "0.3333333333333333\n",
      "-------\n",
      "700\n",
      "caught an error\n",
      "division by zero\n",
      "700\n",
      "3\n",
      "   ],\n",
      "\n",
      "-------\n",
      "800\n",
      "   \"id\": \"ff652d5d-ddef-45d8-8c7c-adfae564c545\",\n",
      "0.3333333333333333\n",
      "-------\n",
      "900\n",
      "caught an error\n",
      "division by zero\n",
      "900\n",
      "3\n",
      "  {\n",
      "\n",
      "-------\n"
     ]
    }
   ],
   "source": [
    "file_process(3)"
   ]
  },
  {
   "cell_type": "code",
   "execution_count": 66,
   "id": "5f920464-70e2-4502-a892-a47972992c54",
   "metadata": {},
   "outputs": [
    {
     "data": {
      "text/plain": [
       "0.13713968437837343"
      ]
     },
     "execution_count": 66,
     "metadata": {},
     "output_type": "execute_result"
    }
   ],
   "source": [
    "import random\n",
    "random.random()"
   ]
  },
  {
   "cell_type": "code",
   "execution_count": 76,
   "id": "57dccf34-c12d-48ea-9e0f-5f2ca22f275a",
   "metadata": {},
   "outputs": [
    {
     "name": "stdout",
     "output_type": "stream",
     "text": [
      "got an error\n"
     ]
    }
   ],
   "source": [
    "try:\n",
    "    f = open('regex.ipynb')\n",
    "    i = 1\n",
    "    for line in f:\n",
    "        if i % 100 == 0:\n",
    "            print(line + str(1/0))\n",
    "        i += 1\n",
    "except:\n",
    "    print('got an error')"
   ]
  },
  {
   "cell_type": "code",
   "execution_count": 77,
   "id": "30d776fb-3ba8-415b-bc84-6aeb7ad27450",
   "metadata": {},
   "outputs": [],
   "source": [
    "f.close()"
   ]
  },
  {
   "cell_type": "code",
   "execution_count": 78,
   "id": "3cff0e94-f9e1-4e68-a686-3d95fc250635",
   "metadata": {},
   "outputs": [
    {
     "name": "stdout",
     "output_type": "stream",
     "text": [
      "{\n",
      "\n"
     ]
    }
   ],
   "source": [
    "with open('regex.ipynb') as f:\n",
    "    print(next(f))"
   ]
  },
  {
   "cell_type": "code",
   "execution_count": 81,
   "id": "c3f7acb3-f4ff-4afc-81a1-37c184dca420",
   "metadata": {},
   "outputs": [
    {
     "name": "stdout",
     "output_type": "stream",
     "text": [
      "   ]\n",
      "0.5\n",
      "  {\n",
      "0.5\n",
      "   ]\n",
      "0.5\n",
      "   \"outputs\": [],\n",
      "0.5\n",
      "   \"id\": \"0da064bd-ddfb-4959-8a1b-313c6ff03b80\",\n",
      "0.5\n",
      "   \"cell_type\": \"code\",\n",
      "0.5\n",
      "   ],\n",
      "0.5\n",
      "   \"id\": \"ff652d5d-ddef-45d8-8c7c-adfae564c545\",\n",
      "0.5\n",
      "  {\n",
      "0.5\n",
      "executed\n"
     ]
    }
   ],
   "source": [
    "try:\n",
    "    f = open('regex.ipynb')\n",
    "    i = 1\n",
    "    for line in f:\n",
    "        if i % 100 == 0:\n",
    "            print(line + str(1/2))\n",
    "        i += 1\n",
    "except:\n",
    "    print('got an error')\n",
    "finally:\n",
    "    print('executed')\n",
    "    f.close()"
   ]
  },
  {
   "cell_type": "code",
   "execution_count": 88,
   "id": "431f1f5d-6050-45d9-b503-cc134d7ffb90",
   "metadata": {},
   "outputs": [
    {
     "name": "stdout",
     "output_type": "stream",
     "text": [
      "executed\n"
     ]
    },
    {
     "ename": "ModuleNotFoundError",
     "evalue": "No module named 'qldhlzdi'",
     "output_type": "error",
     "traceback": [
      "\u001b[0;31m---------------------------------------------------------------------------\u001b[0m",
      "\u001b[0;31mModuleNotFoundError\u001b[0m                       Traceback (most recent call last)",
      "\u001b[0;32m/var/folders/yh/8wtmx8jd1n540jp1kgvkwm5w0000gp/T/ipykernel_15214/3161957754.py\u001b[0m in \u001b[0;36m<module>\u001b[0;34m\u001b[0m\n\u001b[1;32m      1\u001b[0m \u001b[0;32mtry\u001b[0m\u001b[0;34m:\u001b[0m\u001b[0;34m\u001b[0m\u001b[0;34m\u001b[0m\u001b[0m\n\u001b[0;32m----> 2\u001b[0;31m     \u001b[0;32mimport\u001b[0m \u001b[0mqldhlzdi\u001b[0m\u001b[0;34m\u001b[0m\u001b[0;34m\u001b[0m\u001b[0m\n\u001b[0m\u001b[1;32m      3\u001b[0m     \u001b[0mprint\u001b[0m\u001b[0;34m(\u001b[0m\u001b[0mjfq\u001b[0m\u001b[0;34m)\u001b[0m\u001b[0;34m\u001b[0m\u001b[0;34m\u001b[0m\u001b[0m\n\u001b[1;32m      4\u001b[0m     \u001b[0mf\u001b[0m \u001b[0;34m=\u001b[0m \u001b[0mopen\u001b[0m\u001b[0;34m(\u001b[0m\u001b[0;34m'regex.ipynb'\u001b[0m\u001b[0;34m)\u001b[0m\u001b[0;34m\u001b[0m\u001b[0;34m\u001b[0m\u001b[0m\n\u001b[1;32m      5\u001b[0m     \u001b[0mi\u001b[0m \u001b[0;34m=\u001b[0m \u001b[0;36m1\u001b[0m\u001b[0;34m\u001b[0m\u001b[0;34m\u001b[0m\u001b[0m\n",
      "\u001b[0;31mModuleNotFoundError\u001b[0m: No module named 'qldhlzdi'"
     ]
    }
   ],
   "source": [
    "try:\n",
    "    import qldhlzdi\n",
    "    print(jfq)\n",
    "    f = open('regex.ipynb')\n",
    "    i = 1\n",
    "    for line in f:\n",
    "        if i % 100 == 0:\n",
    "            print(line + str(1/0))\n",
    "        i += 1\n",
    "except ZeroDivisionError:\n",
    "    print('got a zero division error')\n",
    "except NameError:\n",
    "    print('got a name error')\n",
    "else:\n",
    "    print('success... but we still gotta close the file')\n",
    "    f.close()\n",
    "finally:\n",
    "    print('executed')\n",
    "    f.close()"
   ]
  },
  {
   "cell_type": "code",
   "execution_count": null,
   "id": "79c50600-0338-4081-9e22-809d565371dd",
   "metadata": {},
   "outputs": [],
   "source": []
  }
 ],
 "metadata": {
  "kernelspec": {
   "display_name": "Python 3 (ipykernel)",
   "language": "python",
   "name": "python3"
  },
  "language_info": {
   "codemirror_mode": {
    "name": "ipython",
    "version": 3
   },
   "file_extension": ".py",
   "mimetype": "text/x-python",
   "name": "python",
   "nbconvert_exporter": "python",
   "pygments_lexer": "ipython3",
   "version": "3.9.0"
  }
 },
 "nbformat": 4,
 "nbformat_minor": 5
}
