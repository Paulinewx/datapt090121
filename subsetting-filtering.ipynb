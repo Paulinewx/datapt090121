{
 "cells": [
  {
   "cell_type": "code",
   "execution_count": 1,
   "id": "b04a8612-4682-48b4-808c-e1970dd3acc1",
   "metadata": {},
   "outputs": [],
   "source": [
    "s = [1, 9, -3, 6, 7, 10000, -3]"
   ]
  },
  {
   "cell_type": "code",
   "execution_count": 3,
   "id": "b7bb1548-ee25-4f21-8194-3aaf3a914b34",
   "metadata": {},
   "outputs": [],
   "source": [
    "# 3ème quartile (Q3) (75% des valeurs à gauche, 25% des valeurs à droite) ?"
   ]
  },
  {
   "cell_type": "code",
   "execution_count": 4,
   "id": "0722d5ed-206f-4cc9-a65c-63552dcb408c",
   "metadata": {},
   "outputs": [],
   "source": [
    "s = [-3, -3, 1, 6, 7, 9, 10000]"
   ]
  },
  {
   "cell_type": "code",
   "execution_count": 5,
   "id": "12f37379-4aac-4c47-8558-0fd587dbb2f1",
   "metadata": {},
   "outputs": [],
   "source": [
    "# Q2 = médiane = 6"
   ]
  },
  {
   "cell_type": "code",
   "execution_count": 7,
   "id": "b66e4c85-1e1c-44cb-980a-392b5002e350",
   "metadata": {},
   "outputs": [
    {
     "data": {
      "text/plain": [
       "5.25"
      ]
     },
     "execution_count": 7,
     "metadata": {},
     "output_type": "execute_result"
    }
   ],
   "source": [
    "len(s) * 0.75"
   ]
  },
  {
   "cell_type": "code",
   "execution_count": 8,
   "id": "83f11b3c-cd02-4f9e-a463-ef01ec75f519",
   "metadata": {},
   "outputs": [],
   "source": [
    "# Q3 = (7 + 9) / 2 = 8"
   ]
  },
  {
   "cell_type": "code",
   "execution_count": 9,
   "id": "668a251b-3e32-476f-bb11-1ab4e8a86aab",
   "metadata": {},
   "outputs": [
    {
     "data": {
      "text/plain": [
       "8.0"
      ]
     },
     "execution_count": 9,
     "metadata": {},
     "output_type": "execute_result"
    }
   ],
   "source": [
    "(s[4] + s[5]) / 2"
   ]
  },
  {
   "cell_type": "code",
   "execution_count": 10,
   "id": "c3fbc010-1ea9-4889-a25d-ab60b605f6db",
   "metadata": {},
   "outputs": [],
   "source": [
    "# moyenne"
   ]
  },
  {
   "cell_type": "code",
   "execution_count": 11,
   "id": "334a2271-0905-471b-a1b8-3a495dc1a397",
   "metadata": {},
   "outputs": [
    {
     "data": {
      "text/plain": [
       "1431.0"
      ]
     },
     "execution_count": 11,
     "metadata": {},
     "output_type": "execute_result"
    }
   ],
   "source": [
    "sum(s) / len(s)"
   ]
  },
  {
   "cell_type": "code",
   "execution_count": 12,
   "id": "88cdb4ff-cef0-4787-8041-70496726e81c",
   "metadata": {},
   "outputs": [],
   "source": [
    "# une technique pour enlever les outliers :\n",
    "# enlever les valeurs qui sont à gauche de Q1 - 1.5*IQR\n",
    "# enlever les valeurs qui sont à droite de Q3 + 1.5*IQR\n",
    "# IQR = Inter Quartile Range (Ecart Inter Quartile)\n",
    "# IQR = Q3 - Q1"
   ]
  },
  {
   "cell_type": "code",
   "execution_count": 13,
   "id": "99b280d2-30c7-436e-b087-0cedd326bafe",
   "metadata": {},
   "outputs": [],
   "source": [
    "# écart type de s ? \n",
    "s = [1, 9, -3, 6, 7, 10000, -3]"
   ]
  },
  {
   "cell_type": "code",
   "execution_count": 14,
   "id": "29de2e5d-cb2e-4fd5-89de-af56864791a1",
   "metadata": {},
   "outputs": [],
   "source": [
    "# écart type = racine carrée de la moyenne des déviations par rapport à la moyenne au carré"
   ]
  },
  {
   "cell_type": "code",
   "execution_count": 15,
   "id": "c6cb1e08-01ec-48ea-9d10-900baa09a27e",
   "metadata": {},
   "outputs": [],
   "source": [
    "m = sum(s) / len(s)"
   ]
  },
  {
   "cell_type": "code",
   "execution_count": 16,
   "id": "948fc021-d031-4b3b-a66e-e50169f160e2",
   "metadata": {},
   "outputs": [
    {
     "data": {
      "text/plain": [
       "1431.0"
      ]
     },
     "execution_count": 16,
     "metadata": {},
     "output_type": "execute_result"
    }
   ],
   "source": [
    "m"
   ]
  },
  {
   "cell_type": "code",
   "execution_count": 17,
   "id": "db516f63-1ce5-4add-b944-666092cc53f9",
   "metadata": {},
   "outputs": [],
   "source": [
    "dev = [(x - m)**2 for x in s]"
   ]
  },
  {
   "cell_type": "code",
   "execution_count": 18,
   "id": "4c7ee096-2d25-4219-92f5-66f8a2b4505a",
   "metadata": {},
   "outputs": [
    {
     "data": {
      "text/plain": [
       "[2044900.0, 2022084.0, 2056356.0, 2030625.0, 2027776.0, 73427761.0, 2056356.0]"
      ]
     },
     "execution_count": 18,
     "metadata": {},
     "output_type": "execute_result"
    }
   ],
   "source": [
    "dev"
   ]
  },
  {
   "cell_type": "code",
   "execution_count": 21,
   "id": "92a72dbb-3b5f-4b41-817c-c6c9cb1cdb1a",
   "metadata": {},
   "outputs": [],
   "source": [
    "import math"
   ]
  },
  {
   "cell_type": "code",
   "execution_count": 22,
   "id": "343eb1c0-9450-4283-afb3-2569fefaef7e",
   "metadata": {},
   "outputs": [
    {
     "data": {
      "text/plain": [
       "3498.2823948740493"
      ]
     },
     "execution_count": 22,
     "metadata": {},
     "output_type": "execute_result"
    }
   ],
   "source": [
    "math.sqrt(sum(dev) / len(dev))"
   ]
  },
  {
   "cell_type": "code",
   "execution_count": 23,
   "id": "8363406a-5275-4a93-925c-0f5b4db942e6",
   "metadata": {},
   "outputs": [
    {
     "data": {
      "text/plain": [
       "1.75"
      ]
     },
     "execution_count": 23,
     "metadata": {},
     "output_type": "execute_result"
    }
   ],
   "source": [
    "len(s) * 0.25"
   ]
  },
  {
   "cell_type": "code",
   "execution_count": 24,
   "id": "256093c4-694d-45d0-9b9d-6aaea9543106",
   "metadata": {},
   "outputs": [
    {
     "data": {
      "text/plain": [
       "5.0"
      ]
     },
     "execution_count": 24,
     "metadata": {},
     "output_type": "execute_result"
    }
   ],
   "source": [
    "(s[0] + s[1]) / 2"
   ]
  },
  {
   "cell_type": "code",
   "execution_count": 25,
   "id": "83cc21af-bd6d-462b-ba41-0a49a1014572",
   "metadata": {},
   "outputs": [],
   "source": [
    "IQR = 8 - 5"
   ]
  },
  {
   "cell_type": "code",
   "execution_count": 26,
   "id": "eee489af-6d80-421d-b8d6-fabb57eac11f",
   "metadata": {},
   "outputs": [
    {
     "data": {
      "text/plain": [
       "3"
      ]
     },
     "execution_count": 26,
     "metadata": {},
     "output_type": "execute_result"
    }
   ],
   "source": [
    "IQR"
   ]
  },
  {
   "cell_type": "code",
   "execution_count": 27,
   "id": "42e40d35-c936-4bc0-aacf-41c6d6762f3e",
   "metadata": {},
   "outputs": [],
   "source": [
    "import pandas as pd"
   ]
  },
  {
   "cell_type": "code",
   "execution_count": 28,
   "id": "c832ad9c-976a-41e5-8395-5717ddc628a1",
   "metadata": {},
   "outputs": [],
   "source": [
    "animals_df = pd.read_csv('animals.csv')"
   ]
  },
  {
   "cell_type": "code",
   "execution_count": 29,
   "id": "105493cc-2269-4113-b9a4-4fc82837e6ce",
   "metadata": {},
   "outputs": [
    {
     "data": {
      "text/html": [
       "<div>\n",
       "<style scoped>\n",
       "    .dataframe tbody tr th:only-of-type {\n",
       "        vertical-align: middle;\n",
       "    }\n",
       "\n",
       "    .dataframe tbody tr th {\n",
       "        vertical-align: top;\n",
       "    }\n",
       "\n",
       "    .dataframe thead th {\n",
       "        text-align: right;\n",
       "    }\n",
       "</style>\n",
       "<table border=\"1\" class=\"dataframe\">\n",
       "  <thead>\n",
       "    <tr style=\"text-align: right;\">\n",
       "      <th></th>\n",
       "      <th>brainwt</th>\n",
       "      <th>bodywt</th>\n",
       "      <th>animal</th>\n",
       "    </tr>\n",
       "  </thead>\n",
       "  <tbody>\n",
       "    <tr>\n",
       "      <th>0</th>\n",
       "      <td>3.385</td>\n",
       "      <td>44.500</td>\n",
       "      <td>Arctic_fox</td>\n",
       "    </tr>\n",
       "    <tr>\n",
       "      <th>1</th>\n",
       "      <td>0.480</td>\n",
       "      <td>15.499</td>\n",
       "      <td>Owl_monkey</td>\n",
       "    </tr>\n",
       "    <tr>\n",
       "      <th>2</th>\n",
       "      <td>1.350</td>\n",
       "      <td>8.100</td>\n",
       "      <td>Beaver</td>\n",
       "    </tr>\n",
       "    <tr>\n",
       "      <th>3</th>\n",
       "      <td>464.983</td>\n",
       "      <td>423.012</td>\n",
       "      <td>Cow</td>\n",
       "    </tr>\n",
       "    <tr>\n",
       "      <th>4</th>\n",
       "      <td>36.328</td>\n",
       "      <td>119.498</td>\n",
       "      <td>Gray_wolf</td>\n",
       "    </tr>\n",
       "  </tbody>\n",
       "</table>\n",
       "</div>"
      ],
      "text/plain": [
       "   brainwt   bodywt      animal\n",
       "0    3.385   44.500  Arctic_fox\n",
       "1    0.480   15.499  Owl_monkey\n",
       "2    1.350    8.100      Beaver\n",
       "3  464.983  423.012         Cow\n",
       "4   36.328  119.498   Gray_wolf"
      ]
     },
     "execution_count": 29,
     "metadata": {},
     "output_type": "execute_result"
    }
   ],
   "source": [
    "animals_df.head()"
   ]
  },
  {
   "cell_type": "code",
   "execution_count": 30,
   "id": "26df655b-215f-4c20-b0e2-0cf5d8f5164c",
   "metadata": {},
   "outputs": [
    {
     "name": "stdout",
     "output_type": "stream",
     "text": [
      "<class 'pandas.core.frame.DataFrame'>\n",
      "RangeIndex: 62 entries, 0 to 61\n",
      "Data columns (total 3 columns):\n",
      " #   Column   Non-Null Count  Dtype  \n",
      "---  ------   --------------  -----  \n",
      " 0   brainwt  62 non-null     float64\n",
      " 1   bodywt   62 non-null     float64\n",
      " 2   animal   62 non-null     object \n",
      "dtypes: float64(2), object(1)\n",
      "memory usage: 1.6+ KB\n"
     ]
    }
   ],
   "source": [
    "animals_df.info()"
   ]
  },
  {
   "cell_type": "code",
   "execution_count": 31,
   "id": "7fda334a-4d18-4c62-80b4-570ac7c4f012",
   "metadata": {},
   "outputs": [
    {
     "data": {
      "text/html": [
       "<div>\n",
       "<style scoped>\n",
       "    .dataframe tbody tr th:only-of-type {\n",
       "        vertical-align: middle;\n",
       "    }\n",
       "\n",
       "    .dataframe tbody tr th {\n",
       "        vertical-align: top;\n",
       "    }\n",
       "\n",
       "    .dataframe thead th {\n",
       "        text-align: right;\n",
       "    }\n",
       "</style>\n",
       "<table border=\"1\" class=\"dataframe\">\n",
       "  <thead>\n",
       "    <tr style=\"text-align: right;\">\n",
       "      <th></th>\n",
       "      <th>brainwt</th>\n",
       "      <th>bodywt</th>\n",
       "    </tr>\n",
       "  </thead>\n",
       "  <tbody>\n",
       "    <tr>\n",
       "      <th>count</th>\n",
       "      <td>62.000000</td>\n",
       "      <td>62.000000</td>\n",
       "    </tr>\n",
       "    <tr>\n",
       "      <th>mean</th>\n",
       "      <td>198.794290</td>\n",
       "      <td>283.135355</td>\n",
       "    </tr>\n",
       "    <tr>\n",
       "      <th>std</th>\n",
       "      <td>899.182313</td>\n",
       "      <td>930.278876</td>\n",
       "    </tr>\n",
       "    <tr>\n",
       "      <th>min</th>\n",
       "      <td>0.005000</td>\n",
       "      <td>0.140000</td>\n",
       "    </tr>\n",
       "    <tr>\n",
       "      <th>25%</th>\n",
       "      <td>0.600000</td>\n",
       "      <td>4.250000</td>\n",
       "    </tr>\n",
       "    <tr>\n",
       "      <th>50%</th>\n",
       "      <td>3.342500</td>\n",
       "      <td>17.250000</td>\n",
       "    </tr>\n",
       "    <tr>\n",
       "      <th>75%</th>\n",
       "      <td>48.201250</td>\n",
       "      <td>165.998250</td>\n",
       "    </tr>\n",
       "    <tr>\n",
       "      <th>max</th>\n",
       "      <td>6654.180000</td>\n",
       "      <td>5711.860000</td>\n",
       "    </tr>\n",
       "  </tbody>\n",
       "</table>\n",
       "</div>"
      ],
      "text/plain": [
       "           brainwt       bodywt\n",
       "count    62.000000    62.000000\n",
       "mean    198.794290   283.135355\n",
       "std     899.182313   930.278876\n",
       "min       0.005000     0.140000\n",
       "25%       0.600000     4.250000\n",
       "50%       3.342500    17.250000\n",
       "75%      48.201250   165.998250\n",
       "max    6654.180000  5711.860000"
      ]
     },
     "execution_count": 31,
     "metadata": {},
     "output_type": "execute_result"
    }
   ],
   "source": [
    "animals_df.describe()"
   ]
  },
  {
   "cell_type": "code",
   "execution_count": 39,
   "id": "5a53b9a9-0e81-4ba2-96f7-9e34d6c38a60",
   "metadata": {},
   "outputs": [
    {
     "data": {
      "text/html": [
       "<div>\n",
       "<style scoped>\n",
       "    .dataframe tbody tr th:only-of-type {\n",
       "        vertical-align: middle;\n",
       "    }\n",
       "\n",
       "    .dataframe tbody tr th {\n",
       "        vertical-align: top;\n",
       "    }\n",
       "\n",
       "    .dataframe thead th {\n",
       "        text-align: right;\n",
       "    }\n",
       "</style>\n",
       "<table border=\"1\" class=\"dataframe\">\n",
       "  <thead>\n",
       "    <tr style=\"text-align: right;\">\n",
       "      <th></th>\n",
       "      <th>bodywt</th>\n",
       "      <th>animal</th>\n",
       "    </tr>\n",
       "  </thead>\n",
       "  <tbody>\n",
       "    <tr>\n",
       "      <th>1</th>\n",
       "      <td>15.499</td>\n",
       "      <td>Owl_monkey</td>\n",
       "    </tr>\n",
       "    <tr>\n",
       "      <th>2</th>\n",
       "      <td>8.100</td>\n",
       "      <td>Beaver</td>\n",
       "    </tr>\n",
       "    <tr>\n",
       "      <th>3</th>\n",
       "      <td>423.012</td>\n",
       "      <td>Cow</td>\n",
       "    </tr>\n",
       "    <tr>\n",
       "      <th>4</th>\n",
       "      <td>119.498</td>\n",
       "      <td>Gray_wolf</td>\n",
       "    </tr>\n",
       "    <tr>\n",
       "      <th>5</th>\n",
       "      <td>114.996</td>\n",
       "      <td>Goat</td>\n",
       "    </tr>\n",
       "  </tbody>\n",
       "</table>\n",
       "</div>"
      ],
      "text/plain": [
       "    bodywt      animal\n",
       "1   15.499  Owl_monkey\n",
       "2    8.100      Beaver\n",
       "3  423.012         Cow\n",
       "4  119.498   Gray_wolf\n",
       "5  114.996        Goat"
      ]
     },
     "execution_count": 39,
     "metadata": {},
     "output_type": "execute_result"
    }
   ],
   "source": [
    "animals_df.iloc[1:6, 1:3]"
   ]
  },
  {
   "cell_type": "code",
   "execution_count": 42,
   "id": "c1d2f5fd-b1d0-47ac-83fa-be79c98e6f97",
   "metadata": {},
   "outputs": [
    {
     "data": {
      "text/html": [
       "<div>\n",
       "<style scoped>\n",
       "    .dataframe tbody tr th:only-of-type {\n",
       "        vertical-align: middle;\n",
       "    }\n",
       "\n",
       "    .dataframe tbody tr th {\n",
       "        vertical-align: top;\n",
       "    }\n",
       "\n",
       "    .dataframe thead th {\n",
       "        text-align: right;\n",
       "    }\n",
       "</style>\n",
       "<table border=\"1\" class=\"dataframe\">\n",
       "  <thead>\n",
       "    <tr style=\"text-align: right;\">\n",
       "      <th></th>\n",
       "      <th>bodywt</th>\n",
       "      <th>animal</th>\n",
       "    </tr>\n",
       "  </thead>\n",
       "  <tbody>\n",
       "    <tr>\n",
       "      <th>1</th>\n",
       "      <td>15.499</td>\n",
       "      <td>Owl_monkey</td>\n",
       "    </tr>\n",
       "    <tr>\n",
       "      <th>2</th>\n",
       "      <td>8.100</td>\n",
       "      <td>Beaver</td>\n",
       "    </tr>\n",
       "    <tr>\n",
       "      <th>3</th>\n",
       "      <td>423.012</td>\n",
       "      <td>Cow</td>\n",
       "    </tr>\n",
       "    <tr>\n",
       "      <th>4</th>\n",
       "      <td>119.498</td>\n",
       "      <td>Gray_wolf</td>\n",
       "    </tr>\n",
       "    <tr>\n",
       "      <th>5</th>\n",
       "      <td>114.996</td>\n",
       "      <td>Goat</td>\n",
       "    </tr>\n",
       "    <tr>\n",
       "      <th>6</th>\n",
       "      <td>98.199</td>\n",
       "      <td>Roe_deer</td>\n",
       "    </tr>\n",
       "  </tbody>\n",
       "</table>\n",
       "</div>"
      ],
      "text/plain": [
       "    bodywt      animal\n",
       "1   15.499  Owl_monkey\n",
       "2    8.100      Beaver\n",
       "3  423.012         Cow\n",
       "4  119.498   Gray_wolf\n",
       "5  114.996        Goat\n",
       "6   98.199    Roe_deer"
      ]
     },
     "execution_count": 42,
     "metadata": {},
     "output_type": "execute_result"
    }
   ],
   "source": [
    "animals_df.loc[1:6, 'bodywt':'animal']"
   ]
  },
  {
   "cell_type": "code",
   "execution_count": 43,
   "id": "161f3095-8564-4237-ae2b-6b7a1d2bbd7f",
   "metadata": {},
   "outputs": [],
   "source": [
    "animals_df.index = animals_df.animal"
   ]
  },
  {
   "cell_type": "code",
   "execution_count": 54,
   "id": "039d7b7e-df41-4d3c-a881-d256c01fd1bf",
   "metadata": {},
   "outputs": [
    {
     "data": {
      "text/html": [
       "<div>\n",
       "<style scoped>\n",
       "    .dataframe tbody tr th:only-of-type {\n",
       "        vertical-align: middle;\n",
       "    }\n",
       "\n",
       "    .dataframe tbody tr th {\n",
       "        vertical-align: top;\n",
       "    }\n",
       "\n",
       "    .dataframe thead th {\n",
       "        text-align: right;\n",
       "    }\n",
       "</style>\n",
       "<table border=\"1\" class=\"dataframe\">\n",
       "  <thead>\n",
       "    <tr style=\"text-align: right;\">\n",
       "      <th></th>\n",
       "      <th>bodywt</th>\n",
       "      <th>animal</th>\n",
       "    </tr>\n",
       "    <tr>\n",
       "      <th>animal</th>\n",
       "      <th></th>\n",
       "      <th></th>\n",
       "    </tr>\n",
       "  </thead>\n",
       "  <tbody>\n",
       "    <tr>\n",
       "      <th>Owl_monkey</th>\n",
       "      <td>15.499</td>\n",
       "      <td>Owl_monkey</td>\n",
       "    </tr>\n",
       "    <tr>\n",
       "      <th>Beaver</th>\n",
       "      <td>8.100</td>\n",
       "      <td>Beaver</td>\n",
       "    </tr>\n",
       "    <tr>\n",
       "      <th>Cow</th>\n",
       "      <td>423.012</td>\n",
       "      <td>Cow</td>\n",
       "    </tr>\n",
       "    <tr>\n",
       "      <th>Gray_wolf</th>\n",
       "      <td>119.498</td>\n",
       "      <td>Gray_wolf</td>\n",
       "    </tr>\n",
       "    <tr>\n",
       "      <th>Goat</th>\n",
       "      <td>114.996</td>\n",
       "      <td>Goat</td>\n",
       "    </tr>\n",
       "  </tbody>\n",
       "</table>\n",
       "</div>"
      ],
      "text/plain": [
       "             bodywt      animal\n",
       "animal                         \n",
       "Owl_monkey   15.499  Owl_monkey\n",
       "Beaver        8.100      Beaver\n",
       "Cow         423.012         Cow\n",
       "Gray_wolf   119.498   Gray_wolf\n",
       "Goat        114.996        Goat"
      ]
     },
     "execution_count": 54,
     "metadata": {},
     "output_type": "execute_result"
    }
   ],
   "source": [
    "animals_df.loc['Owl_monkey':'Tenrec', animals_df.columns != 'brainwt'].head()"
   ]
  },
  {
   "cell_type": "code",
   "execution_count": 65,
   "id": "5e393029-289a-45d6-9f03-8f6c9ba70383",
   "metadata": {},
   "outputs": [],
   "source": [
    "import numpy as np"
   ]
  },
  {
   "cell_type": "code",
   "execution_count": 67,
   "id": "16a215da-33bb-490a-b586-ef046817519d",
   "metadata": {},
   "outputs": [
    {
     "data": {
      "text/html": [
       "<div>\n",
       "<style scoped>\n",
       "    .dataframe tbody tr th:only-of-type {\n",
       "        vertical-align: middle;\n",
       "    }\n",
       "\n",
       "    .dataframe tbody tr th {\n",
       "        vertical-align: top;\n",
       "    }\n",
       "\n",
       "    .dataframe thead th {\n",
       "        text-align: right;\n",
       "    }\n",
       "</style>\n",
       "<table border=\"1\" class=\"dataframe\">\n",
       "  <thead>\n",
       "    <tr style=\"text-align: right;\">\n",
       "      <th></th>\n",
       "      <th>brainwt</th>\n",
       "      <th>bodywt</th>\n",
       "    </tr>\n",
       "    <tr>\n",
       "      <th>animal</th>\n",
       "      <th></th>\n",
       "      <th></th>\n",
       "    </tr>\n",
       "  </thead>\n",
       "  <tbody>\n",
       "    <tr>\n",
       "      <th>Owl_monkey</th>\n",
       "      <td>0.480</td>\n",
       "      <td>15.499</td>\n",
       "    </tr>\n",
       "    <tr>\n",
       "      <th>Ground_squirrel</th>\n",
       "      <td>0.101</td>\n",
       "      <td>4.000</td>\n",
       "    </tr>\n",
       "    <tr>\n",
       "      <th>Lesser_short-tailed-shrew</th>\n",
       "      <td>0.005</td>\n",
       "      <td>0.140</td>\n",
       "    </tr>\n",
       "    <tr>\n",
       "      <th>Rhesus_monkey</th>\n",
       "      <td>6.800</td>\n",
       "      <td>179.003</td>\n",
       "    </tr>\n",
       "  </tbody>\n",
       "</table>\n",
       "</div>"
      ],
      "text/plain": [
       "                           brainwt   bodywt\n",
       "animal                                     \n",
       "Owl_monkey                   0.480   15.499\n",
       "Ground_squirrel              0.101    4.000\n",
       "Lesser_short-tailed-shrew    0.005    0.140\n",
       "Rhesus_monkey                6.800  179.003"
      ]
     },
     "execution_count": 67,
     "metadata": {},
     "output_type": "execute_result"
    }
   ],
   "source": [
    "animals_df.loc[np.sqrt(animals_df.brainwt / animals_df.bodywt) < 0.2, animals_df.columns != 'animal']"
   ]
  },
  {
   "cell_type": "code",
   "execution_count": 70,
   "id": "f60d8360-6c5f-4642-86b8-5cbd213e98b7",
   "metadata": {},
   "outputs": [
    {
     "data": {
      "text/html": [
       "<div>\n",
       "<style scoped>\n",
       "    .dataframe tbody tr th:only-of-type {\n",
       "        vertical-align: middle;\n",
       "    }\n",
       "\n",
       "    .dataframe tbody tr th {\n",
       "        vertical-align: top;\n",
       "    }\n",
       "\n",
       "    .dataframe thead th {\n",
       "        text-align: right;\n",
       "    }\n",
       "</style>\n",
       "<table border=\"1\" class=\"dataframe\">\n",
       "  <thead>\n",
       "    <tr style=\"text-align: right;\">\n",
       "      <th></th>\n",
       "      <th>brainwt</th>\n",
       "      <th>bodywt</th>\n",
       "      <th>animal</th>\n",
       "    </tr>\n",
       "    <tr>\n",
       "      <th>animal</th>\n",
       "      <th></th>\n",
       "      <th></th>\n",
       "      <th></th>\n",
       "    </tr>\n",
       "  </thead>\n",
       "  <tbody>\n",
       "    <tr>\n",
       "      <th>Owl_monkey</th>\n",
       "      <td>0.48</td>\n",
       "      <td>15.499</td>\n",
       "      <td>Owl_monkey</td>\n",
       "    </tr>\n",
       "    <tr>\n",
       "      <th>Patas_monkey</th>\n",
       "      <td>10.00</td>\n",
       "      <td>114.996</td>\n",
       "      <td>Patas_monkey</td>\n",
       "    </tr>\n",
       "    <tr>\n",
       "      <th>Rhesus_monkey</th>\n",
       "      <td>6.80</td>\n",
       "      <td>179.003</td>\n",
       "      <td>Rhesus_monkey</td>\n",
       "    </tr>\n",
       "  </tbody>\n",
       "</table>\n",
       "</div>"
      ],
      "text/plain": [
       "               brainwt   bodywt         animal\n",
       "animal                                        \n",
       "Owl_monkey        0.48   15.499     Owl_monkey\n",
       "Patas_monkey     10.00  114.996   Patas_monkey\n",
       "Rhesus_monkey     6.80  179.003  Rhesus_monkey"
      ]
     },
     "execution_count": 70,
     "metadata": {},
     "output_type": "execute_result"
    }
   ],
   "source": [
    "animals_df[animals_df.animal.str.endswith('monkey')]"
   ]
  },
  {
   "cell_type": "code",
   "execution_count": 75,
   "id": "a48a14c2-2c64-4ca2-9acc-76ec23d96272",
   "metadata": {},
   "outputs": [
    {
     "name": "stderr",
     "output_type": "stream",
     "text": [
      "/Users/work/.local/share/virtualenvs/datapt090121-u9iSQ8P3/lib/python3.7/site-packages/ipykernel_launcher.py:1: UserWarning: Boolean Series key will be reindexed to match DataFrame index.\n",
      "  \"\"\"Entry point for launching an IPython kernel.\n"
     ]
    },
    {
     "data": {
      "text/html": [
       "<div>\n",
       "<style scoped>\n",
       "    .dataframe tbody tr th:only-of-type {\n",
       "        vertical-align: middle;\n",
       "    }\n",
       "\n",
       "    .dataframe tbody tr th {\n",
       "        vertical-align: top;\n",
       "    }\n",
       "\n",
       "    .dataframe thead th {\n",
       "        text-align: right;\n",
       "    }\n",
       "</style>\n",
       "<table border=\"1\" class=\"dataframe\">\n",
       "  <thead>\n",
       "    <tr style=\"text-align: right;\">\n",
       "      <th></th>\n",
       "      <th>brainwt</th>\n",
       "      <th>bodywt</th>\n",
       "      <th>animal</th>\n",
       "    </tr>\n",
       "    <tr>\n",
       "      <th>animal</th>\n",
       "      <th></th>\n",
       "      <th></th>\n",
       "      <th></th>\n",
       "    </tr>\n",
       "  </thead>\n",
       "  <tbody>\n",
       "    <tr>\n",
       "      <th>Arctic_fox</th>\n",
       "      <td>3.385</td>\n",
       "      <td>44.500</td>\n",
       "      <td>Arctic_fox</td>\n",
       "    </tr>\n",
       "    <tr>\n",
       "      <th>Gray_wolf</th>\n",
       "      <td>36.328</td>\n",
       "      <td>119.498</td>\n",
       "      <td>Gray_wolf</td>\n",
       "    </tr>\n",
       "    <tr>\n",
       "      <th>Roe_deer</th>\n",
       "      <td>14.831</td>\n",
       "      <td>98.199</td>\n",
       "      <td>Roe_deer</td>\n",
       "    </tr>\n",
       "    <tr>\n",
       "      <th>Nine-banded_armadillo</th>\n",
       "      <td>3.500</td>\n",
       "      <td>10.800</td>\n",
       "      <td>Nine-banded_armadillo</td>\n",
       "    </tr>\n",
       "    <tr>\n",
       "      <th>Patas_monkey</th>\n",
       "      <td>10.000</td>\n",
       "      <td>114.996</td>\n",
       "      <td>Patas_monkey</td>\n",
       "    </tr>\n",
       "    <tr>\n",
       "      <th>Water_opossum</th>\n",
       "      <td>3.500</td>\n",
       "      <td>3.900</td>\n",
       "      <td>Water_opossum</td>\n",
       "    </tr>\n",
       "    <tr>\n",
       "      <th>Rhesus_monkey</th>\n",
       "      <td>6.800</td>\n",
       "      <td>179.003</td>\n",
       "      <td>Rhesus_monkey</td>\n",
       "    </tr>\n",
       "    <tr>\n",
       "      <th>Yellow-bellied_marmot</th>\n",
       "      <td>4.050</td>\n",
       "      <td>17.000</td>\n",
       "      <td>Yellow-bellied_marmot</td>\n",
       "    </tr>\n",
       "    <tr>\n",
       "      <th>Giant_armadillo</th>\n",
       "      <td>59.997</td>\n",
       "      <td>80.996</td>\n",
       "      <td>Giant_armadillo</td>\n",
       "    </tr>\n",
       "    <tr>\n",
       "      <th>Rock_hyrax2</th>\n",
       "      <td>3.600</td>\n",
       "      <td>21.000</td>\n",
       "      <td>Rock_hyrax2</td>\n",
       "    </tr>\n",
       "    <tr>\n",
       "      <th>Brazilian_tapir</th>\n",
       "      <td>160.004</td>\n",
       "      <td>169.000</td>\n",
       "      <td>Brazilian_tapir</td>\n",
       "    </tr>\n",
       "    <tr>\n",
       "      <th>Red_fox</th>\n",
       "      <td>4.235</td>\n",
       "      <td>50.400</td>\n",
       "      <td>Red_fox</td>\n",
       "    </tr>\n",
       "  </tbody>\n",
       "</table>\n",
       "</div>"
      ],
      "text/plain": [
       "                       brainwt   bodywt                 animal\n",
       "animal                                                        \n",
       "Arctic_fox               3.385   44.500             Arctic_fox\n",
       "Gray_wolf               36.328  119.498              Gray_wolf\n",
       "Roe_deer                14.831   98.199               Roe_deer\n",
       "Nine-banded_armadillo    3.500   10.800  Nine-banded_armadillo\n",
       "Patas_monkey            10.000  114.996           Patas_monkey\n",
       "Water_opossum            3.500    3.900          Water_opossum\n",
       "Rhesus_monkey            6.800  179.003          Rhesus_monkey\n",
       "Yellow-bellied_marmot    4.050   17.000  Yellow-bellied_marmot\n",
       "Giant_armadillo         59.997   80.996        Giant_armadillo\n",
       "Rock_hyrax2              3.600   21.000            Rock_hyrax2\n",
       "Brazilian_tapir        160.004  169.000        Brazilian_tapir\n",
       "Red_fox                  4.235   50.400                Red_fox"
      ]
     },
     "execution_count": 75,
     "metadata": {},
     "output_type": "execute_result"
    }
   ],
   "source": [
    "animals_df[animals_df.animal.str.contains('_')][animals_df.brainwt > 3][animals_df.bodywt < 300]"
   ]
  },
  {
   "cell_type": "code",
   "execution_count": null,
   "id": "bdab9ee3-0df7-4e4e-b7c7-c4b68bd8e0bd",
   "metadata": {},
   "outputs": [],
   "source": []
  }
 ],
 "metadata": {
  "kernelspec": {
   "display_name": "Python 3 (ipykernel)",
   "language": "python",
   "name": "python3"
  },
  "language_info": {
   "codemirror_mode": {
    "name": "ipython",
    "version": 3
   },
   "file_extension": ".py",
   "mimetype": "text/x-python",
   "name": "python",
   "nbconvert_exporter": "python",
   "pygments_lexer": "ipython3",
   "version": "3.7.9"
  }
 },
 "nbformat": 4,
 "nbformat_minor": 5
}
