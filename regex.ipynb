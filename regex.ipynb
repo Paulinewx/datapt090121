{
 "cells": [
  {
   "cell_type": "code",
   "execution_count": 1,
   "id": "2b07fcbc-d6af-43a2-a5f9-1f8d3a4e7afd",
   "metadata": {},
   "outputs": [],
   "source": [
    "import re"
   ]
  },
  {
   "cell_type": "code",
   "execution_count": 2,
   "id": "7a5e747c-0a9f-4ee8-8124-be0790c06831",
   "metadata": {},
   "outputs": [],
   "source": [
    "a = \"\"\"\n",
    "062638726387263\n",
    "028739286387253\n",
    "kqjdkqzh\n",
    "237287392763\n",
    "\"\"\""
   ]
  },
  {
   "cell_type": "code",
   "execution_count": 5,
   "id": "d1dde7eb-e886-4741-833b-87a353be2acf",
   "metadata": {},
   "outputs": [
    {
     "data": {
      "text/plain": [
       "1"
      ]
     },
     "execution_count": 5,
     "metadata": {},
     "output_type": "execute_result"
    }
   ],
   "source": [
    "a.find('062638726387263')"
   ]
  },
  {
   "cell_type": "code",
   "execution_count": 7,
   "id": "4f3686d2-2545-4572-821b-94704e95052c",
   "metadata": {},
   "outputs": [
    {
     "data": {
      "text/plain": [
       "['062638726387263', '028739286387253', '237287392763']"
      ]
     },
     "execution_count": 7,
     "metadata": {},
     "output_type": "execute_result"
    }
   ],
   "source": [
    "re.findall('\\d+', a)"
   ]
  },
  {
   "cell_type": "code",
   "execution_count": 8,
   "id": "9c0357aa-14b4-4896-a5ea-c4993bb25245",
   "metadata": {},
   "outputs": [],
   "source": [
    "b = \"qkdhkqd qdiqdu oqiduz 087786 lqidqz\""
   ]
  },
  {
   "cell_type": "code",
   "execution_count": 9,
   "id": "3149bc71-e374-4b76-82bb-58439f64d69b",
   "metadata": {},
   "outputs": [
    {
     "data": {
      "text/plain": [
       "[]"
      ]
     },
     "execution_count": 9,
     "metadata": {},
     "output_type": "execute_result"
    }
   ],
   "source": [
    "pattern = 'a'\n",
    "re.findall(pattern, b)"
   ]
  },
  {
   "cell_type": "code",
   "execution_count": 12,
   "id": "2b852b29-db99-4050-a853-4df2a5714aeb",
   "metadata": {},
   "outputs": [
    {
     "data": {
      "text/plain": [
       "['q', 'q', 'q', 'q', 'q', 'q', 'q']"
      ]
     },
     "execution_count": 12,
     "metadata": {},
     "output_type": "execute_result"
    }
   ],
   "source": [
    "pattern = '[abq]'\n",
    "re.findall(pattern, b)"
   ]
  },
  {
   "cell_type": "code",
   "execution_count": 13,
   "id": "9bf419a5-c179-467c-aee1-e2a4bbbf2f4a",
   "metadata": {},
   "outputs": [
    {
     "data": {
      "text/plain": [
       "<re.Match object; span=(0, 1), match='q'>"
      ]
     },
     "execution_count": 13,
     "metadata": {},
     "output_type": "execute_result"
    }
   ],
   "source": [
    "re.search(pattern, b)"
   ]
  },
  {
   "cell_type": "code",
   "execution_count": 14,
   "id": "8b03ac51-fbc5-44fd-9711-76032839da0e",
   "metadata": {},
   "outputs": [
    {
     "name": "stdout",
     "output_type": "stream",
     "text": [
      "found\n"
     ]
    }
   ],
   "source": [
    "if re.search(pattern, b):\n",
    "    print('found')\n",
    "else:\n",
    "    print('not found')"
   ]
  },
  {
   "cell_type": "code",
   "execution_count": 20,
   "id": "69d81789-4343-4399-81e1-8299ed4f636e",
   "metadata": {},
   "outputs": [],
   "source": [
    "# meta character : [] (or), + (1 ou +), * (0 ou + de fois)\n",
    "# character class : \\d, \\w, \\s"
   ]
  },
  {
   "cell_type": "code",
   "execution_count": 16,
   "id": "068c874b-9cd2-49ac-9beb-ce118c4c0c0f",
   "metadata": {},
   "outputs": [
    {
     "data": {
      "text/plain": [
       "['aaa', 'a']"
      ]
     },
     "execution_count": 16,
     "metadata": {},
     "output_type": "execute_result"
    }
   ],
   "source": [
    "c = 'aaa b a'\n",
    "pattern = 'a+'\n",
    "re.findall(pattern, c)"
   ]
  },
  {
   "cell_type": "code",
   "execution_count": 18,
   "id": "b786fb81-a695-4551-b94d-55eaa085f6ab",
   "metadata": {},
   "outputs": [],
   "source": [
    "pattern = 'ca*t'"
   ]
  },
  {
   "cell_type": "code",
   "execution_count": 21,
   "id": "ac4dbeab-ba3d-406e-91a9-0cc74c67d618",
   "metadata": {},
   "outputs": [],
   "source": [
    "d = 'ct cat cst caaaat ca0t'"
   ]
  },
  {
   "cell_type": "code",
   "execution_count": 22,
   "id": "c29623bd-5202-47b7-9a65-238728570a0e",
   "metadata": {},
   "outputs": [
    {
     "data": {
      "text/plain": [
       "['ct', 'cat', 'caaaat']"
      ]
     },
     "execution_count": 22,
     "metadata": {},
     "output_type": "execute_result"
    }
   ],
   "source": [
    "re.findall(pattern, d)"
   ]
  },
  {
   "cell_type": "code",
   "execution_count": 23,
   "id": "812bac4a-bdfd-4f0d-afec-12d28326a4a4",
   "metadata": {},
   "outputs": [],
   "source": [
    "pattern = 'ca+t'"
   ]
  },
  {
   "cell_type": "code",
   "execution_count": 24,
   "id": "ae31b826-9166-4043-8149-a0b7f61954e9",
   "metadata": {},
   "outputs": [
    {
     "data": {
      "text/plain": [
       "['cat', 'caaaat']"
      ]
     },
     "execution_count": 24,
     "metadata": {},
     "output_type": "execute_result"
    }
   ],
   "source": [
    "re.findall(pattern, d)"
   ]
  },
  {
   "cell_type": "code",
   "execution_count": 25,
   "id": "f1656ae1-fa4d-47c7-80aa-23b9a3e6e405",
   "metadata": {},
   "outputs": [],
   "source": [
    "pattern = '[a-z0-7]'"
   ]
  },
  {
   "cell_type": "code",
   "execution_count": 27,
   "id": "21e00f85-202e-4491-adf4-04ed4ff9e2b9",
   "metadata": {},
   "outputs": [],
   "source": [
    "e = 'b 8 b5 Z0'"
   ]
  },
  {
   "cell_type": "code",
   "execution_count": 28,
   "id": "1a63faa0-9bc2-408e-abc6-e01bd9d90e6c",
   "metadata": {},
   "outputs": [],
   "source": [
    "results = ['b', 'b', '5', '0']"
   ]
  },
  {
   "cell_type": "code",
   "execution_count": 32,
   "id": "5c62f604-eeab-4595-9a3c-db25150a2055",
   "metadata": {},
   "outputs": [
    {
     "data": {
      "text/plain": [
       "True"
      ]
     },
     "execution_count": 32,
     "metadata": {},
     "output_type": "execute_result"
    }
   ],
   "source": [
    "results == re.findall(pattern, e)"
   ]
  },
  {
   "cell_type": "code",
   "execution_count": 33,
   "id": "e5a06017-ff5d-4003-9780-d88685e5d7ae",
   "metadata": {},
   "outputs": [],
   "source": [
    "pattern = 'c[A-Z0-9]t'"
   ]
  },
  {
   "cell_type": "code",
   "execution_count": 37,
   "id": "de856294-0851-4375-b5d4-829403c57e21",
   "metadata": {},
   "outputs": [],
   "source": [
    "f = 'ct cat c0At c0at cAAAt cAt'"
   ]
  },
  {
   "cell_type": "code",
   "execution_count": 38,
   "id": "e60e162e-6521-4165-87d2-fcdbf4ec7b8b",
   "metadata": {},
   "outputs": [],
   "source": [
    "results = ['cAt']"
   ]
  },
  {
   "cell_type": "code",
   "execution_count": 39,
   "id": "379dae63-21e1-4a26-9b6b-e2dcb593ffca",
   "metadata": {},
   "outputs": [
    {
     "data": {
      "text/plain": [
       "True"
      ]
     },
     "execution_count": 39,
     "metadata": {},
     "output_type": "execute_result"
    }
   ],
   "source": [
    "re.findall(pattern, f) == results"
   ]
  },
  {
   "cell_type": "code",
   "execution_count": 40,
   "id": "743db632-37f0-4141-9cc3-7693e4d35806",
   "metadata": {},
   "outputs": [
    {
     "data": {
      "text/plain": [
       "['cAt']"
      ]
     },
     "execution_count": 40,
     "metadata": {},
     "output_type": "execute_result"
    }
   ],
   "source": [
    "re.findall(pattern, f)"
   ]
  },
  {
   "cell_type": "code",
   "execution_count": 41,
   "id": "5c65a97b-9e7d-4482-b626-42060e4138b9",
   "metadata": {},
   "outputs": [],
   "source": [
    "pattern = 'c[A-Z0-9]*t'"
   ]
  },
  {
   "cell_type": "code",
   "execution_count": 42,
   "id": "250701b8-fd43-43a3-98e9-6a7de91233b8",
   "metadata": {},
   "outputs": [],
   "source": [
    "g = 'ct cat c0At c0at cAAAt cAt'"
   ]
  },
  {
   "cell_type": "code",
   "execution_count": 43,
   "id": "a315d9e4-c4e5-47a9-9c15-38ec5ee5370a",
   "metadata": {},
   "outputs": [],
   "source": [
    "results = ['ct', 'c0At', 'cAAAt', 'cAt']"
   ]
  },
  {
   "cell_type": "code",
   "execution_count": 44,
   "id": "34e445bf-4e7d-4b1b-b99a-bf45491b38c2",
   "metadata": {},
   "outputs": [
    {
     "data": {
      "text/plain": [
       "['ct', 'c0At', 'cAAAt', 'cAt']"
      ]
     },
     "execution_count": 44,
     "metadata": {},
     "output_type": "execute_result"
    }
   ],
   "source": [
    "re.findall(pattern, g)"
   ]
  },
  {
   "cell_type": "code",
   "execution_count": 49,
   "id": "a8c0005a-f3b1-4d9d-959c-c4242b4bf6e4",
   "metadata": {},
   "outputs": [],
   "source": [
    "pattern = '\\s[^0-9]+\\+'"
   ]
  },
  {
   "cell_type": "code",
   "execution_count": 50,
   "id": "f7088ad7-2cc9-4571-9eaf-9d2de8957750",
   "metadata": {},
   "outputs": [],
   "source": [
    "h = 'kqjdzqkz 0878 lqizud+ qdliu'"
   ]
  },
  {
   "cell_type": "code",
   "execution_count": 51,
   "id": "b9a4b9e5-f75b-4742-a021-76183e4bda80",
   "metadata": {},
   "outputs": [],
   "source": [
    "results = [' lqizud+']"
   ]
  },
  {
   "cell_type": "code",
   "execution_count": 52,
   "id": "0680d49d-439e-48e4-b960-ecb78f68efd6",
   "metadata": {},
   "outputs": [
    {
     "data": {
      "text/plain": [
       "[' lqizud+']"
      ]
     },
     "execution_count": 52,
     "metadata": {},
     "output_type": "execute_result"
    }
   ],
   "source": [
    "re.findall(pattern, h)"
   ]
  },
  {
   "cell_type": "code",
   "execution_count": 54,
   "id": "0da064bd-ddfb-4959-8a1b-313c6ff03b80",
   "metadata": {},
   "outputs": [],
   "source": [
    "i = 'Ceci est un test. Ceci aussi est un test.'"
   ]
  },
  {
   "cell_type": "code",
   "execution_count": 55,
   "id": "25c0c714-0e97-45a9-9cd7-a94809ff6d69",
   "metadata": {},
   "outputs": [],
   "source": [
    "pattern = '^Ceci'"
   ]
  },
  {
   "cell_type": "code",
   "execution_count": 56,
   "id": "f5ef1148-db5f-4397-990c-a5b008ced871",
   "metadata": {},
   "outputs": [
    {
     "data": {
      "text/plain": [
       "['Ceci']"
      ]
     },
     "execution_count": 56,
     "metadata": {},
     "output_type": "execute_result"
    }
   ],
   "source": [
    "re.findall(pattern, i)"
   ]
  },
  {
   "cell_type": "code",
   "execution_count": 60,
   "id": "5b749a3d-b60f-4a5e-871e-926d7f0d21f7",
   "metadata": {},
   "outputs": [],
   "source": [
    "j = '</html>Ceci est un test. </html>'"
   ]
  },
  {
   "cell_type": "code",
   "execution_count": 61,
   "id": "094d9520-20a4-4ec4-8469-f2a71f31a651",
   "metadata": {},
   "outputs": [],
   "source": [
    "pattern = '</html>$'"
   ]
  },
  {
   "cell_type": "code",
   "execution_count": 62,
   "id": "3a118f79-4562-4343-8721-8d29668342d9",
   "metadata": {},
   "outputs": [
    {
     "data": {
      "text/plain": [
       "['</html>']"
      ]
     },
     "execution_count": 62,
     "metadata": {},
     "output_type": "execute_result"
    }
   ],
   "source": [
    "re.findall(pattern, j)"
   ]
  },
  {
   "cell_type": "code",
   "execution_count": 64,
   "id": "efb6b3b5-16cc-49a6-b324-c7de84a0334e",
   "metadata": {},
   "outputs": [],
   "source": [
    "k = 'Ceci est un test. Cesy est un test. Ce n\\'est pas bien.'"
   ]
  },
  {
   "cell_type": "code",
   "execution_count": 71,
   "id": "02b8c6d9-e781-434f-9418-85bd614ccbbc",
   "metadata": {},
   "outputs": [],
   "source": [
    "pattern = 'Ceci|Cesy'"
   ]
  },
  {
   "cell_type": "code",
   "execution_count": 72,
   "id": "92ada0bf-d2d0-4f4f-b3be-80bc6396838a",
   "metadata": {},
   "outputs": [
    {
     "data": {
      "text/plain": [
       "['Ceci', 'Cesy']"
      ]
     },
     "execution_count": 72,
     "metadata": {},
     "output_type": "execute_result"
    }
   ],
   "source": [
    "re.findall(pattern, k)"
   ]
  },
  {
   "cell_type": "code",
   "execution_count": 73,
   "id": "cdbe895e-1ed3-40a9-ae5b-da7475985216",
   "metadata": {},
   "outputs": [],
   "source": [
    "#distance d'édition"
   ]
  },
  {
   "cell_type": "code",
   "execution_count": 75,
   "id": "6c50dc74-ffff-43bc-9d97-9b6e65e64f5d",
   "metadata": {},
   "outputs": [],
   "source": [
    "# abc => ac : 1 (1 suppression)\n",
    "# abc => abbc : 1 (1 ajout)\n",
    "# abc => aec : 1 (1 remplacement)\n",
    "# abc => aeec : 2 (1 remplacement + 1 ajout)"
   ]
  },
  {
   "cell_type": "code",
   "execution_count": 88,
   "id": "e334d91f-428f-43b2-8afe-006f1fef4aba",
   "metadata": {},
   "outputs": [],
   "source": [
    "# quantifieurs : *, +, {n,m} : entre n et m fois, {n,} : au moins n fois, {,m} : au plus m fois\n",
    "# {k} : exactement k fois"
   ]
  },
  {
   "cell_type": "code",
   "execution_count": 83,
   "id": "210eb774-dbb6-46a8-8d58-9fba3f19648f",
   "metadata": {},
   "outputs": [],
   "source": [
    "a = 'caaat caat cat ct caaaaaat'"
   ]
  },
  {
   "cell_type": "code",
   "execution_count": 84,
   "id": "df03dcba-61d7-4f5f-9c57-c56bc97b0c18",
   "metadata": {},
   "outputs": [],
   "source": [
    "pattern = 'ca{1,3}t'"
   ]
  },
  {
   "cell_type": "code",
   "execution_count": 85,
   "id": "511f576c-e767-484a-8083-a74d3f8d99dd",
   "metadata": {},
   "outputs": [],
   "source": [
    "results = ['caaat', 'caat', 'cat']"
   ]
  },
  {
   "cell_type": "code",
   "execution_count": 86,
   "id": "14ed2b22-a6bd-4d2c-9e91-1a02614088ba",
   "metadata": {},
   "outputs": [
    {
     "data": {
      "text/plain": [
       "['caaat', 'caat', 'cat']"
      ]
     },
     "execution_count": 86,
     "metadata": {},
     "output_type": "execute_result"
    }
   ],
   "source": [
    "results"
   ]
  },
  {
   "cell_type": "code",
   "execution_count": 87,
   "id": "0e83b091-4a77-4d78-81c5-51418ab89d2e",
   "metadata": {},
   "outputs": [
    {
     "data": {
      "text/plain": [
       "['caaat', 'caat', 'cat']"
      ]
     },
     "execution_count": 87,
     "metadata": {},
     "output_type": "execute_result"
    }
   ],
   "source": [
    "re.findall(pattern, a)"
   ]
  },
  {
   "cell_type": "code",
   "execution_count": 89,
   "id": "c9bdc3a4-5032-4366-adca-22c0e4fae941",
   "metadata": {},
   "outputs": [],
   "source": [
    "# capturing groups : ()"
   ]
  },
  {
   "cell_type": "code",
   "execution_count": 90,
   "id": "fe94e3d3-c7f8-4a20-a2e4-a9ba16ac9984",
   "metadata": {},
   "outputs": [],
   "source": [
    "text = \"jm@yahoo.fr 0628072920 45, rue des moreaux, Paris\""
   ]
  },
  {
   "cell_type": "code",
   "execution_count": 93,
   "id": "bea07747-5cd2-4f5a-85de-6be0e47248e2",
   "metadata": {},
   "outputs": [],
   "source": [
    "pattern = '(\\w+@\\w+\\.[a-z]{,4})\\s(06\\d{8}|07\\d{8})'"
   ]
  },
  {
   "cell_type": "code",
   "execution_count": 94,
   "id": "b0e17533-91fa-439d-8fd7-262b830a8614",
   "metadata": {},
   "outputs": [
    {
     "data": {
      "text/plain": [
       "[('jm@yahoo.fr', '0628072920')]"
      ]
     },
     "execution_count": 94,
     "metadata": {},
     "output_type": "execute_result"
    }
   ],
   "source": [
    "re.findall(pattern, text)"
   ]
  },
  {
   "cell_type": "code",
   "execution_count": null,
   "id": "0079d5ef-b26d-4ffe-9296-5434502c0c44",
   "metadata": {},
   "outputs": [],
   "source": []
  }
 ],
 "metadata": {
  "kernelspec": {
   "display_name": "Python 3 (ipykernel)",
   "language": "python",
   "name": "python3"
  },
  "language_info": {
   "codemirror_mode": {
    "name": "ipython",
    "version": 3
   },
   "file_extension": ".py",
   "mimetype": "text/x-python",
   "name": "python",
   "nbconvert_exporter": "python",
   "pygments_lexer": "ipython3",
   "version": "3.9.0"
  }
 },
 "nbformat": 4,
 "nbformat_minor": 5
}
