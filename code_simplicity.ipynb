{
 "cells": [
  {
   "cell_type": "code",
   "execution_count": 1,
   "id": "8fd0cd46-9778-4df6-8a67-b5def486f772",
   "metadata": {},
   "outputs": [
    {
     "name": "stdout",
     "output_type": "stream",
     "text": [
      "Welcome to this calculator!\n",
      "It can add and subtract whole numbers from zero to five\n"
     ]
    },
    {
     "name": "stdin",
     "output_type": "stream",
     "text": [
      "Please choose your first number (zero to five):  one\n",
      "What do you want to do? plus or minus:  minus\n",
      "Please choose your second number (zero to five):  two\n"
     ]
    },
    {
     "name": "stdout",
     "output_type": "stream",
     "text": [
      "one minus two equals negative one\n",
      "Thanks for using this calculator, goodbye :)\n"
     ]
    }
   ],
   "source": [
    "\"\"\"\n",
    "This is a dumb calculator that can add and subtract whole numbers from zero to five.\n",
    "When you run the code, you are prompted to enter two numbers (in the form of English\n",
    "word instead of number) and the operator sign (also in the form of English word).\n",
    "The code will perform the calculation and give the result if your input is what it\n",
    "expects.\n",
    "The code is very long and messy. Refactor it according to what you have learned about\n",
    "code simplicity and efficiency.\n",
    "\"\"\"\n",
    "\n",
    "print('Welcome to this calculator!')\n",
    "print('It can add and subtract whole numbers from zero to five')\n",
    "a = input('Please choose your first number (zero to five): ')\n",
    "b = input('What do you want to do? plus or minus: ')\n",
    "c = input('Please choose your second number (zero to five): ')\n",
    "\n",
    "if a == 'zero' and b == 'plus'  and c == 'zero':\n",
    "    print(\"zero plus zero equals zero\")\n",
    "if a == 'zero' and b == 'plus'  and c == 'one':\n",
    "    print(\"zero plus one equals one\")\n",
    "if a == 'zero' and b == 'plus'  and c == 'two':\n",
    "    print(\"zero plus two equals two\")\n",
    "if a == 'zero' and b == 'plus'  and c == 'three':\n",
    "    print(\"zero plus three equals three\")\n",
    "if a == 'zero' and b == 'plus'  and c == 'four':\n",
    "    print(\"zero plus four equals four\")\n",
    "if a == 'zero' and b == 'plus'  and c == 'five':\n",
    "    print(\"zero plus five equals five\")\n",
    "if a == 'one' and b == 'plus'  and c == 'zero':\n",
    "    print(\"one plus zero equals one\")\n",
    "if a == 'one' and b == 'plus'  and c == 'one':\n",
    "    print(\"one plus one equals two\")\n",
    "if a == 'one' and b == 'plus'  and c == 'two':\n",
    "    print(\"one plus two equals three\")\n",
    "if a == 'one' and b == 'plus'  and c == 'three':\n",
    "    print(\"one plus three equals four\")\n",
    "if a == 'one' and b == 'plus'  and c == 'four':\n",
    "    print(\"one plus four equals five\")\n",
    "if a == 'one' and b == 'plus'  and c == 'five':\n",
    "    print(\"one plus five equals six\")\n",
    "if a == 'two' and b == 'plus'  and c == 'zero':\n",
    "    print(\"two plus zero equals two\")\n",
    "if a == 'two' and b == 'plus'  and c == 'one':\n",
    "    print(\"two plus one equals three\")\n",
    "if a == 'two' and b == 'plus'  and c == 'two':\n",
    "    print(\"two plus two equals four\")\n",
    "if a == 'two' and b == 'plus'  and c == 'three':\n",
    "    print(\"two plus three equals five\")\n",
    "if a == 'two' and b == 'plus'  and c == 'four':\n",
    "    print(\"two plus four equals six\")\n",
    "if a == 'two' and b == 'plus'  and c == 'five':\n",
    "    print(\"two plus five equals seven\")\n",
    "if a == 'three' and b == 'plus'  and c == 'zero':\n",
    "    print(\"three plus zero equals three\")\n",
    "if a == 'three' and b == 'plus'  and c == 'one':\n",
    "    print(\"three plus one equals four\")\n",
    "if a == 'three' and b == 'plus'  and c == 'two':\n",
    "    print(\"three plus two equals five\")\n",
    "if a == 'three' and b == 'plus'  and c == 'three':\n",
    "    print(\"three plus three equals six\")\n",
    "if a == 'three' and b == 'plus'  and c == 'four':\n",
    "    print(\"three plus four equals seven\")\n",
    "if a == 'three' and b == 'plus'  and c == 'five':\n",
    "    print(\"three plus five equals eight\")\n",
    "if a == 'four' and b == 'plus'  and c == 'zero':\n",
    "    print(\"four plus zero equals four\")\n",
    "if a == 'four' and b == 'plus'  and c == 'one':\n",
    "    print(\"four plus one equals five\")\n",
    "if a == 'four' and b == 'plus'  and c == 'two':\n",
    "    print(\"four plus two equals six\")\n",
    "if a == 'four' and b == 'plus'  and c == 'three':\n",
    "    print(\"four plus three equals seven\")\n",
    "if a == 'four' and b == 'plus'  and c == 'four':\n",
    "    print(\"four plus four equals eight\")\n",
    "if a == 'four' and b == 'plus'  and c == 'five':\n",
    "    print(\"four plus five equals nine\")\n",
    "if a == 'five' and b == 'plus'  and c == 'zero':\n",
    "    print(\"five plus zero equals five\")\n",
    "if a == 'five' and b == 'plus'  and c == 'one':\n",
    "    print(\"five plus one equals six\")\n",
    "if a == 'five' and b == 'plus'  and c == 'two':\n",
    "    print(\"five plus two equals seven\")\n",
    "if a == 'five' and b == 'plus'  and c == 'three':\n",
    "    print(\"five plus three equals eight\")\n",
    "if a == 'five' and b == 'plus'  and c == 'four':\n",
    "    print(\"five plus four equals nine\")\n",
    "if a == 'five' and b == 'plus'  and c == 'five':\n",
    "    print(\"five plus five equals ten\")\n",
    "\n",
    "\n",
    "if a == 'zero' and b == 'minus' and c == 'zero':\n",
    "    print(\"zero minus zero equals zero\")\n",
    "if a == 'zero' and b == 'minus' and c == 'one':\n",
    "    print(\"zero minus one equals negative one\")\n",
    "if a == 'zero' and b == 'minus' and c == 'two':\n",
    "    print(\"zero minus two equals negative two\")\n",
    "if a == 'zero' and b == 'minus' and c == 'three':\n",
    "    print(\"zero minus three equals negative three\")\n",
    "if a == 'zero' and b == 'minus' and c == 'four':\n",
    "    print(\"zero minus four equals negative four\")\n",
    "if a == 'zero' and b == 'minus' and c == 'five':\n",
    "    print(\"zero minus five equals negative five\")\n",
    "if a == 'one' and b == 'minus' and c == 'zero':\n",
    "    print(\"one minus zero equals one\")\n",
    "if a == 'one' and b == 'minus' and c == 'one':\n",
    "    print(\"one minus one equals zero\")\n",
    "if a == 'one' and b == 'minus' and c == 'two':\n",
    "    print(\"one minus two equals negative one\")\n",
    "if a == 'one' and b == 'minus' and c == 'three':\n",
    "    print(\"one minus three equals negative three\")\n",
    "if a == 'one' and b == 'minus' and c == 'four':\n",
    "    print(\"one minus four equals negative three\")\n",
    "if a == 'one' and b == 'minus' and c == 'five':\n",
    "    print(\"one minus five equals negative four\")\n",
    "if a == 'two' and b == 'minus' and c == 'zero':\n",
    "    print(\"two minus zero equals two\")\n",
    "if a == 'two' and b == 'minus' and c == 'one':\n",
    "    print(\"two minus one equals one\")\n",
    "if a == 'two' and b == 'minus' and c == 'two':\n",
    "    print(\"two minus two equals zero\")\n",
    "if a == 'two' and b == 'minus' and c == 'three':\n",
    "    print(\"two minus three equals negative one\")\n",
    "if a == 'two' and b == 'minus' and c == 'four':\n",
    "    print(\"two minus four equals negative two\")\n",
    "if a == 'two' and b == 'minus' and c == 'five':\n",
    "    print(\"two minus five equals negative three\")\n",
    "if a == 'three' and b == 'minus' and c == 'zero':\n",
    "    print(\"three minus zero equals three\")\n",
    "if a == 'three' and b == 'minus' and c == 'one':\n",
    "    print(\"three minus one equals two\")\n",
    "if a == 'three' and b == 'minus' and c == 'two':\n",
    "    print(\"three minus two equals one\")\n",
    "if a == 'three' and b == 'minus' and c == 'three':\n",
    "    print(\"three minus three equals zero\")\n",
    "if a == 'three' and b == 'minus' and c == 'four':\n",
    "    print(\"three minus four equals negative one\")\n",
    "if a == 'three' and b == 'minus' and c == 'five':\n",
    "    print(\"three minus five equals negative two\")\n",
    "if a == 'four' and b == 'minus' and c == 'zero':\n",
    "    print(\"four minus zero equals four\")\n",
    "if a == 'four' and b == 'minus' and c == 'one':\n",
    "    print(\"four minus one equals three\")\n",
    "if a == 'four' and b == 'minus' and c == 'two':\n",
    "    print(\"four minus two equals two\")\n",
    "if a == 'four' and b == 'minus' and c == 'three':\n",
    "    print(\"four minus three equals one\")\n",
    "if a == 'four' and b == 'minus' and c == 'four':\n",
    "    print(\"four minus four equals zero\")\n",
    "if a == 'four' and b == 'minus' and c == 'five':\n",
    "    print(\"four minus five equals negative one\")\n",
    "if a == 'five' and b == 'minus' and c == 'zero':\n",
    "    print(\"five minus zero equals five\")\n",
    "if a == 'five' and b == 'minus' and c == 'one':\n",
    "    print(\"five minus one equals four\")\n",
    "if a == 'five' and b == 'minus' and c == 'two':\n",
    "    print(\"five minus two equals three\")\n",
    "if a == 'five' and b == 'minus' and c == 'three':\n",
    "    print(\"five minus three equals two\")\n",
    "if a == 'five' and b == 'minus' and c == 'four':\n",
    "    print(\"five minus four equals one\")\n",
    "if a == 'five' and b == 'minus' and c == 'five':\n",
    "    print(\"five minus five equals zero\")\n",
    "\n",
    "\n",
    "if (not a == 'zero' and not a == 'one' and not a == 'two' and not a == 'three' and not a == 'four' and not a == 'five') or (not c == 'zero' and not c == 'one' and not c == 'two' and not c == 'three' and not c == 'four' and not c == 'five') or (not b == 'plus' and not b == 'minus'):\n",
    "    print(\"I am not able to answer this question. Check your input.\")\n",
    "\n",
    "print(\"Thanks for using this calculator, goodbye :)\")"
   ]
  },
  {
   "cell_type": "code",
   "execution_count": 25,
   "id": "fbd34a79-3ea8-431b-9c0f-7d741d7b3642",
   "metadata": {},
   "outputs": [],
   "source": [
    "def number_validator(inp):\n",
    "    try:\n",
    "        inp = int(inp)\n",
    "    except ValueError:\n",
    "        raise ValueError(f'Please insert a whole number. {inp} is not a whole number.')"
   ]
  },
  {
   "cell_type": "code",
   "execution_count": 20,
   "id": "97f94a9e-4d25-4cfd-8800-dec712173306",
   "metadata": {},
   "outputs": [],
   "source": [
    "def operand_validator(inp):\n",
    "    if inp != '+' and inp != '-':\n",
    "        raise ValueError(f'Please insert a + or a -. {inp} is neither.')"
   ]
  },
  {
   "cell_type": "code",
   "execution_count": 30,
   "id": "e158dc7f-8c39-4b89-b2ed-db5d63030a95",
   "metadata": {},
   "outputs": [
    {
     "name": "stdout",
     "output_type": "stream",
     "text": [
      "Welcome to this calculator!\n",
      "It can add and subtract whole numbers from zero to five\n"
     ]
    },
    {
     "name": "stdin",
     "output_type": "stream",
     "text": [
      "Please choose your first number:  976\n",
      "What do you want to do? + or -:  ml\n"
     ]
    },
    {
     "ename": "ValueError",
     "evalue": "Please insert a + or a -. ml is neither.",
     "output_type": "error",
     "traceback": [
      "\u001b[0;31m---------------------------------------------------------------------------\u001b[0m",
      "\u001b[0;31mValueError\u001b[0m                                Traceback (most recent call last)",
      "\u001b[0;32m/var/folders/yh/8wtmx8jd1n540jp1kgvkwm5w0000gp/T/ipykernel_42366/3986944795.py\u001b[0m in \u001b[0;36m<module>\u001b[0;34m\u001b[0m\n\u001b[1;32m      4\u001b[0m \u001b[0mnumber_validator\u001b[0m\u001b[0;34m(\u001b[0m\u001b[0ma\u001b[0m\u001b[0;34m)\u001b[0m\u001b[0;34m\u001b[0m\u001b[0;34m\u001b[0m\u001b[0m\n\u001b[1;32m      5\u001b[0m \u001b[0mb\u001b[0m \u001b[0;34m=\u001b[0m \u001b[0minput\u001b[0m\u001b[0;34m(\u001b[0m\u001b[0;34m'What do you want to do? + or -: '\u001b[0m\u001b[0;34m)\u001b[0m\u001b[0;34m\u001b[0m\u001b[0;34m\u001b[0m\u001b[0m\n\u001b[0;32m----> 6\u001b[0;31m \u001b[0moperand_validator\u001b[0m\u001b[0;34m(\u001b[0m\u001b[0mb\u001b[0m\u001b[0;34m)\u001b[0m\u001b[0;34m\u001b[0m\u001b[0;34m\u001b[0m\u001b[0m\n\u001b[0m\u001b[1;32m      7\u001b[0m \u001b[0mc\u001b[0m \u001b[0;34m=\u001b[0m \u001b[0minput\u001b[0m\u001b[0;34m(\u001b[0m\u001b[0;34m'Please choose your second number: '\u001b[0m\u001b[0;34m)\u001b[0m\u001b[0;34m\u001b[0m\u001b[0;34m\u001b[0m\u001b[0m\n\u001b[1;32m      8\u001b[0m \u001b[0mnumber_validator\u001b[0m\u001b[0;34m(\u001b[0m\u001b[0mc\u001b[0m\u001b[0;34m)\u001b[0m\u001b[0;34m\u001b[0m\u001b[0;34m\u001b[0m\u001b[0m\n",
      "\u001b[0;32m/var/folders/yh/8wtmx8jd1n540jp1kgvkwm5w0000gp/T/ipykernel_42366/3136874479.py\u001b[0m in \u001b[0;36moperand_validator\u001b[0;34m(inp)\u001b[0m\n\u001b[1;32m      1\u001b[0m \u001b[0;32mdef\u001b[0m \u001b[0moperand_validator\u001b[0m\u001b[0;34m(\u001b[0m\u001b[0minp\u001b[0m\u001b[0;34m)\u001b[0m\u001b[0;34m:\u001b[0m\u001b[0;34m\u001b[0m\u001b[0;34m\u001b[0m\u001b[0m\n\u001b[1;32m      2\u001b[0m     \u001b[0;32mif\u001b[0m \u001b[0minp\u001b[0m \u001b[0;34m!=\u001b[0m \u001b[0;34m'+'\u001b[0m \u001b[0;32mand\u001b[0m \u001b[0minp\u001b[0m \u001b[0;34m!=\u001b[0m \u001b[0;34m'-'\u001b[0m\u001b[0;34m:\u001b[0m\u001b[0;34m\u001b[0m\u001b[0;34m\u001b[0m\u001b[0m\n\u001b[0;32m----> 3\u001b[0;31m         \u001b[0;32mraise\u001b[0m \u001b[0mValueError\u001b[0m\u001b[0;34m(\u001b[0m\u001b[0;34mf'Please insert a + or a -. {inp} is neither.'\u001b[0m\u001b[0;34m)\u001b[0m\u001b[0;34m\u001b[0m\u001b[0;34m\u001b[0m\u001b[0m\n\u001b[0m",
      "\u001b[0;31mValueError\u001b[0m: Please insert a + or a -. ml is neither."
     ]
    }
   ],
   "source": [
    "print('Welcome to this calculator!')\n",
    "print('It can add and subtract whole numbers from zero to five')\n",
    "a = input('Please choose your first number: ')\n",
    "number_validator(a)\n",
    "b = input('What do you want to do? + or -: ')\n",
    "operand_validator(b)\n",
    "c = input('Please choose your second number: ')\n",
    "number_validator(c) \n",
    "    \n",
    "print(f'{a} {b} {c} equals {eval(f\"int(a) {b} int(c)\")}')\n",
    "print(\"Thanks for using this calculator, goodbye :)\")"
   ]
  },
  {
   "cell_type": "code",
   "execution_count": 3,
   "id": "091d52f2-fee6-497c-9718-1afb33e26a0c",
   "metadata": {},
   "outputs": [
    {
     "data": {
      "text/plain": [
       "'4'"
      ]
     },
     "execution_count": 3,
     "metadata": {},
     "output_type": "execute_result"
    }
   ],
   "source": [
    "a"
   ]
  },
  {
   "cell_type": "code",
   "execution_count": 4,
   "id": "ec6bd78f-7a01-4cf8-854e-2a039ec6693a",
   "metadata": {},
   "outputs": [
    {
     "data": {
      "text/plain": [
       "'-'"
      ]
     },
     "execution_count": 4,
     "metadata": {},
     "output_type": "execute_result"
    }
   ],
   "source": [
    "b"
   ]
  },
  {
   "cell_type": "code",
   "execution_count": 5,
   "id": "cf9f4d0b-06b6-4611-ada5-33f7c6359797",
   "metadata": {},
   "outputs": [
    {
     "data": {
      "text/plain": [
       "'1'"
      ]
     },
     "execution_count": 5,
     "metadata": {},
     "output_type": "execute_result"
    }
   ],
   "source": [
    "c"
   ]
  },
  {
   "cell_type": "code",
   "execution_count": 6,
   "id": "88e0f093-aa8b-43a7-b461-8e886fbf6301",
   "metadata": {},
   "outputs": [
    {
     "data": {
      "text/plain": [
       "'41'"
      ]
     },
     "execution_count": 6,
     "metadata": {},
     "output_type": "execute_result"
    }
   ],
   "source": [
    "a + c"
   ]
  },
  {
   "cell_type": "code",
   "execution_count": 7,
   "id": "d86e6f70-c862-49a4-8c9d-11ff53a5c69a",
   "metadata": {},
   "outputs": [
    {
     "data": {
      "text/plain": [
       "5"
      ]
     },
     "execution_count": 7,
     "metadata": {},
     "output_type": "execute_result"
    }
   ],
   "source": [
    "int(a) + int(c)"
   ]
  },
  {
   "cell_type": "code",
   "execution_count": 9,
   "id": "cb390503-20f2-460a-9668-1025c6f229e5",
   "metadata": {},
   "outputs": [
    {
     "name": "stdout",
     "output_type": "stream",
     "text": [
      "3\n"
     ]
    }
   ],
   "source": [
    "if b == '-':\n",
    "    print(int(a) - int(c))\n",
    "else:\n",
    "    print(int(a) + int(c))"
   ]
  },
  {
   "cell_type": "code",
   "execution_count": 11,
   "id": "0abdfedb-6e4f-4132-b6fc-9e69bcc6efac",
   "metadata": {},
   "outputs": [
    {
     "data": {
      "text/plain": [
       "7"
      ]
     },
     "execution_count": 11,
     "metadata": {},
     "output_type": "execute_result"
    }
   ],
   "source": [
    "eval('3 + 4')"
   ]
  },
  {
   "cell_type": "code",
   "execution_count": 13,
   "id": "a1d39b1f-905a-4d2e-a35e-f50289bc6745",
   "metadata": {},
   "outputs": [
    {
     "data": {
      "text/plain": [
       "5"
      ]
     },
     "execution_count": 13,
     "metadata": {},
     "output_type": "execute_result"
    }
   ],
   "source": [
    "eval('int(a) + int(c)')"
   ]
  },
  {
   "cell_type": "code",
   "execution_count": 14,
   "id": "9c1ab0dd-2665-4fd6-9bf0-feb625c22af3",
   "metadata": {},
   "outputs": [
    {
     "data": {
      "text/plain": [
       "3"
      ]
     },
     "execution_count": 14,
     "metadata": {},
     "output_type": "execute_result"
    }
   ],
   "source": [
    "eval(f'int(a) {b} int(c)')"
   ]
  },
  {
   "cell_type": "code",
   "execution_count": 15,
   "id": "8f9976e1-b46f-4635-9530-036f4f0790e7",
   "metadata": {},
   "outputs": [],
   "source": [
    "# eval : prend en argument un string représentant une instruction python et qui retourne le résultat de cette instruction"
   ]
  },
  {
   "cell_type": "code",
   "execution_count": 17,
   "id": "3141bf5a-1203-45f5-8bb9-10403407714b",
   "metadata": {},
   "outputs": [
    {
     "name": "stdout",
     "output_type": "stream",
     "text": [
      "4 - 1 equals 3\n"
     ]
    }
   ],
   "source": [
    "print(f'{a} {b} {c} equals {eval(f\"int(a) {b} int(c)\")}')"
   ]
  },
  {
   "cell_type": "code",
   "execution_count": 32,
   "id": "d27ad9e0-2859-435f-b931-8e768cc690db",
   "metadata": {},
   "outputs": [],
   "source": [
    "import os"
   ]
  },
  {
   "cell_type": "code",
   "execution_count": 34,
   "id": "a2e5e6a8-44c8-429c-b514-c83368f54abe",
   "metadata": {},
   "outputs": [
    {
     "data": {
      "text/plain": [
       "['.DS_Store',\n",
       " 'git.pdf',\n",
       " 'Untitled.ipynb',\n",
       " 'lab-regex.ipynb',\n",
       " 'lab-dicts.ipynb',\n",
       " 'regex.ipynb',\n",
       " 'lab-sets.ipynb',\n",
       " 'lab-listcomprehensions.ipynb',\n",
       " 'lab-strings.ipynb',\n",
       " 'README.md',\n",
       " 'Pipfile',\n",
       " 'functions.ipynb',\n",
       " '.gitignore',\n",
       " 'list_comprehensions_sets_dicts_tuples.ipynb',\n",
       " 'lab-tuples.ipynb',\n",
       " 'lab-errors.ipynb',\n",
       " '.ipynb_checkpoints',\n",
       " 'strings.ipynb',\n",
       " '.git',\n",
       " 'code_simplicity.ipynb',\n",
       " 'tryexcept.ipynb']"
      ]
     },
     "execution_count": 34,
     "metadata": {},
     "output_type": "execute_result"
    }
   ],
   "source": [
    "os.listdir()"
   ]
  },
  {
   "cell_type": "code",
   "execution_count": 33,
   "id": "1740cbeb-180c-4c7a-b0ac-fbbf90bb041b",
   "metadata": {},
   "outputs": [
    {
     "data": {
      "text/plain": [
       "['.DS_Store',\n",
       " 'git.pdf',\n",
       " 'Untitled.ipynb',\n",
       " 'lab-regex.ipynb',\n",
       " 'lab-dicts.ipynb',\n",
       " 'regex.ipynb',\n",
       " 'lab-sets.ipynb',\n",
       " 'lab-listcomprehensions.ipynb',\n",
       " 'lab-strings.ipynb',\n",
       " 'README.md',\n",
       " 'Pipfile',\n",
       " 'functions.ipynb',\n",
       " '.gitignore',\n",
       " 'list_comprehensions_sets_dicts_tuples.ipynb',\n",
       " 'lab-tuples.ipynb',\n",
       " 'lab-errors.ipynb',\n",
       " '.ipynb_checkpoints',\n",
       " 'strings.ipynb',\n",
       " '.git',\n",
       " 'code_simplicity.ipynb',\n",
       " 'tryexcept.ipynb']"
      ]
     },
     "execution_count": 33,
     "metadata": {},
     "output_type": "execute_result"
    }
   ],
   "source": [
    "eval('os.listdir()')"
   ]
  },
  {
   "cell_type": "code",
   "execution_count": 35,
   "id": "3517e518-3a91-4d84-b04b-20617de0e832",
   "metadata": {},
   "outputs": [
    {
     "name": "stdout",
     "output_type": "stream",
     "text": [
      "int(a) ml int(c)\n"
     ]
    }
   ],
   "source": [
    "print(f\"int(a) {b} int(c)\")"
   ]
  },
  {
   "cell_type": "code",
   "execution_count": 36,
   "id": "510948f1-eef2-48a6-91d1-4df3c81226be",
   "metadata": {},
   "outputs": [
    {
     "name": "stdout",
     "output_type": "stream",
     "text": [
      "int(a) - int(c)\n"
     ]
    }
   ],
   "source": [
    "print(f\"int(a) - int(c)\")"
   ]
  },
  {
   "cell_type": "code",
   "execution_count": 37,
   "id": "a48ba879-b91f-43b2-b9a3-6bb8cc69a33f",
   "metadata": {},
   "outputs": [
    {
     "data": {
      "text/plain": [
       "101"
      ]
     },
     "execution_count": 37,
     "metadata": {},
     "output_type": "execute_result"
    }
   ],
   "source": [
    "eval(f\"int(a) - int(c)\")"
   ]
  },
  {
   "cell_type": "code",
   "execution_count": 40,
   "id": "8765ec50-b1b5-4413-87e2-7533c8ddfa8e",
   "metadata": {},
   "outputs": [],
   "source": [
    "b = '-'"
   ]
  },
  {
   "cell_type": "code",
   "execution_count": 42,
   "id": "9b97f41b-c9de-4a85-810b-78595212187d",
   "metadata": {},
   "outputs": [
    {
     "data": {
      "text/plain": [
       "101"
      ]
     },
     "execution_count": 42,
     "metadata": {},
     "output_type": "execute_result"
    }
   ],
   "source": [
    "eval(f'int(a) {b} int(c)')"
   ]
  },
  {
   "cell_type": "code",
   "execution_count": null,
   "id": "502fff19-4dd5-4949-9052-2023ab5b3187",
   "metadata": {},
   "outputs": [],
   "source": []
  }
 ],
 "metadata": {
  "kernelspec": {
   "display_name": "Python 3 (ipykernel)",
   "language": "python",
   "name": "python3"
  },
  "language_info": {
   "codemirror_mode": {
    "name": "ipython",
    "version": 3
   },
   "file_extension": ".py",
   "mimetype": "text/x-python",
   "name": "python",
   "nbconvert_exporter": "python",
   "pygments_lexer": "ipython3",
   "version": "3.9.0"
  }
 },
 "nbformat": 4,
 "nbformat_minor": 5
}
