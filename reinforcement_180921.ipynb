{
 "cells": [
  {
   "cell_type": "code",
   "execution_count": 1,
   "id": "2cc11251-c41c-49db-ab8b-976d8495e7aa",
   "metadata": {},
   "outputs": [],
   "source": [
    "# suite de fibonacci\n",
    "# u(0) = 0\n",
    "# u(1) = 1\n",
    "# u(n+2) = u(n+1) + u(n) pout tout n entier positif"
   ]
  },
  {
   "cell_type": "code",
   "execution_count": 2,
   "id": "f7fc9fa8-96fb-49d1-a67b-31b3f84ac696",
   "metadata": {},
   "outputs": [],
   "source": [
    "# u(2), u(3), ... u(5) ?\n",
    "# u(2) = u(1) + u(0) = 1\n",
    "# u(3) = u(2) + u(1) = 1 + 1 = 2\n",
    "# u(4) = 3\n",
    "# u(5) = 5"
   ]
  },
  {
   "cell_type": "code",
   "execution_count": 3,
   "id": "e57eae56-3549-45b7-b872-009e72457d1a",
   "metadata": {},
   "outputs": [],
   "source": [
    "# u(6) = u(4) + u(5) = 8"
   ]
  },
  {
   "cell_type": "code",
   "execution_count": 4,
   "id": "e461b6c5-1b68-42ef-a3d8-091ddcbc7dc8",
   "metadata": {},
   "outputs": [],
   "source": [
    "# u(7) = 13"
   ]
  },
  {
   "cell_type": "code",
   "execution_count": 5,
   "id": "9c3f2ef2-0537-4db4-9fb8-0c6ef0110e16",
   "metadata": {},
   "outputs": [],
   "source": [
    "# u(8) = 21"
   ]
  },
  {
   "cell_type": "code",
   "execution_count": 13,
   "id": "aa400160-b3e0-44ee-bdcd-c48a7a70f90a",
   "metadata": {},
   "outputs": [],
   "source": [
    "def fibonacci(n):\n",
    "    u_n = 0\n",
    "    u_n_p_1 = 1\n",
    "    if n == 0:\n",
    "        return 0\n",
    "    elif n == 1:\n",
    "        return 1\n",
    "    else:\n",
    "        for i in range(2, n + 1):\n",
    "            u_n_p_2 = u_n + u_n_p_1\n",
    "            u_n = u_n_p_1\n",
    "            u_n_p_1 = u_n_p_2\n",
    "        return u_n_p_2\n",
    "        "
   ]
  },
  {
   "cell_type": "code",
   "execution_count": 14,
   "id": "268d5986-0831-4359-b9a2-6f76ed5d6621",
   "metadata": {},
   "outputs": [],
   "source": [
    "def test_fibonacci():\n",
    "    assert fibonacci(2) == 1\n",
    "    assert fibonacci(3) == 2\n",
    "    assert fibonacci(4) == 3\n",
    "    assert fibonacci(5) == 5\n",
    "    assert fibonacci(6) == 8\n",
    "    assert fibonacci(7) == 13\n",
    "    assert fibonacci(8) == 21\n",
    "    "
   ]
  },
  {
   "cell_type": "code",
   "execution_count": 15,
   "id": "30b3aa32-7619-4a04-9347-b418d576ad87",
   "metadata": {},
   "outputs": [],
   "source": [
    "test_fibonacci()"
   ]
  },
  {
   "cell_type": "code",
   "execution_count": 16,
   "id": "a79b0fe9-c770-41ef-8527-3f7d69eaface",
   "metadata": {},
   "outputs": [],
   "source": [
    "# récursivité"
   ]
  },
  {
   "cell_type": "code",
   "execution_count": 20,
   "id": "cd2067a6-48ac-4382-be02-9d2259c83bc3",
   "metadata": {},
   "outputs": [],
   "source": [
    "def fibonacci_rec(n):\n",
    "    # base case\n",
    "    if n == 0:\n",
    "        return 0\n",
    "    elif n == 1:\n",
    "        return 1\n",
    "    # else recursion\n",
    "    else:\n",
    "        return fibonacci_rec(n - 2) + fibonacci_rec(n - 1)"
   ]
  },
  {
   "cell_type": "code",
   "execution_count": 18,
   "id": "ee10b3d5-46ca-4a65-9d0f-3fb06f3875b7",
   "metadata": {},
   "outputs": [],
   "source": [
    "def test_fibonacci():\n",
    "    assert fibonacci_rec(2) == 1\n",
    "    assert fibonacci_rec(3) == 2\n",
    "    assert fibonacci_rec(4) == 3\n",
    "    assert fibonacci_rec(5) == 5\n",
    "    assert fibonacci_rec(6) == 8\n",
    "    assert fibonacci_rec(7) == 13\n",
    "    assert fibonacci_rec(8) == 21\n",
    "    "
   ]
  },
  {
   "cell_type": "code",
   "execution_count": 19,
   "id": "aeaab162-04de-40d9-80de-e5b9bae61353",
   "metadata": {},
   "outputs": [],
   "source": [
    "test_fibonacci()"
   ]
  },
  {
   "cell_type": "code",
   "execution_count": 22,
   "id": "07bffcf1-e31e-42cd-a7d4-ce271e54d102",
   "metadata": {},
   "outputs": [],
   "source": [
    "# recherche d'une valeur par dichotomie, récursivité"
   ]
  },
  {
   "cell_type": "code",
   "execution_count": 23,
   "id": "fb7bb65f-bfb5-42df-9a83-43fd014ab126",
   "metadata": {},
   "outputs": [],
   "source": [
    "# merge sort, récursivité"
   ]
  },
  {
   "cell_type": "code",
   "execution_count": 24,
   "id": "1e91af54-375b-4a6a-85f7-b0089c8ce9a1",
   "metadata": {},
   "outputs": [],
   "source": [
    "# caveat: fibonacci récursif très coûteux en mémoire"
   ]
  },
  {
   "cell_type": "code",
   "execution_count": null,
   "id": "d6ce1339-6d4c-48ab-91f2-927660a9a116",
   "metadata": {},
   "outputs": [],
   "source": []
  }
 ],
 "metadata": {
  "kernelspec": {
   "display_name": "Python 3 (ipykernel)",
   "language": "python",
   "name": "python3"
  },
  "language_info": {
   "codemirror_mode": {
    "name": "ipython",
    "version": 3
   },
   "file_extension": ".py",
   "mimetype": "text/x-python",
   "name": "python",
   "nbconvert_exporter": "python",
   "pygments_lexer": "ipython3",
   "version": "3.9.0"
  }
 },
 "nbformat": 4,
 "nbformat_minor": 5
}
