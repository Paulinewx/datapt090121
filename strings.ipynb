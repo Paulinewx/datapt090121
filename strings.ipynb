{
 "cells": [
  {
   "cell_type": "code",
   "execution_count": 10,
   "id": "8d74cfa5-df9a-4ff6-b584-514b8c779697",
   "metadata": {},
   "outputs": [],
   "source": [
    "# 1) string = chaine de caractères = chaîne de valeurs O ou 1 (bits)"
   ]
  },
  {
   "cell_type": "code",
   "execution_count": 2,
   "id": "896239dc-defe-48a6-88bc-0df9212cf6f2",
   "metadata": {},
   "outputs": [],
   "source": [
    "temp = \"qldhqoidhqzd oihqidqzd à0980UHOUPl,dlq,zd\\ndqldhqzlidj\\tqdhqoidlqz\\n\""
   ]
  },
  {
   "cell_type": "code",
   "execution_count": 3,
   "id": "3f4cc7df-b206-42ae-8aa9-eca8f33b60d5",
   "metadata": {},
   "outputs": [
    {
     "data": {
      "text/plain": [
       "'qldhqoidhqzd oihqidqzd à0980UHOUPl,dlq,zd\\ndqldhqzlidj\\tqdhqoidlqz\\n'"
      ]
     },
     "execution_count": 3,
     "metadata": {},
     "output_type": "execute_result"
    }
   ],
   "source": [
    "temp"
   ]
  },
  {
   "cell_type": "code",
   "execution_count": 4,
   "id": "931a0ae6-e5cb-4e31-b0b6-1ce37ba3ee3e",
   "metadata": {},
   "outputs": [
    {
     "name": "stdout",
     "output_type": "stream",
     "text": [
      "qldhqoidhqzd oihqidqzd à0980UHOUPl,dlq,zd\n",
      "dqldhqzlidj\tqdhqoidlqz\n",
      "\n"
     ]
    }
   ],
   "source": [
    "print(temp)"
   ]
  },
  {
   "cell_type": "code",
   "execution_count": 11,
   "id": "33140736-3a9a-4e8b-b08e-5c56d06d08c9",
   "metadata": {},
   "outputs": [],
   "source": [
    "# 2) string = liste de caractères"
   ]
  },
  {
   "cell_type": "code",
   "execution_count": 5,
   "id": "91616afc-397d-498e-af7b-b6d56862adf5",
   "metadata": {},
   "outputs": [
    {
     "data": {
      "text/plain": [
       "65"
      ]
     },
     "execution_count": 5,
     "metadata": {},
     "output_type": "execute_result"
    }
   ],
   "source": [
    "len(temp)"
   ]
  },
  {
   "cell_type": "code",
   "execution_count": 6,
   "id": "160c231d-e253-4107-a6e2-365afb8bdd8f",
   "metadata": {},
   "outputs": [
    {
     "data": {
      "text/plain": [
       "'qld'"
      ]
     },
     "execution_count": 6,
     "metadata": {},
     "output_type": "execute_result"
    }
   ],
   "source": [
    "temp[:3]"
   ]
  },
  {
   "cell_type": "code",
   "execution_count": 7,
   "id": "c2edc081-8430-4566-97b1-5a692b40609b",
   "metadata": {},
   "outputs": [
    {
     "data": {
      "text/plain": [
       "'q'"
      ]
     },
     "execution_count": 7,
     "metadata": {},
     "output_type": "execute_result"
    }
   ],
   "source": [
    "temp[4]"
   ]
  },
  {
   "cell_type": "code",
   "execution_count": 8,
   "id": "5a0acffe-a978-48b1-a10b-c45f004f35af",
   "metadata": {},
   "outputs": [
    {
     "data": {
      "text/plain": [
       "'qz\\n'"
      ]
     },
     "execution_count": 8,
     "metadata": {},
     "output_type": "execute_result"
    }
   ],
   "source": [
    "temp[-3:]"
   ]
  },
  {
   "cell_type": "code",
   "execution_count": 12,
   "id": "f817fb85-0346-4289-9e31-a075fa6ea74f",
   "metadata": {},
   "outputs": [],
   "source": [
    "# 3) string = texte"
   ]
  },
  {
   "cell_type": "code",
   "execution_count": 13,
   "id": "c91b5108-1379-43f2-9a06-e6221fb9288f",
   "metadata": {},
   "outputs": [],
   "source": [
    "# concaténation"
   ]
  },
  {
   "cell_type": "code",
   "execution_count": 15,
   "id": "f250a192-0213-483f-babc-d80d81242d7e",
   "metadata": {},
   "outputs": [],
   "source": [
    "a = 'Jean'\n",
    "b = '-'\n",
    "c = 'Marc'"
   ]
  },
  {
   "cell_type": "code",
   "execution_count": 16,
   "id": "9ef83cd3-97db-4f17-a165-e03c71d806c5",
   "metadata": {},
   "outputs": [
    {
     "data": {
      "text/plain": [
       "'Jean-Marc'"
      ]
     },
     "execution_count": 16,
     "metadata": {},
     "output_type": "execute_result"
    }
   ],
   "source": [
    "a + b + c"
   ]
  },
  {
   "cell_type": "code",
   "execution_count": 19,
   "id": "8a05dd6d-f4fa-4f76-b94a-9d1654af5911",
   "metadata": {},
   "outputs": [
    {
     "name": "stdout",
     "output_type": "stream",
     "text": [
      "This is my 0th attempt.\n",
      "This is my 1th attempt.\n",
      "This is my 2th attempt.\n",
      "This is my 3th attempt.\n",
      "This is my 4th attempt.\n",
      "This is my 5th attempt.\n",
      "This is my 6th attempt.\n",
      "This is my 7th attempt.\n",
      "This is my 8th attempt.\n",
      "This is my 9th attempt.\n"
     ]
    }
   ],
   "source": [
    "for i in range(10):\n",
    "    print('This is my ' + str(i) + 'th attempt.')"
   ]
  },
  {
   "cell_type": "code",
   "execution_count": 21,
   "id": "59ca2bcf-b435-445f-a3ff-74e104e4992d",
   "metadata": {},
   "outputs": [
    {
     "data": {
      "text/plain": [
       "'198775'"
      ]
     },
     "execution_count": 21,
     "metadata": {},
     "output_type": "execute_result"
    }
   ],
   "source": [
    "str(198775)"
   ]
  },
  {
   "cell_type": "code",
   "execution_count": 23,
   "id": "b6adbd69-c5af-4329-a6bb-82873998664a",
   "metadata": {},
   "outputs": [
    {
     "name": "stdout",
     "output_type": "stream",
     "text": [
      "0 20\n",
      "This is my 0 th attempt.\n",
      "1 21\n",
      "This is my 21 th attempt.\n",
      "2 22\n",
      "This is my 44 th attempt.\n",
      "3 23\n",
      "This is my 69 th attempt.\n",
      "4 24\n",
      "This is my 96 th attempt.\n",
      "5 25\n",
      "This is my 125 th attempt.\n",
      "6 26\n",
      "This is my 156 th attempt.\n",
      "7 27\n",
      "This is my 189 th attempt.\n",
      "8 28\n",
      "This is my 224 th attempt.\n",
      "9 29\n",
      "This is my 261 th attempt.\n"
     ]
    }
   ],
   "source": [
    "for i, j in zip(range(10), range(20, 30)):\n",
    "    print(i, j)\n",
    "    print(f'This is my {i * j} th attempt.')"
   ]
  },
  {
   "cell_type": "code",
   "execution_count": 24,
   "id": "92e7aef3-9644-476f-bca7-cff1fc47bd92",
   "metadata": {},
   "outputs": [],
   "source": [
    "text = \"\"\"We will be using Jena Climate dataset recorded by the Max Planck Institute for Biogeochemistry. The dataset consists of 14 features such as temperature, pressure, humidity etc, recorded once per 10 minutes.\n",
    "\n",
    "Location: Weather Station, Max Planck Institute for Biogeochemistry in Jena, Germany\n",
    "\n",
    "Time-frame Considered: Jan 10, 2009 - December 31, 2016\n",
    "\n",
    "The table below shows the column names, their value formats, and their description.\"\"\""
   ]
  },
  {
   "cell_type": "code",
   "execution_count": 27,
   "id": "71c3fdcf-d8ab-4184-8f72-f2edf6023095",
   "metadata": {},
   "outputs": [
    {
     "name": "stdout",
     "output_type": "stream",
     "text": [
      "We will be using Jena Climate dataset recorded by the Max Planck Institute for Biogeochemistry. The dataset consists of 14 features such as temperature, pressure, humidity etc, recorded once per 10 minutes.\n",
      "\n",
      "Location: Weather Station, Max Planck Institute for Biogeochemistry in Jena, Germany\n",
      "\n",
      "Time-frame Considered: Jan 10, 2009 - December 31, 2016\n",
      "\n",
      "The table below shows the column names, their value formats, and their description.\n"
     ]
    }
   ],
   "source": [
    "print(text)"
   ]
  },
  {
   "cell_type": "code",
   "execution_count": 31,
   "id": "f0970f53-a37a-4bac-8d8b-6a68beb55981",
   "metadata": {},
   "outputs": [
    {
     "name": "stdout",
     "output_type": "stream",
     "text": [
      "We_will_be_using_Jena_Climate_dataset_recorded_by_the_Max_Planck_Institute_for_Biogeochemistry._The_dataset_consists_of_14_features_such_as_temperature,_pressure,_humidity_etc,_recorded_once_per_10_minutes._Location:_Weather_Station,_Max_Planck_Institute_for_Biogeochemistry_in_Jena,_Germany_Time-frame_Considered:_Jan_10,_2009_-_December_31,_2016_The_table_below_shows_the_column_names,_their_value_formats,_and_their_description.\n"
     ]
    }
   ],
   "source": [
    "print('_'.join(text.split()))"
   ]
  },
  {
   "cell_type": "code",
   "execution_count": 35,
   "id": "2448fd94-8011-4465-a87f-3d3d155b29ff",
   "metadata": {},
   "outputs": [],
   "source": [
    "a = ' \" ` `\"'"
   ]
  },
  {
   "cell_type": "code",
   "execution_count": 36,
   "id": "cf82b49e-ea84-4c15-b6d9-0e5dd177fff5",
   "metadata": {},
   "outputs": [
    {
     "name": "stdout",
     "output_type": "stream",
     "text": [
      " \" ` `\"\n"
     ]
    }
   ],
   "source": [
    "print(a)"
   ]
  },
  {
   "cell_type": "code",
   "execution_count": 43,
   "id": "8f187ddf-174c-47bf-962e-3b717ab25a73",
   "metadata": {},
   "outputs": [],
   "source": [
    "# tests sur des strings"
   ]
  },
  {
   "cell_type": "code",
   "execution_count": 37,
   "id": "60cb314d-c9ef-4d2a-8287-463fdb6e9a04",
   "metadata": {},
   "outputs": [],
   "source": [
    "import os"
   ]
  },
  {
   "cell_type": "code",
   "execution_count": 38,
   "id": "d0a9c905-bc4c-4ad5-8bef-eb6f94aaa9d1",
   "metadata": {},
   "outputs": [
    {
     "name": "stdout",
     "output_type": "stream",
     "text": [
      "total 27440\n",
      "-rw-r--r--  1 work  staff       138 Sep  4 10:45 Pipfile\n",
      "-rw-r--r--  1 work  staff        15 Sep  2 11:15 README.md\n",
      "-rw-r--r--  1 work  staff        72 Sep  6 18:42 Untitled.ipynb\n",
      "-rw-r--r--@ 1 work  staff  13995892 Sep  2 11:18 git.pdf\n",
      "-rw-r--r--  1 work  staff     28422 Sep  4 12:36 list_comprehensions_sets_dicts_tuples.ipynb\n",
      "-rw-r--r--  1 work  staff      9088 Sep  6 19:01 strings.ipynb\n"
     ]
    }
   ],
   "source": [
    "!ls -l"
   ]
  },
  {
   "cell_type": "code",
   "execution_count": 41,
   "id": "ecc00da5-2984-49ef-ba91-3abd81eac11a",
   "metadata": {},
   "outputs": [
    {
     "data": {
      "text/plain": [
       "[(False, 'git.pdf'),\n",
       " (True, 'Untitled.ipynb'),\n",
       " (False, 'README.md'),\n",
       " (False, 'Pipfile'),\n",
       " (False, '.gitignore'),\n",
       " (True, 'list_comprehensions_sets_dicts_tuples.ipynb'),\n",
       " (False, '.ipynb_checkpoints'),\n",
       " (True, 'strings.ipynb'),\n",
       " (False, '.git')]"
      ]
     },
     "execution_count": 41,
     "metadata": {},
     "output_type": "execute_result"
    }
   ],
   "source": [
    "[(f.endswith('.ipynb'), f) for f in os.listdir('.')]"
   ]
  },
  {
   "cell_type": "code",
   "execution_count": 42,
   "id": "01661a52-71e1-4a60-8d8b-845b6832370e",
   "metadata": {},
   "outputs": [
    {
     "data": {
      "text/plain": [
       "[(False, 'git.pdf'),\n",
       " (False, 'Untitled.ipynb'),\n",
       " (False, 'README.md'),\n",
       " (False, 'Pipfile'),\n",
       " (True, '.gitignore'),\n",
       " (False, 'list_comprehensions_sets_dicts_tuples.ipynb'),\n",
       " (True, '.ipynb_checkpoints'),\n",
       " (False, 'strings.ipynb'),\n",
       " (True, '.git')]"
      ]
     },
     "execution_count": 42,
     "metadata": {},
     "output_type": "execute_result"
    }
   ],
   "source": [
    "[(f.startswith('.'), f) for f in os.listdir('.')]"
   ]
  },
  {
   "cell_type": "code",
   "execution_count": 44,
   "id": "2d93e68a-67f6-43bf-bba2-2aa61924357d",
   "metadata": {},
   "outputs": [],
   "source": [
    "temp = 'qdhqldhqlidjqzm,odjq,d776O8787RUgkjqndlqjdqzdljq'"
   ]
  },
  {
   "cell_type": "code",
   "execution_count": 45,
   "id": "dd3ddeef-3430-4e07-9f11-f956a8594a20",
   "metadata": {},
   "outputs": [
    {
     "data": {
      "text/plain": [
       "False"
      ]
     },
     "execution_count": 45,
     "metadata": {},
     "output_type": "execute_result"
    }
   ],
   "source": [
    "'js' in temp"
   ]
  },
  {
   "cell_type": "code",
   "execution_count": 46,
   "id": "c07b54db-ab72-4a0c-ac62-3a3c6ace886b",
   "metadata": {},
   "outputs": [],
   "source": [
    "# transform strings"
   ]
  },
  {
   "cell_type": "code",
   "execution_count": 48,
   "id": "3e2e6e2b-8856-49d4-bd66-d17d4eca761c",
   "metadata": {},
   "outputs": [
    {
     "name": "stdout",
     "output_type": "stream",
     "text": [
      "We will be using Jena Climate dataset recorded by the Max Planck Institute for Biogeochemistry. The dataset consists of 14 features such as temperature, pressure, humidity etc, recorded once per 10 minutes.\n",
      "\n",
      "Location: Weather Station, Max Planck Institute for Biogeochemistry in Jena, Germany\n",
      "\n",
      "Time-frame Considered: Jan 10, 2009 - December 31, 2016\n",
      "\n",
      "The table below shows the column names, their value formats, and their description.\n"
     ]
    }
   ],
   "source": [
    "print(text)"
   ]
  },
  {
   "cell_type": "code",
   "execution_count": 49,
   "id": "cf254116-323d-4d7a-b5de-feab254ef3ac",
   "metadata": {},
   "outputs": [
    {
     "data": {
      "text/plain": [
       "'we will be using jena climate dataset recorded by the max planck institute for biogeochemistry. the dataset consists of 14 features such as temperature, pressure, humidity etc, recorded once per 10 minutes.\\n\\nlocation: weather station, max planck institute for biogeochemistry in jena, germany\\n\\ntime-frame considered: jan 10, 2009 - december 31, 2016\\n\\nthe table below shows the column names, their value formats, and their description.'"
      ]
     },
     "execution_count": 49,
     "metadata": {},
     "output_type": "execute_result"
    }
   ],
   "source": [
    "text.lower()"
   ]
  },
  {
   "cell_type": "code",
   "execution_count": 50,
   "id": "f56bf23c-9e07-4ac7-8731-da0c67c16117",
   "metadata": {},
   "outputs": [
    {
     "data": {
      "text/plain": [
       "'WE WILL BE USING JENA CLIMATE DATASET RECORDED BY THE MAX PLANCK INSTITUTE FOR BIOGEOCHEMISTRY. THE DATASET CONSISTS OF 14 FEATURES SUCH AS TEMPERATURE, PRESSURE, HUMIDITY ETC, RECORDED ONCE PER 10 MINUTES.\\n\\nLOCATION: WEATHER STATION, MAX PLANCK INSTITUTE FOR BIOGEOCHEMISTRY IN JENA, GERMANY\\n\\nTIME-FRAME CONSIDERED: JAN 10, 2009 - DECEMBER 31, 2016\\n\\nTHE TABLE BELOW SHOWS THE COLUMN NAMES, THEIR VALUE FORMATS, AND THEIR DESCRIPTION.'"
      ]
     },
     "execution_count": 50,
     "metadata": {},
     "output_type": "execute_result"
    }
   ],
   "source": [
    "text.upper()"
   ]
  },
  {
   "cell_type": "code",
   "execution_count": 51,
   "id": "927586a2-0638-4fd0-a194-30511ff090a5",
   "metadata": {},
   "outputs": [
    {
     "data": {
      "text/plain": [
       "'We will be using jena climate dataset recorded by the max planck institute for biogeochemistry. the dataset consists of 14 features such as temperature, pressure, humidity etc, recorded once per 10 minutes.\\n\\nlocation: weather station, max planck institute for biogeochemistry in jena, germany\\n\\ntime-frame considered: jan 10, 2009 - december 31, 2016\\n\\nthe table below shows the column names, their value formats, and their description.'"
      ]
     },
     "execution_count": 51,
     "metadata": {},
     "output_type": "execute_result"
    }
   ],
   "source": [
    "text.capitalize()"
   ]
  },
  {
   "cell_type": "code",
   "execution_count": 53,
   "id": "7f4d7ed3-b9a0-4008-964a-8263d62407a9",
   "metadata": {},
   "outputs": [
    {
     "name": "stdout",
     "output_type": "stream",
     "text": [
      "We will be using Jena Climate dataset recorded by the Max Planck Institute for Biogeochemistry. The dataset consists of 14 features such as temperature, pressure, humidity etc, recorded once per 10 minutes.\n",
      "\n",
      "Location: Weather Station, Max Planck Institute for Biogeochemistry in Jena, Germany\n",
      "\n",
      "Time-frame Considered: Jan 10, 2010 - December 31, 2016\n",
      "\n",
      "The table below shows the column names, their value formats, and their description.\n"
     ]
    }
   ],
   "source": [
    "print(text.replace('2009', '2010'))"
   ]
  },
  {
   "cell_type": "code",
   "execution_count": 54,
   "id": "a2cf3117-acfb-463e-84ff-342c80827d03",
   "metadata": {},
   "outputs": [],
   "source": [
    "temp = ' qldijqlidjqzdq '"
   ]
  },
  {
   "cell_type": "code",
   "execution_count": 55,
   "id": "785773ef-0071-4b4b-ad0a-39d041effe17",
   "metadata": {},
   "outputs": [
    {
     "data": {
      "text/plain": [
       "'qldijqlidjqzdq'"
      ]
     },
     "execution_count": 55,
     "metadata": {},
     "output_type": "execute_result"
    }
   ],
   "source": [
    "temp.strip()"
   ]
  },
  {
   "cell_type": "code",
   "execution_count": 56,
   "id": "c35dbedd-a4bd-492e-918a-7c2401a7aba7",
   "metadata": {},
   "outputs": [
    {
     "data": {
      "text/plain": [
       "'qldijqlidjqzdq '"
      ]
     },
     "execution_count": 56,
     "metadata": {},
     "output_type": "execute_result"
    }
   ],
   "source": [
    "temp.lstrip()"
   ]
  },
  {
   "cell_type": "code",
   "execution_count": 57,
   "id": "02a36973-bec9-4846-adaf-bb41f25fb950",
   "metadata": {},
   "outputs": [
    {
     "data": {
      "text/plain": [
       "' qldijqlidjqzdq'"
      ]
     },
     "execution_count": 57,
     "metadata": {},
     "output_type": "execute_result"
    }
   ],
   "source": [
    "temp.rstrip()"
   ]
  },
  {
   "cell_type": "code",
   "execution_count": 59,
   "id": "9be6cc8e-23d4-4d82-b1aa-b2af20ad692e",
   "metadata": {},
   "outputs": [
    {
     "name": "stdout",
     "output_type": "stream",
     "text": [
      "We Will Be Using Jena Climate Dataset Recorded By The Max Planck Institute For Biogeochemistry. The Dataset Consists Of 14 Features Such As Temperature, Pressure, Humidity Etc, Recorded Once Per 10 Minutes.\n",
      "\n",
      "Location: Weather Station, Max Planck Institute For Biogeochemistry In Jena, Germany\n",
      "\n",
      "Time-Frame Considered: Jan 10, 2009 - December 31, 2016\n",
      "\n",
      "The Table Below Shows The Column Names, Their Value Formats, And Their Description.\n"
     ]
    }
   ],
   "source": [
    "print(text.title())"
   ]
  },
  {
   "cell_type": "code",
   "execution_count": 60,
   "id": "71180d38-9965-472c-ba7c-7c7fedcc9643",
   "metadata": {},
   "outputs": [
    {
     "name": "stdout",
     "output_type": "stream",
     "text": [
      "We will be using Jena Climate dataset recorded by the Max Planck Institute for Biogeochemistry. The dataset consists of 14 features such as temperature, pressure, humidity etc, recorded once per 10 minutes.\n",
      "\n",
      "Location: Weather Station, Max Planck Institute for Biogeochemistry in Jena, Germany\n",
      "\n",
      "Time-frame Considered: Jan 10, 2009 - December 31, 2016\n",
      "\n",
      "The table below shows the column names, their value formats, and their description.\n"
     ]
    }
   ],
   "source": [
    "print(text)"
   ]
  },
  {
   "cell_type": "code",
   "execution_count": 63,
   "id": "b400378f-18d7-41b4-a258-3b4cdc89d582",
   "metadata": {},
   "outputs": [
    {
     "data": {
      "text/plain": [
       "\" c'est \""
      ]
     },
     "execution_count": 63,
     "metadata": {},
     "output_type": "execute_result"
    }
   ],
   "source": [
    "' c\\'est '"
   ]
  },
  {
   "cell_type": "code",
   "execution_count": 66,
   "id": "24887770-8ac3-4bf9-bb00-8e7a1248b5e3",
   "metadata": {},
   "outputs": [],
   "source": [
    "# exercice :\n",
    "# Soit un string de longueur impaire, plus grande que 7\n",
    "# Ecrire une fonction qui retourne le sous-string de longueur 3 qui se trouve \"au milieu\"\n",
    "# exemple : \n",
    "# str1 = \"adkjadj876e\"\n",
    "# output : \"adj\"\n",
    "# str2 = \"br45dldz3\"\n",
    "# output : \"5dl\""
   ]
  },
  {
   "cell_type": "code",
   "execution_count": 67,
   "id": "82f880e1-0408-47a7-926d-aecb2053838c",
   "metadata": {},
   "outputs": [],
   "source": [
    "def middle_substring(s):\n",
    "    m = int((len(s) - 1) / 2)\n",
    "    return s[m-1:m+2]"
   ]
  },
  {
   "cell_type": "code",
   "execution_count": 68,
   "id": "d68c2cdb-0e29-4ad3-a923-9a5e1c13baa0",
   "metadata": {},
   "outputs": [
    {
     "data": {
      "text/plain": [
       "'adj'"
      ]
     },
     "execution_count": 68,
     "metadata": {},
     "output_type": "execute_result"
    }
   ],
   "source": [
    "middle_substring(\"adkjadj876e\")"
   ]
  },
  {
   "cell_type": "code",
   "execution_count": 69,
   "id": "6b626cf6-3a65-4352-8bea-39e163d92b9f",
   "metadata": {},
   "outputs": [
    {
     "data": {
      "text/plain": [
       "'5dl'"
      ]
     },
     "execution_count": 69,
     "metadata": {},
     "output_type": "execute_result"
    }
   ],
   "source": [
    "middle_substring(\"br45dldz3\")"
   ]
  },
  {
   "cell_type": "code",
   "execution_count": 70,
   "id": "fe48f655-0d78-4fd2-9143-d1545f726301",
   "metadata": {},
   "outputs": [],
   "source": [
    "# intro regex"
   ]
  },
  {
   "cell_type": "code",
   "execution_count": 71,
   "id": "0dd83197-b7b0-468b-b221-f312f2821d70",
   "metadata": {},
   "outputs": [],
   "source": [
    "temp = \"qkdhqkuhqzkuhe 98787576 qldjqzlid àèçq!èdq87976èièqidq\""
   ]
  },
  {
   "cell_type": "code",
   "execution_count": 72,
   "id": "9e3404c9-a132-457b-a6ba-ec6cb489103b",
   "metadata": {},
   "outputs": [
    {
     "data": {
      "text/plain": [
       "['qkdhqkuhqzkuhe ', '8787576 qldjqzlid àèçq!èdq87', '76èièqidq']"
      ]
     },
     "execution_count": 72,
     "metadata": {},
     "output_type": "execute_result"
    }
   ],
   "source": [
    "temp.split('9')"
   ]
  },
  {
   "cell_type": "code",
   "execution_count": 73,
   "id": "511f673a-4bc9-4f79-ba17-933ec8546c1e",
   "metadata": {},
   "outputs": [],
   "source": [
    "import re"
   ]
  },
  {
   "cell_type": "code",
   "execution_count": 74,
   "id": "072eb0ad-22a3-4c3f-8604-e143b498f2a4",
   "metadata": {},
   "outputs": [
    {
     "data": {
      "text/plain": [
       "['qkdhqkuhqzkuhe ',\n",
       " '',\n",
       " '',\n",
       " '',\n",
       " '',\n",
       " '',\n",
       " '',\n",
       " '',\n",
       " ' qldjqzlid àèçq!èdq',\n",
       " '',\n",
       " '',\n",
       " '',\n",
       " '',\n",
       " 'èièqidq']"
      ]
     },
     "execution_count": 74,
     "metadata": {},
     "output_type": "execute_result"
    }
   ],
   "source": [
    "re.split('\\d', temp)"
   ]
  },
  {
   "cell_type": "code",
   "execution_count": 75,
   "id": "762976cd-e50b-483c-9041-645d09201cea",
   "metadata": {},
   "outputs": [],
   "source": [
    "temp = \"lqidjlqzidjoqzd, qdiqzjodqoiuqzd ,q. qdihqlidqziduà!èç!è0878, qldkjqlidjqzd\""
   ]
  },
  {
   "cell_type": "code",
   "execution_count": 79,
   "id": "77dd965a-b990-41bf-b809-5ffee730c52c",
   "metadata": {},
   "outputs": [
    {
     "data": {
      "text/plain": [
       "['d, ', '8, ']"
      ]
     },
     "execution_count": 79,
     "metadata": {},
     "output_type": "execute_result"
    }
   ],
   "source": [
    "re.findall('\\w,\\s', temp)"
   ]
  },
  {
   "cell_type": "code",
   "execution_count": 80,
   "id": "7445790b-a2fb-4502-8eb6-9dd322e36cbd",
   "metadata": {},
   "outputs": [
    {
     "data": {
      "text/plain": [
       "[' ,q']"
      ]
     },
     "execution_count": 80,
     "metadata": {},
     "output_type": "execute_result"
    }
   ],
   "source": [
    "re.findall('\\s,\\w', temp)"
   ]
  },
  {
   "cell_type": "code",
   "execution_count": 86,
   "id": "9814081d-deb4-403f-8614-dcde00dfa28b",
   "metadata": {},
   "outputs": [
    {
     "name": "stdout",
     "output_type": "stream",
     "text": [
      "regex was found\n"
     ]
    }
   ],
   "source": [
    "if re.search('\\w,\\s', temp):\n",
    "    print('regex was found')"
   ]
  },
  {
   "cell_type": "code",
   "execution_count": 88,
   "id": "6c071a19-2021-4882-8927-1f8dd74f2bb3",
   "metadata": {},
   "outputs": [
    {
     "name": "stdout",
     "output_type": "stream",
     "text": [
      "regex not found\n"
     ]
    }
   ],
   "source": [
    "if re.search('\\w, \\s', temp):\n",
    "    print('regex was found')\n",
    "else:\n",
    "    print('regex not found')"
   ]
  },
  {
   "cell_type": "code",
   "execution_count": 90,
   "id": "7ad4d9b8-e6d7-4a42-bc46-0bb369b1566a",
   "metadata": {},
   "outputs": [
    {
     "data": {
      "text/plain": [
       "\u001b[0;31mSignature:\u001b[0m \u001b[0mre\u001b[0m\u001b[0;34m.\u001b[0m\u001b[0msub\u001b[0m\u001b[0;34m(\u001b[0m\u001b[0mpattern\u001b[0m\u001b[0;34m,\u001b[0m \u001b[0mrepl\u001b[0m\u001b[0;34m,\u001b[0m \u001b[0mstring\u001b[0m\u001b[0;34m,\u001b[0m \u001b[0mcount\u001b[0m\u001b[0;34m=\u001b[0m\u001b[0;36m0\u001b[0m\u001b[0;34m,\u001b[0m \u001b[0mflags\u001b[0m\u001b[0;34m=\u001b[0m\u001b[0;36m0\u001b[0m\u001b[0;34m)\u001b[0m\u001b[0;34m\u001b[0m\u001b[0;34m\u001b[0m\u001b[0m\n",
       "\u001b[0;31mSource:\u001b[0m   \n",
       "\u001b[0;32mdef\u001b[0m \u001b[0msub\u001b[0m\u001b[0;34m(\u001b[0m\u001b[0mpattern\u001b[0m\u001b[0;34m,\u001b[0m \u001b[0mrepl\u001b[0m\u001b[0;34m,\u001b[0m \u001b[0mstring\u001b[0m\u001b[0;34m,\u001b[0m \u001b[0mcount\u001b[0m\u001b[0;34m=\u001b[0m\u001b[0;36m0\u001b[0m\u001b[0;34m,\u001b[0m \u001b[0mflags\u001b[0m\u001b[0;34m=\u001b[0m\u001b[0;36m0\u001b[0m\u001b[0;34m)\u001b[0m\u001b[0;34m:\u001b[0m\u001b[0;34m\u001b[0m\n",
       "\u001b[0;34m\u001b[0m    \u001b[0;34m\"\"\"Return the string obtained by replacing the leftmost\u001b[0m\n",
       "\u001b[0;34m    non-overlapping occurrences of the pattern in string by the\u001b[0m\n",
       "\u001b[0;34m    replacement repl.  repl can be either a string or a callable;\u001b[0m\n",
       "\u001b[0;34m    if a string, backslash escapes in it are processed.  If it is\u001b[0m\n",
       "\u001b[0;34m    a callable, it's passed the Match object and must return\u001b[0m\n",
       "\u001b[0;34m    a replacement string to be used.\"\"\"\u001b[0m\u001b[0;34m\u001b[0m\n",
       "\u001b[0;34m\u001b[0m    \u001b[0;32mreturn\u001b[0m \u001b[0m_compile\u001b[0m\u001b[0;34m(\u001b[0m\u001b[0mpattern\u001b[0m\u001b[0;34m,\u001b[0m \u001b[0mflags\u001b[0m\u001b[0;34m)\u001b[0m\u001b[0;34m.\u001b[0m\u001b[0msub\u001b[0m\u001b[0;34m(\u001b[0m\u001b[0mrepl\u001b[0m\u001b[0;34m,\u001b[0m \u001b[0mstring\u001b[0m\u001b[0;34m,\u001b[0m \u001b[0mcount\u001b[0m\u001b[0;34m)\u001b[0m\u001b[0;34m\u001b[0m\u001b[0;34m\u001b[0m\u001b[0m\n",
       "\u001b[0;31mFile:\u001b[0m      /usr/local/Cellar/python@3.9/3.9.0_2/Frameworks/Python.framework/Versions/3.9/lib/python3.9/re.py\n",
       "\u001b[0;31mType:\u001b[0m      function\n"
      ]
     },
     "metadata": {},
     "output_type": "display_data"
    }
   ],
   "source": [
    "??re.sub"
   ]
  },
  {
   "cell_type": "code",
   "execution_count": 91,
   "id": "b6d21277-802a-46fb-b456-706181a19a80",
   "metadata": {},
   "outputs": [
    {
     "data": {
      "text/plain": [
       "'lqidjlqzidjoqzJMMqdiqzjodqoiuqzd ,q. qdihqlidqziduà!èç!è087JMMqldkjqlidjqzd'"
      ]
     },
     "execution_count": 91,
     "metadata": {},
     "output_type": "execute_result"
    }
   ],
   "source": [
    "re.sub('\\w,\\s', 'JMM', temp)"
   ]
  },
  {
   "cell_type": "code",
   "execution_count": 92,
   "id": "a9985708-7df6-430c-aa63-4f1780bbfe1a",
   "metadata": {},
   "outputs": [
    {
     "data": {
      "text/plain": [
       "'lqidjlqzidjoqzd, qdiqzjodqoiuqzd ,q. qdihqlidqziduà!èç!è0878, qldkjqlidjqzd'"
      ]
     },
     "execution_count": 92,
     "metadata": {},
     "output_type": "execute_result"
    }
   ],
   "source": [
    "temp"
   ]
  },
  {
   "cell_type": "code",
   "execution_count": null,
   "id": "162a07ad-7ae6-4a4e-9edb-b1dfccf57177",
   "metadata": {},
   "outputs": [],
   "source": []
  }
 ],
 "metadata": {
  "kernelspec": {
   "display_name": "Python 3 (ipykernel)",
   "language": "python",
   "name": "python3"
  },
  "language_info": {
   "codemirror_mode": {
    "name": "ipython",
    "version": 3
   },
   "file_extension": ".py",
   "mimetype": "text/x-python",
   "name": "python",
   "nbconvert_exporter": "python",
   "pygments_lexer": "ipython3",
   "version": "3.9.0"
  }
 },
 "nbformat": 4,
 "nbformat_minor": 5
}
