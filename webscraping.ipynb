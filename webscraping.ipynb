{
 "cells": [
  {
   "cell_type": "code",
   "execution_count": 2,
   "id": "733b1b0f-eeaf-451b-9fd7-6ab39ab2ed90",
   "metadata": {},
   "outputs": [],
   "source": [
    "from bs4 import BeautifulSoup"
   ]
  },
  {
   "cell_type": "code",
   "execution_count": 3,
   "id": "9631c059-e46c-466e-af7f-8c23763683fe",
   "metadata": {},
   "outputs": [],
   "source": [
    "import requests"
   ]
  },
  {
   "cell_type": "code",
   "execution_count": 4,
   "id": "da2b29bf-4340-4492-8277-c8e0fca7ab0b",
   "metadata": {},
   "outputs": [],
   "source": [
    "url = \"https://www.lemonde.fr/disparitions/article/2021/10/18/l-ancien-secretaire-d-etat-sous-george-w-bush-colin-powell-est-mort-du-covid-19_6098851_3382.html\""
   ]
  },
  {
   "cell_type": "code",
   "execution_count": 5,
   "id": "0b98c8a4-abcc-4ca2-996b-5694b4a01fc3",
   "metadata": {},
   "outputs": [],
   "source": [
    "res = requests.get(url)"
   ]
  },
  {
   "cell_type": "code",
   "execution_count": 6,
   "id": "4262aac4-9c71-4bef-b371-f642075683eb",
   "metadata": {},
   "outputs": [],
   "source": [
    "assert res.status_code == 200"
   ]
  },
  {
   "cell_type": "code",
   "execution_count": 10,
   "id": "3d3b639e-fd6a-4d05-9c86-b9a04da050cb",
   "metadata": {
    "tags": []
   },
   "outputs": [],
   "source": [
    "soup = BeautifulSoup(res.content, 'html')"
   ]
  },
  {
   "cell_type": "code",
   "execution_count": 13,
   "id": "235f76a1-dbbb-46a2-9b69-f0e6cbffd98d",
   "metadata": {},
   "outputs": [],
   "source": [
    "from lxml import etree"
   ]
  },
  {
   "cell_type": "code",
   "execution_count": 14,
   "id": "a084e27c-9454-4835-8a9c-4915119c9830",
   "metadata": {},
   "outputs": [],
   "source": [
    "dom = etree.HTML(str(soup))\n"
   ]
  },
  {
   "cell_type": "code",
   "execution_count": 18,
   "id": "e3643f0f-d942-4a2d-a0a7-1578558e2335",
   "metadata": {},
   "outputs": [
    {
     "name": "stdout",
     "output_type": "stream",
     "text": [
      "Colin Powell, l’ancien secrétaire d’Etat américain, est mort du Covid-19\n"
     ]
    }
   ],
   "source": [
    "print(dom.xpath('/html/body/main/section[1]/section/header/div/div/h1')[0].text)"
   ]
  },
  {
   "cell_type": "code",
   "execution_count": 19,
   "id": "296ad6ef-3685-4682-af5f-4e6278d9e493",
   "metadata": {},
   "outputs": [
    {
     "name": "stdout",
     "output_type": "stream",
     "text": [
      "« Un grand serviteur de l’Etat », selon George W. Bush\n"
     ]
    }
   ],
   "source": [
    "print(dom.xpath('/html/body/main/section[1]/section/section[1]/article/h2[1]')[0].text)"
   ]
  },
  {
   "cell_type": "code",
   "execution_count": 22,
   "id": "6e23d0b7-22d7-4d63-9a6c-e817e809a8d2",
   "metadata": {},
   "outputs": [],
   "source": [
    "article = dom.xpath('/html/body/main/section[1]/section/section[1]/article')[0]"
   ]
  },
  {
   "cell_type": "code",
   "execution_count": 23,
   "id": "636d0862-ce8c-4743-8dc7-4b7ffc864fbd",
   "metadata": {},
   "outputs": [
    {
     "data": {
      "text/plain": [
       "<Element article at 0x7faced9c3aa0>"
      ]
     },
     "execution_count": 23,
     "metadata": {},
     "output_type": "execute_result"
    }
   ],
   "source": [
    "article"
   ]
  },
  {
   "cell_type": "code",
   "execution_count": 28,
   "id": "b0e74bfd-e8e9-4cd2-aac5-c54a2b01bd81",
   "metadata": {},
   "outputs": [
    {
     "name": "stdout",
     "output_type": "stream",
     "text": [
      "      L’ancien secrétaire d’Etat américain Colin Powell, le 18 août 2020. POOL / REUTERS   Il était le premier Afro-Américain à avoir occupé le poste de chef d’état-major des armées, avant de devenir chef de la diplomatie américaine sous la présidence du républicain George W. Bush. Colin Powell est mort à l’âge de 84 ans de « complications liées au Covid-19 », a annoncé sa famille, lundi 18 octobre. « Nous avons perdu un mari, un père et grand-père remarquable et aimant, et un grand Américain », ont-ils déclaré dans un communiqué. M. Powell est mort à l’hôpital Walter-Reed, situé dans la banlieue de Washington, où sont souvent soignés les présidents américains. Sa famille a par ailleurs précisé qu’il était « entièrement vacciné ». D’après des médias américains, l’ancien homme d’Etat souffrait aussi d’un myélome multiple, une forme de cancer du sang qui affecte le système immunitaire. « Un grand serviteur de l’Etat », selon George W. Bush George W. Bush a salué la mémoire de son ancien chef de la diplomatie, estimant qu’il était « un grand serviteur de l’Etat ». « De nombreux présidents se sont fiés au jugement et à l’expérience du général Powell, a noté l’ancien président dans un communiqué. Il était très respecté dans le pays et à l’étranger. » « Le monde a perdu l’un de ses plus grands hommes », a à son tour réagi le ministre de la défense des Etats-Unis, Lloyd Austin, lors d’un déplacement à Tbilissi, la capitale géorgienne. « J’ai perdu un grand ami et un mentor », a-t-il ajouté.  « Son héritage et ses états de service inégalés ne seront pas oubliés », a déclaré l’ancien vice-président Dick Cheney. M. Powell était « une figure marquante du commandement militaire et politique américain » et « quelqu’un d’extrêmement compétent et intègre », a aussi affirmé Tony Blair, premier ministre du Royaume-Uni durant la guerre d’Irak. « Colin incarnait les idéaux les plus élevés du guerrier et du diplomate. Il était avant tout attaché à la force et à la sécurité de notre nation. Ayant combattu dans des guerres, il comprenait mieux que quiconque que la seule puissance militaire ne suffisait pas à maintenir notre paix et notre prospérité », a déclaré le président des Etats-Unis, Joe Biden, dans un communiqué. Défenseur de la guerre en Irak Défenseur de la guerre en Irak, M. Powell avait fait, le 5 février 2003, devant le Conseil de sécurité de l’Organisation des Nations unies (ONU), une longue allocution sur les armes de destruction massive prétendument détenues par l’Irak ; des arguments qui ont servi à justifier l’invasion du pays. Il a admis par la suite que cette prestation était une « tache » pour sa réputation : « C’est une tache, parce que je suis celui qui a fait cette présentation au nom des Etats-Unis devant le monde et cela fera toujours partie de mon bilan. »  Lire aussi  Quand les politiques font leur mea culpa    Né le 5 avril 1937 à Harlem, M. Powell a grandi à New York, où il a étudié la géologie. Il a commencé sa carrière militaire en 1958. D’abord posté en Allemagne, il a ensuite été envoyé au Vietnam comme conseiller militaire de John F. Kennedy.  M. Powell n’avait pas hésité à prendre ses distances avec le Parti républicain, soutenant par exemple en 2008 la candidature du démocrate Barack Obama. En 2020, il avait annoncé qu’il voterait pour M. Biden, dénonçant les « mensonges » de Donald Trump, après avoir déjà glissé dans l’urne un bulletin Hillary Clinton en 2016.   Le Monde avec AFP      L’espace des contributions est réservé aux abonnés. Abonnez-vous pour accéder à cet espace d’échange et contribuer à la discussion.    S’abonner Déjà abonné ? Se connecter    Contribuer  Partage  Partage désactivé Partage désactivé   Partage désactivé Envoyer par e-mail   Partage désactivé Partage désactivé   Partage désactivé Partage désactivé    \n"
     ]
    }
   ],
   "source": [
    "print(''.join(article.itertext()))"
   ]
  },
  {
   "cell_type": "code",
   "execution_count": 26,
   "id": "e7901a10-5fa7-48f8-ad52-551a8bea5830",
   "metadata": {},
   "outputs": [
    {
     "name": "stdout",
     "output_type": "stream",
     "text": [
      "Il était le premier Afro-Américain à avoir occupé le poste de chef d’état-major des armées, avant de devenir \n",
      "\n",
      "\n",
      "M. Powell est mort à l’hôpital Walter-Reed, situé dans la banlieue de Washington, où sont souvent soignés les présidents américains. Sa famille a par ailleurs précisé qu’il était \n",
      "\n",
      "\n",
      "George W. Bush a salué la mémoire de son ancien chef de la diplomatie, estimant qu’il était \n",
      "\n",
      "\n",
      "None\n",
      "\n",
      "\n",
      "None\n",
      "\n",
      "\n",
      "Défenseur de la guerre en Irak, M. Powell avait fait, le 5 février 2003, devant le Conseil de sécurité de l’Organisation des Nations unies (ONU), une longue allocution sur les armes de destruction massive prétendument détenues par l’Irak ; des arguments qui ont servi à justifier l’invasion du pays. Il a admis par la suite \n",
      "\n",
      "\n",
      "Né le 5 avril 1937 à Harlem, M. Powell a grandi à New York, où il a étudié la géologie. Il a commencé sa carrière militaire en 1958. D’abord posté en Allemagne, il a ensuite été envoyé au Vietnam comme conseiller militaire de John F. Kennedy.\n",
      "\n",
      "\n",
      "M. Powell n’avait pas hésité à prendre ses distances avec le Parti républicain, soutenant par exemple en 2008 la candidature du démocrate Barack Obama. En 2020, il avait annoncé qu’il voterait pour M. Biden, dénonçant les \n",
      "\n",
      "\n"
     ]
    }
   ],
   "source": [
    "for x in article.findall('p'):\n",
    "    print(x.text)\n",
    "    print('\\n')"
   ]
  },
  {
   "cell_type": "code",
   "execution_count": 39,
   "id": "ca6aabc9-53ac-4c4f-8d72-f232a039c78f",
   "metadata": {},
   "outputs": [],
   "source": [
    "related_articles = dom.xpath('/html/body/main/section[1]/section/section[1]/footer/section[2]/section')[0]"
   ]
  },
  {
   "cell_type": "code",
   "execution_count": 41,
   "id": "de4a27d5-76cf-409e-821e-363f15c349af",
   "metadata": {},
   "outputs": [
    {
     "data": {
      "text/plain": [
       "[]"
      ]
     },
     "execution_count": 41,
     "metadata": {},
     "output_type": "execute_result"
    }
   ],
   "source": [
    "related_articles.findall('p')"
   ]
  },
  {
   "cell_type": "code",
   "execution_count": 44,
   "id": "b51c1b16-e614-4156-8265-f60068098711",
   "metadata": {},
   "outputs": [
    {
     "data": {
      "text/plain": [
       "False"
      ]
     },
     "execution_count": 44,
     "metadata": {},
     "output_type": "execute_result"
    }
   ],
   "source": [
    "'La mort d’Abdul Qadeer Khan, fondateur du programme nucléaire pakistanais' in str(res.content)"
   ]
  },
  {
   "cell_type": "code",
   "execution_count": 45,
   "id": "4db1fa55-b285-432c-ab8f-4923039dd3a3",
   "metadata": {},
   "outputs": [],
   "source": [
    "import requests # requete get pour récupérer le html\n",
    "from bs4 import BeautifulSoup # parser le html en arbre dom\n",
    "from lxml import etree # une autre analyse de l'arbre dom pour utiliser les xpath"
   ]
  },
  {
   "cell_type": "code",
   "execution_count": 46,
   "id": "35637df8-480a-41e9-a1ae-da9a8d91b58b",
   "metadata": {},
   "outputs": [],
   "source": [
    "url = \"https://www.lemonde.fr/disparitions/article/2021/10/18/l-ancien-secretaire-d-etat-sous-george-w-bush-colin-powell-est-mort-du-covid-19_6098851_3382.html\"\n",
    "res = requests.get(url)\n",
    "html = res.content"
   ]
  },
  {
   "cell_type": "code",
   "execution_count": 47,
   "id": "e761072a-2034-4753-ad93-73477c43ff21",
   "metadata": {},
   "outputs": [],
   "source": [
    "soup = BeautifulSoup(res.content, 'html')"
   ]
  },
  {
   "cell_type": "code",
   "execution_count": 48,
   "id": "cefe37eb-9973-43a9-b2f3-dfe2479a2c80",
   "metadata": {},
   "outputs": [],
   "source": [
    "dom = etree.HTML(str(soup))"
   ]
  },
  {
   "cell_type": "code",
   "execution_count": 49,
   "id": "f0cb168c-009f-4837-9d04-1b2d24281686",
   "metadata": {},
   "outputs": [],
   "source": [
    "# récupérer le full xpath d'un endroit d'un site qui nous intéresse \n",
    "article = dom.xpath('/html/body/main/section[1]/section/section[1]/article')[0]"
   ]
  },
  {
   "cell_type": "code",
   "execution_count": 50,
   "id": "218ef32d-8f32-4a85-9271-566aa0420986",
   "metadata": {},
   "outputs": [
    {
     "data": {
      "text/plain": [
       "[<Element p at 0x7facedc912d0>,\n",
       " <Element p at 0x7facedc91460>,\n",
       " <Element p at 0x7facedc91370>,\n",
       " <Element p at 0x7facedc91320>,\n",
       " <Element p at 0x7facedc91500>,\n",
       " <Element p at 0x7facedc91550>,\n",
       " <Element p at 0x7facedc91e10>,\n",
       " <Element p at 0x7facedc913c0>]"
      ]
     },
     "execution_count": 50,
     "metadata": {},
     "output_type": "execute_result"
    }
   ],
   "source": [
    "article.findall('p')"
   ]
  },
  {
   "cell_type": "code",
   "execution_count": 51,
   "id": "2ef17f28-b494-4df6-8e87-cabe2e1b1597",
   "metadata": {},
   "outputs": [
    {
     "data": {
      "text/plain": [
       "' '"
      ]
     },
     "execution_count": 51,
     "metadata": {},
     "output_type": "execute_result"
    }
   ],
   "source": [
    "article.text"
   ]
  },
  {
   "cell_type": "code",
   "execution_count": null,
   "id": "b3e35562-0340-4b30-a195-935b6dc2eeb2",
   "metadata": {},
   "outputs": [],
   "source": []
  }
 ],
 "metadata": {
  "kernelspec": {
   "display_name": "Python 3 (ipykernel)",
   "language": "python",
   "name": "python3"
  },
  "language_info": {
   "codemirror_mode": {
    "name": "ipython",
    "version": 3
   },
   "file_extension": ".py",
   "mimetype": "text/x-python",
   "name": "python",
   "nbconvert_exporter": "python",
   "pygments_lexer": "ipython3",
   "version": "3.7.9"
  }
 },
 "nbformat": 4,
 "nbformat_minor": 5
}
