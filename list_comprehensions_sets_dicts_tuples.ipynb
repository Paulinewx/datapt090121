{
 "cells": [
  {
   "cell_type": "code",
   "execution_count": 1,
   "id": "1a4fa6d6-ee11-4de8-ada6-5056a53cdc88",
   "metadata": {},
   "outputs": [],
   "source": [
    "# liste"
   ]
  },
  {
   "cell_type": "code",
   "execution_count": 2,
   "id": "9fcfbbf3-a9cd-4a75-93fa-fac2b142a4c1",
   "metadata": {},
   "outputs": [],
   "source": [
    "a = [1, 3, 5]"
   ]
  },
  {
   "cell_type": "code",
   "execution_count": 3,
   "id": "c2cd2148-939d-4a9a-803e-c96ea81f3701",
   "metadata": {},
   "outputs": [
    {
     "data": {
      "text/plain": [
       "3"
      ]
     },
     "execution_count": 3,
     "metadata": {},
     "output_type": "execute_result"
    }
   ],
   "source": [
    "len(a)"
   ]
  },
  {
   "cell_type": "code",
   "execution_count": 4,
   "id": "fe7a44d7-c959-46af-b6cc-a9fe5424c7ce",
   "metadata": {},
   "outputs": [],
   "source": [
    "a.append(6)"
   ]
  },
  {
   "cell_type": "code",
   "execution_count": 5,
   "id": "4ab270f8-40fc-4224-9f17-ced5cef40da5",
   "metadata": {},
   "outputs": [
    {
     "data": {
      "text/plain": [
       "1"
      ]
     },
     "execution_count": 5,
     "metadata": {},
     "output_type": "execute_result"
    }
   ],
   "source": [
    "a[0]"
   ]
  },
  {
   "cell_type": "code",
   "execution_count": 6,
   "id": "130f1799-23c6-4a7b-b33b-a2b53305e028",
   "metadata": {},
   "outputs": [
    {
     "data": {
      "text/plain": [
       "3"
      ]
     },
     "execution_count": 6,
     "metadata": {},
     "output_type": "execute_result"
    }
   ],
   "source": [
    "a[1]"
   ]
  },
  {
   "cell_type": "code",
   "execution_count": 7,
   "id": "3bf560ec-2c4d-45de-bd34-654a11333f6d",
   "metadata": {},
   "outputs": [
    {
     "data": {
      "text/plain": [
       "5"
      ]
     },
     "execution_count": 7,
     "metadata": {},
     "output_type": "execute_result"
    }
   ],
   "source": [
    "a[2]"
   ]
  },
  {
   "cell_type": "code",
   "execution_count": 8,
   "id": "3b510635-e1ac-4b3b-8d17-b5491629519f",
   "metadata": {},
   "outputs": [
    {
     "data": {
      "text/plain": [
       "[1, 3, 5, 6]"
      ]
     },
     "execution_count": 8,
     "metadata": {},
     "output_type": "execute_result"
    }
   ],
   "source": [
    "a"
   ]
  },
  {
   "cell_type": "code",
   "execution_count": 9,
   "id": "4dd8f4d6-6206-4470-a513-fc7e54f25950",
   "metadata": {},
   "outputs": [],
   "source": [
    "N = 10\n",
    "P = 20"
   ]
  },
  {
   "cell_type": "code",
   "execution_count": 10,
   "id": "f5661e06-e93a-483d-b49a-6d7339998d9f",
   "metadata": {},
   "outputs": [
    {
     "data": {
      "text/plain": [
       "[[1, 2, 3], [4, 5, 6]]"
      ]
     },
     "execution_count": 10,
     "metadata": {},
     "output_type": "execute_result"
    }
   ],
   "source": [
    "[[1, 2, 3], [4, 5, 6]]"
   ]
  },
  {
   "cell_type": "code",
   "execution_count": 17,
   "id": "79787cd5-a583-44a9-a32e-6912c515d2e0",
   "metadata": {},
   "outputs": [],
   "source": [
    "l = []\n",
    "c = 1\n",
    "for i in range(N):\n",
    "    row = []\n",
    "    for j in range(P):\n",
    "        row.append(c)\n",
    "        c += 1\n",
    "    l.append(row)"
   ]
  },
  {
   "cell_type": "code",
   "execution_count": 18,
   "id": "ff215d03-2e5a-4f75-ba7b-3c03add495f1",
   "metadata": {},
   "outputs": [
    {
     "name": "stdout",
     "output_type": "stream",
     "text": [
      "[[1, 2, 3, 4, 5, 6, 7, 8, 9, 10, 11, 12, 13, 14, 15, 16, 17, 18, 19, 20], [21, 22, 23, 24, 25, 26, 27, 28, 29, 30, 31, 32, 33, 34, 35, 36, 37, 38, 39, 40], [41, 42, 43, 44, 45, 46, 47, 48, 49, 50, 51, 52, 53, 54, 55, 56, 57, 58, 59, 60], [61, 62, 63, 64, 65, 66, 67, 68, 69, 70, 71, 72, 73, 74, 75, 76, 77, 78, 79, 80], [81, 82, 83, 84, 85, 86, 87, 88, 89, 90, 91, 92, 93, 94, 95, 96, 97, 98, 99, 100], [101, 102, 103, 104, 105, 106, 107, 108, 109, 110, 111, 112, 113, 114, 115, 116, 117, 118, 119, 120], [121, 122, 123, 124, 125, 126, 127, 128, 129, 130, 131, 132, 133, 134, 135, 136, 137, 138, 139, 140], [141, 142, 143, 144, 145, 146, 147, 148, 149, 150, 151, 152, 153, 154, 155, 156, 157, 158, 159, 160], [161, 162, 163, 164, 165, 166, 167, 168, 169, 170, 171, 172, 173, 174, 175, 176, 177, 178, 179, 180], [181, 182, 183, 184, 185, 186, 187, 188, 189, 190, 191, 192, 193, 194, 195, 196, 197, 198, 199, 200]]\n"
     ]
    }
   ],
   "source": [
    "print(l)"
   ]
  },
  {
   "cell_type": "code",
   "execution_count": 19,
   "id": "98918d62-60fb-4eb9-aecd-5f4983912441",
   "metadata": {},
   "outputs": [
    {
     "data": {
      "text/plain": [
       "[[1, 0.5], [2.0, 1]]"
      ]
     },
     "execution_count": 19,
     "metadata": {},
     "output_type": "execute_result"
    }
   ],
   "source": [
    "[[1, 1/2], [2/1, 1]]"
   ]
  },
  {
   "cell_type": "code",
   "execution_count": 20,
   "id": "6a999bdb-c76d-4103-930c-c321d427b79c",
   "metadata": {},
   "outputs": [],
   "source": [
    "# list comprehension = façon de créer dynamiquement une liste"
   ]
  },
  {
   "cell_type": "code",
   "execution_count": 27,
   "id": "5b53c2cf-2d25-499c-9a36-d9c4f801cfb1",
   "metadata": {},
   "outputs": [],
   "source": [
    "def loop_example():\n",
    "    N, P = 1000, 2000\n",
    "    l = []\n",
    "    for i in range(N):\n",
    "        row = []\n",
    "        for j in range(P):\n",
    "            row.append((i, j))\n",
    "        l.append(row)"
   ]
  },
  {
   "cell_type": "code",
   "execution_count": 28,
   "id": "b76679ec-5a64-4ad3-896f-1b6aa0135f9f",
   "metadata": {},
   "outputs": [
    {
     "name": "stdout",
     "output_type": "stream",
     "text": [
      "686 ms ± 23.1 ms per loop (mean ± std. dev. of 7 runs, 1 loop each)\n"
     ]
    }
   ],
   "source": [
    "%timeit loop_example()"
   ]
  },
  {
   "cell_type": "code",
   "execution_count": 29,
   "id": "7dfa74a6-0a5e-4523-9d0f-0fa8db7381d0",
   "metadata": {},
   "outputs": [],
   "source": [
    "N, P = 1000, 2000"
   ]
  },
  {
   "cell_type": "code",
   "execution_count": 30,
   "id": "b509e59f-e9e9-48f6-b356-857cfb8b74ff",
   "metadata": {},
   "outputs": [
    {
     "name": "stdout",
     "output_type": "stream",
     "text": [
      "801 ms ± 399 ms per loop (mean ± std. dev. of 7 runs, 1 loop each)\n"
     ]
    }
   ],
   "source": [
    "%timeit [[(i, j) for j in range(P)] for i in range(N)]"
   ]
  },
  {
   "cell_type": "code",
   "execution_count": 39,
   "id": "472d2abd-d460-4ebe-af6d-0de6bc91e8bc",
   "metadata": {},
   "outputs": [],
   "source": [
    "l = []\n",
    "for i in range(10):\n",
    "    if i % 3 == 1:\n",
    "        l.append(i)"
   ]
  },
  {
   "cell_type": "code",
   "execution_count": 40,
   "id": "8158ab69-3685-4767-b628-f42ad6b4dfc3",
   "metadata": {},
   "outputs": [],
   "source": [
    "l = [i for i in range(10) if i % 3 == 1]"
   ]
  },
  {
   "cell_type": "code",
   "execution_count": 41,
   "id": "d2f52866-9a38-4966-bc47-dc6dfd4cc518",
   "metadata": {},
   "outputs": [
    {
     "data": {
      "text/plain": [
       "[1, 4, 7]"
      ]
     },
     "execution_count": 41,
     "metadata": {},
     "output_type": "execute_result"
    }
   ],
   "source": [
    "l"
   ]
  },
  {
   "cell_type": "code",
   "execution_count": 46,
   "id": "3edd45f9-a825-4967-84e6-1aac44800d94",
   "metadata": {},
   "outputs": [],
   "source": [
    "l1 = []\n",
    "for i in range(10):\n",
    "    if i % 3 == 1:\n",
    "        for j in range(20):\n",
    "            if j / (i + 1) > 1:\n",
    "                l1.append(i * j)"
   ]
  },
  {
   "cell_type": "code",
   "execution_count": 47,
   "id": "5b3e668e-265d-4051-b8de-054fd2e665f6",
   "metadata": {},
   "outputs": [],
   "source": [
    "l2 = [i * j for i in range(10) if i % 3 == 1 for j in range(20) if j / (i + 1) > 1]"
   ]
  },
  {
   "cell_type": "code",
   "execution_count": 48,
   "id": "b1424f55-4a68-4b12-830e-3d720d2e166a",
   "metadata": {},
   "outputs": [
    {
     "data": {
      "text/plain": [
       "True"
      ]
     },
     "execution_count": 48,
     "metadata": {},
     "output_type": "execute_result"
    }
   ],
   "source": [
    "l1 == l2"
   ]
  },
  {
   "cell_type": "code",
   "execution_count": 49,
   "id": "554dacbe-61d0-456a-85bf-c007aa99a457",
   "metadata": {},
   "outputs": [],
   "source": [
    "text = \"\"\"The times reported by %timeit will be slightly higher than those reported by the timeit.py script when variables are accessed. This is due to the fact that %timeit executes the statement in the namespace of the shell, compared with timeit.py, which uses a single setup statement to import function or create variables. Generally, the bias does not matter as long as results from timeit.py are not mixed with those from %timeit.\"\"\""
   ]
  },
  {
   "cell_type": "code",
   "execution_count": 50,
   "id": "a2042256-0bb4-47bf-8206-0c459ce4e1d4",
   "metadata": {},
   "outputs": [
    {
     "data": {
      "text/plain": [
       "'The times reported by %timeit will be slightly higher than those reported by the timeit.py script when variables are accessed. This is due to the fact that %timeit executes the statement in the namespace of the shell, compared with timeit.py, which uses a single setup statement to import function or create variables. Generally, the bias does not matter as long as results from timeit.py are not mixed with those from %timeit.'"
      ]
     },
     "execution_count": 50,
     "metadata": {},
     "output_type": "execute_result"
    }
   ],
   "source": [
    "text"
   ]
  },
  {
   "cell_type": "code",
   "execution_count": null,
   "id": "e698b3d3-8fea-44aa-9ac6-294eecd1c4f5",
   "metadata": {},
   "outputs": [],
   "source": [
    "[[\"je\", \"suis\", \"fatigue\"], [\"moi\", \"aussi\", \".\"]]\n",
    "N = 10"
   ]
  },
  {
   "cell_type": "code",
   "execution_count": 52,
   "id": "1edaa2ec-d8cb-40f8-883f-631e35e1e3a7",
   "metadata": {},
   "outputs": [],
   "source": [
    "# exo : avec une list comprehension, faire une liste de listes "
   ]
  },
  {
   "cell_type": "code",
   "execution_count": 81,
   "id": "cbf25edc-c330-41af-a188-32f6f9bbc328",
   "metadata": {},
   "outputs": [],
   "source": [
    "N = len(text.split())\n",
    "B = N // 10"
   ]
  },
  {
   "cell_type": "code",
   "execution_count": 82,
   "id": "dc6650cc-1098-4bef-9fcd-dad5067b1249",
   "metadata": {},
   "outputs": [
    {
     "data": {
      "text/plain": [
       "7"
      ]
     },
     "execution_count": 82,
     "metadata": {},
     "output_type": "execute_result"
    }
   ],
   "source": [
    "B"
   ]
  },
  {
   "cell_type": "code",
   "execution_count": 83,
   "id": "1ccbf019-34d7-40a6-b180-cb8b5742c297",
   "metadata": {},
   "outputs": [
    {
     "data": {
      "text/plain": [
       "71"
      ]
     },
     "execution_count": 83,
     "metadata": {},
     "output_type": "execute_result"
    }
   ],
   "source": [
    "N"
   ]
  },
  {
   "cell_type": "code",
   "execution_count": 85,
   "id": "98ebdd6d-97c5-4f7b-b8d2-de0aabb8646f",
   "metadata": {},
   "outputs": [],
   "source": [
    "def test_loop():\n",
    "    l1 = []\n",
    "    for i in range(B + 1):\n",
    "        r = []\n",
    "        for j in range(10):\n",
    "            if i * 10 + j < N:\n",
    "                r.append(text.split()[i * 10 + j])\n",
    "        l1.append(r)"
   ]
  },
  {
   "cell_type": "code",
   "execution_count": 86,
   "id": "348a7ff0-0c0c-49ee-a309-ffc62e30e5d3",
   "metadata": {},
   "outputs": [
    {
     "name": "stdout",
     "output_type": "stream",
     "text": [
      "1.13 ms ± 519 µs per loop (mean ± std. dev. of 7 runs, 1000 loops each)\n"
     ]
    }
   ],
   "source": [
    "%timeit test_loop()"
   ]
  },
  {
   "cell_type": "code",
   "execution_count": 87,
   "id": "a9a466d2-a68a-477b-a953-31234e912fbc",
   "metadata": {},
   "outputs": [
    {
     "name": "stdout",
     "output_type": "stream",
     "text": [
      "620 µs ± 30.7 µs per loop (mean ± std. dev. of 7 runs, 1000 loops each)\n"
     ]
    }
   ],
   "source": [
    "%timeit [[text.split()[i * 10 + j] for j in range(10) if i * 10 + j < N] for i in range(B + 1)]"
   ]
  },
  {
   "cell_type": "code",
   "execution_count": 84,
   "id": "ce8d386b-61bc-405b-a34f-2a0ac0c880e3",
   "metadata": {},
   "outputs": [
    {
     "data": {
      "text/plain": [
       "True"
      ]
     },
     "execution_count": 84,
     "metadata": {},
     "output_type": "execute_result"
    }
   ],
   "source": [
    "l1 == l2"
   ]
  },
  {
   "cell_type": "code",
   "execution_count": 67,
   "id": "05ccd99d-17c1-4a99-a0b2-8cd5dcb3948a",
   "metadata": {},
   "outputs": [
    {
     "data": {
      "text/plain": [
       "[['The',\n",
       "  'times',\n",
       "  'reported',\n",
       "  'by',\n",
       "  '%timeit',\n",
       "  'will',\n",
       "  'be',\n",
       "  'slightly',\n",
       "  'higher',\n",
       "  'than'],\n",
       " ['those',\n",
       "  'reported',\n",
       "  'by',\n",
       "  'the',\n",
       "  'timeit.py',\n",
       "  'script',\n",
       "  'when',\n",
       "  'variables',\n",
       "  'are',\n",
       "  'accessed.'],\n",
       " ['This',\n",
       "  'is',\n",
       "  'due',\n",
       "  'to',\n",
       "  'the',\n",
       "  'fact',\n",
       "  'that',\n",
       "  '%timeit',\n",
       "  'executes',\n",
       "  'the'],\n",
       " ['statement',\n",
       "  'in',\n",
       "  'the',\n",
       "  'namespace',\n",
       "  'of',\n",
       "  'the',\n",
       "  'shell,',\n",
       "  'compared',\n",
       "  'with',\n",
       "  'timeit.py,'],\n",
       " ['which',\n",
       "  'uses',\n",
       "  'a',\n",
       "  'single',\n",
       "  'setup',\n",
       "  'statement',\n",
       "  'to',\n",
       "  'import',\n",
       "  'function',\n",
       "  'or'],\n",
       " ['create',\n",
       "  'variables.',\n",
       "  'Generally,',\n",
       "  'the',\n",
       "  'bias',\n",
       "  'does',\n",
       "  'not',\n",
       "  'matter',\n",
       "  'as',\n",
       "  'long'],\n",
       " ['as',\n",
       "  'results',\n",
       "  'from',\n",
       "  'timeit.py',\n",
       "  'are',\n",
       "  'not',\n",
       "  'mixed',\n",
       "  'with',\n",
       "  'those',\n",
       "  'from'],\n",
       " ['%timeit.']]"
      ]
     },
     "execution_count": 67,
     "metadata": {},
     "output_type": "execute_result"
    }
   ],
   "source": [
    "l2"
   ]
  },
  {
   "cell_type": "code",
   "execution_count": 79,
   "id": "58eb42cd-be8e-452c-87e6-19ee610bb38b",
   "metadata": {},
   "outputs": [],
   "source": [
    "c = 1\n",
    "l = []\n",
    "r = []\n",
    "for w in text.split():\n",
    "    r.append(w)\n",
    "    if c % 10 == 0:\n",
    "        l.append(r)\n",
    "        r = []\n",
    "    c += 1\n",
    "if c % 10 != 0:\n",
    "    l.append(r)"
   ]
  },
  {
   "cell_type": "code",
   "execution_count": 80,
   "id": "be1d00a4-7e55-4d80-95af-4a64458bca89",
   "metadata": {},
   "outputs": [
    {
     "data": {
      "text/plain": [
       "[['The',\n",
       "  'times',\n",
       "  'reported',\n",
       "  'by',\n",
       "  '%timeit',\n",
       "  'will',\n",
       "  'be',\n",
       "  'slightly',\n",
       "  'higher',\n",
       "  'than'],\n",
       " ['those',\n",
       "  'reported',\n",
       "  'by',\n",
       "  'the',\n",
       "  'timeit.py',\n",
       "  'script',\n",
       "  'when',\n",
       "  'variables',\n",
       "  'are',\n",
       "  'accessed.'],\n",
       " ['This',\n",
       "  'is',\n",
       "  'due',\n",
       "  'to',\n",
       "  'the',\n",
       "  'fact',\n",
       "  'that',\n",
       "  '%timeit',\n",
       "  'executes',\n",
       "  'the'],\n",
       " ['statement',\n",
       "  'in',\n",
       "  'the',\n",
       "  'namespace',\n",
       "  'of',\n",
       "  'the',\n",
       "  'shell,',\n",
       "  'compared',\n",
       "  'with',\n",
       "  'timeit.py,'],\n",
       " ['which',\n",
       "  'uses',\n",
       "  'a',\n",
       "  'single',\n",
       "  'setup',\n",
       "  'statement',\n",
       "  'to',\n",
       "  'import',\n",
       "  'function',\n",
       "  'or'],\n",
       " ['create',\n",
       "  'variables.',\n",
       "  'Generally,',\n",
       "  'the',\n",
       "  'bias',\n",
       "  'does',\n",
       "  'not',\n",
       "  'matter',\n",
       "  'as',\n",
       "  'long'],\n",
       " ['as',\n",
       "  'results',\n",
       "  'from',\n",
       "  'timeit.py',\n",
       "  'are',\n",
       "  'not',\n",
       "  'mixed',\n",
       "  'with',\n",
       "  'those',\n",
       "  'from'],\n",
       " ['%timeit.']]"
      ]
     },
     "execution_count": 80,
     "metadata": {},
     "output_type": "execute_result"
    }
   ],
   "source": [
    "l"
   ]
  },
  {
   "cell_type": "code",
   "execution_count": 88,
   "id": "9fac5953-bc29-4fd5-aace-69a2d1421189",
   "metadata": {},
   "outputs": [],
   "source": [
    "# dictionnaires"
   ]
  },
  {
   "cell_type": "code",
   "execution_count": 89,
   "id": "2664f6ae-d2d6-496c-8ac2-35d22c3335f0",
   "metadata": {},
   "outputs": [],
   "source": [
    "d = {\"jm\": 32, \"alice\": 24, \"bob\": 13}"
   ]
  },
  {
   "cell_type": "code",
   "execution_count": 90,
   "id": "ec0e6163-f0db-41d2-82b6-851fd9e23f98",
   "metadata": {},
   "outputs": [],
   "source": [
    "d[\"katya\"] = 27"
   ]
  },
  {
   "cell_type": "code",
   "execution_count": 91,
   "id": "ec0251cd-d5e7-4830-8677-949676a2a57f",
   "metadata": {},
   "outputs": [
    {
     "data": {
      "text/plain": [
       "{'jm': 32, 'alice': 24, 'bob': 13, 'katya': 27}"
      ]
     },
     "execution_count": 91,
     "metadata": {},
     "output_type": "execute_result"
    }
   ],
   "source": [
    "d"
   ]
  },
  {
   "cell_type": "code",
   "execution_count": 92,
   "id": "5ff548b3-8782-4ab8-983f-bf9a53c0c2e1",
   "metadata": {},
   "outputs": [],
   "source": [
    "d[\"jm\"] = 28"
   ]
  },
  {
   "cell_type": "code",
   "execution_count": 93,
   "id": "317b7577-48d4-4d15-af8b-c843b1138773",
   "metadata": {},
   "outputs": [
    {
     "data": {
      "text/plain": [
       "{'jm': 28, 'alice': 24, 'bob': 13, 'katya': 27}"
      ]
     },
     "execution_count": 93,
     "metadata": {},
     "output_type": "execute_result"
    }
   ],
   "source": [
    "d"
   ]
  },
  {
   "cell_type": "code",
   "execution_count": 94,
   "id": "452e9560-077a-46c5-a935-39e935d9141d",
   "metadata": {},
   "outputs": [],
   "source": [
    "d[\"jean-marc\"] = d[\"jm\"]"
   ]
  },
  {
   "cell_type": "code",
   "execution_count": 95,
   "id": "310ad700-1c27-48af-9809-9fd306f543a8",
   "metadata": {},
   "outputs": [
    {
     "data": {
      "text/plain": [
       "{'jm': 28, 'alice': 24, 'bob': 13, 'katya': 27, 'jean-marc': 28}"
      ]
     },
     "execution_count": 95,
     "metadata": {},
     "output_type": "execute_result"
    }
   ],
   "source": [
    "d"
   ]
  },
  {
   "cell_type": "code",
   "execution_count": 96,
   "id": "50eb77f9-0cfe-48a6-ade7-90ce04e89d78",
   "metadata": {},
   "outputs": [],
   "source": [
    "del d[\"jm\"]"
   ]
  },
  {
   "cell_type": "code",
   "execution_count": 97,
   "id": "62159ad4-bd54-4628-8684-b2067cc7b6a6",
   "metadata": {},
   "outputs": [
    {
     "data": {
      "text/plain": [
       "{'alice': 24, 'bob': 13, 'katya': 27, 'jean-marc': 28}"
      ]
     },
     "execution_count": 97,
     "metadata": {},
     "output_type": "execute_result"
    }
   ],
   "source": [
    "d"
   ]
  },
  {
   "cell_type": "code",
   "execution_count": 99,
   "id": "ee683828-addc-43a9-9e79-31b6eb53865b",
   "metadata": {},
   "outputs": [],
   "source": [
    "l = [i for i in range(100000)]"
   ]
  },
  {
   "cell_type": "code",
   "execution_count": 100,
   "id": "bfa63ddb-2315-43b8-8b6a-e4626d0c4eb5",
   "metadata": {},
   "outputs": [],
   "source": [
    "for j in l:\n",
    "    if j == 607888:\n",
    "        print('yes')\n",
    "        break"
   ]
  },
  {
   "cell_type": "code",
   "execution_count": 101,
   "id": "33fc2c99-c73b-457e-9f90-e94c096bef7a",
   "metadata": {},
   "outputs": [],
   "source": [
    "d = {i: 1 for i in range(100000)}"
   ]
  },
  {
   "cell_type": "code",
   "execution_count": 102,
   "id": "dd854787-2c60-4078-8e47-c6f9d0bf17f8",
   "metadata": {},
   "outputs": [],
   "source": [
    "if 607888 in d:\n",
    "    print('yes')"
   ]
  },
  {
   "cell_type": "code",
   "execution_count": 104,
   "id": "d6aa13b9-9782-42d1-a4d7-62e22af3fd00",
   "metadata": {},
   "outputs": [],
   "source": [
    "def s_loop(l, x):\n",
    "    for j in l:\n",
    "        if j == x:\n",
    "            print('yes')\n",
    "            break"
   ]
  },
  {
   "cell_type": "code",
   "execution_count": 105,
   "id": "a1a53b57-6695-4211-a4e0-974554853021",
   "metadata": {},
   "outputs": [],
   "source": [
    "N = 100000000\n",
    "l = [i for i in range(N)]"
   ]
  },
  {
   "cell_type": "code",
   "execution_count": 106,
   "id": "c1ae356b-17d2-4b1b-b2ed-55434fafaae5",
   "metadata": {},
   "outputs": [
    {
     "name": "stdout",
     "output_type": "stream",
     "text": [
      "yes\n",
      "yes\n",
      "yes\n",
      "yes\n",
      "yes\n",
      "yes\n",
      "yes\n",
      "yes\n",
      "27.6 s ± 2.44 s per loop (mean ± std. dev. of 7 runs, 1 loop each)\n"
     ]
    }
   ],
   "source": [
    "%timeit s_loop(l, N-1)"
   ]
  },
  {
   "cell_type": "code",
   "execution_count": 108,
   "id": "8e544c42-9183-4154-875c-31c6173d70b1",
   "metadata": {},
   "outputs": [],
   "source": [
    "d = {i: 1 for i in range(100000)}"
   ]
  },
  {
   "cell_type": "code",
   "execution_count": 109,
   "id": "d5c4834c-d150-4464-83fa-31fdb56f9fe7",
   "metadata": {},
   "outputs": [],
   "source": [
    "def s_dict(d_, x):\n",
    "    if x in d:\n",
    "        print('yes')"
   ]
  },
  {
   "cell_type": "code",
   "execution_count": 110,
   "id": "feb13357-7bd7-43b5-9d6d-c4597bea23f2",
   "metadata": {},
   "outputs": [
    {
     "name": "stdout",
     "output_type": "stream",
     "text": [
      "438 ns ± 125 ns per loop (mean ± std. dev. of 7 runs, 1000000 loops each)\n"
     ]
    }
   ],
   "source": [
    "%timeit s_dict(d, N-1)"
   ]
  },
  {
   "cell_type": "code",
   "execution_count": 111,
   "id": "d487d581-c966-45d8-8bb8-4268eefcb2a8",
   "metadata": {},
   "outputs": [],
   "source": [
    "d = {}\n",
    "for i in range(10):\n",
    "    d[i] = i * 10"
   ]
  },
  {
   "cell_type": "code",
   "execution_count": 112,
   "id": "286e8431-c007-4b7f-a3a0-3a8479c7e327",
   "metadata": {},
   "outputs": [
    {
     "data": {
      "text/plain": [
       "{0: 0, 1: 10, 2: 20, 3: 30, 4: 40, 5: 50, 6: 60, 7: 70, 8: 80, 9: 90}"
      ]
     },
     "execution_count": 112,
     "metadata": {},
     "output_type": "execute_result"
    }
   ],
   "source": [
    "d"
   ]
  },
  {
   "cell_type": "code",
   "execution_count": 113,
   "id": "2a4ccbd1-363a-4af2-bc6f-000f0c5a35c7",
   "metadata": {},
   "outputs": [],
   "source": [
    "d = {i: i * 10 for i in range(10)}"
   ]
  },
  {
   "cell_type": "code",
   "execution_count": 114,
   "id": "9a17aebd-5494-4842-9007-56f3e25af147",
   "metadata": {},
   "outputs": [
    {
     "data": {
      "text/plain": [
       "{0: 0, 1: 10, 2: 20, 3: 30, 4: 40, 5: 50, 6: 60, 7: 70, 8: 80, 9: 90}"
      ]
     },
     "execution_count": 114,
     "metadata": {},
     "output_type": "execute_result"
    }
   ],
   "source": [
    "d"
   ]
  },
  {
   "cell_type": "code",
   "execution_count": 115,
   "id": "a825a310-ed79-4288-9442-3bd669db5f82",
   "metadata": {},
   "outputs": [],
   "source": [
    "# set"
   ]
  },
  {
   "cell_type": "code",
   "execution_count": 121,
   "id": "2723ecdc-6912-4f97-8cd4-72af42139dac",
   "metadata": {},
   "outputs": [
    {
     "data": {
      "text/plain": [
       "{'%timeit',\n",
       " '%timeit.',\n",
       " 'a',\n",
       " 'accessed.',\n",
       " 'are',\n",
       " 'as',\n",
       " 'be',\n",
       " 'bias',\n",
       " 'by',\n",
       " 'compared',\n",
       " 'create',\n",
       " 'does',\n",
       " 'due',\n",
       " 'executes',\n",
       " 'fact',\n",
       " 'from',\n",
       " 'function',\n",
       " 'generally,',\n",
       " 'higher',\n",
       " 'import',\n",
       " 'in',\n",
       " 'is',\n",
       " 'long',\n",
       " 'matter',\n",
       " 'mixed',\n",
       " 'namespace',\n",
       " 'not',\n",
       " 'of',\n",
       " 'or',\n",
       " 'reported',\n",
       " 'results',\n",
       " 'script',\n",
       " 'setup',\n",
       " 'shell,',\n",
       " 'single',\n",
       " 'slightly',\n",
       " 'statement',\n",
       " 'than',\n",
       " 'that',\n",
       " 'the',\n",
       " 'this',\n",
       " 'those',\n",
       " 'timeit.py',\n",
       " 'timeit.py,',\n",
       " 'times',\n",
       " 'to',\n",
       " 'uses',\n",
       " 'variables',\n",
       " 'variables.',\n",
       " 'when',\n",
       " 'which',\n",
       " 'will',\n",
       " 'with'}"
      ]
     },
     "execution_count": 121,
     "metadata": {},
     "output_type": "execute_result"
    }
   ],
   "source": [
    "set(text.lower().split())"
   ]
  },
  {
   "cell_type": "code",
   "execution_count": 122,
   "id": "330f4227-51b2-4717-aeb6-0def36fc7a17",
   "metadata": {},
   "outputs": [],
   "source": [
    "# tuples"
   ]
  },
  {
   "cell_type": "code",
   "execution_count": 123,
   "id": "b3791ab1-ef64-48e0-8271-242ac052b0f8",
   "metadata": {},
   "outputs": [],
   "source": [
    "t = (2, 5, 7)"
   ]
  },
  {
   "cell_type": "code",
   "execution_count": 124,
   "id": "f94707d2-c51e-4286-9841-1d9090cd7366",
   "metadata": {},
   "outputs": [
    {
     "data": {
      "text/plain": [
       "7"
      ]
     },
     "execution_count": 124,
     "metadata": {},
     "output_type": "execute_result"
    }
   ],
   "source": [
    "t[2]"
   ]
  },
  {
   "cell_type": "code",
   "execution_count": 125,
   "id": "2e8876e0-701e-4c5b-85c2-b9c2287db0a1",
   "metadata": {},
   "outputs": [
    {
     "ename": "TypeError",
     "evalue": "'tuple' object does not support item assignment",
     "output_type": "error",
     "traceback": [
      "\u001b[0;31m---------------------------------------------------------------------------\u001b[0m",
      "\u001b[0;31mTypeError\u001b[0m                                 Traceback (most recent call last)",
      "\u001b[0;32m/var/folders/yh/8wtmx8jd1n540jp1kgvkwm5w0000gp/T/ipykernel_74610/335498656.py\u001b[0m in \u001b[0;36m<module>\u001b[0;34m\u001b[0m\n\u001b[0;32m----> 1\u001b[0;31m \u001b[0mt\u001b[0m\u001b[0;34m[\u001b[0m\u001b[0;36m2\u001b[0m\u001b[0;34m]\u001b[0m \u001b[0;34m=\u001b[0m \u001b[0;36m8\u001b[0m\u001b[0;34m\u001b[0m\u001b[0;34m\u001b[0m\u001b[0m\n\u001b[0m",
      "\u001b[0;31mTypeError\u001b[0m: 'tuple' object does not support item assignment"
     ]
    }
   ],
   "source": [
    "t[2] = 8"
   ]
  },
  {
   "cell_type": "code",
   "execution_count": 126,
   "id": "b0bd1fe7-6c88-4988-9c62-6268bb7c5b88",
   "metadata": {},
   "outputs": [],
   "source": [
    "# immutable"
   ]
  },
  {
   "cell_type": "code",
   "execution_count": 128,
   "id": "bcb793d1-8189-4d85-84cb-9738aaacdb20",
   "metadata": {},
   "outputs": [],
   "source": [
    "def tuple_example():\n",
    "    a = 3\n",
    "    b = 4\n",
    "    return a, b"
   ]
  },
  {
   "cell_type": "code",
   "execution_count": 129,
   "id": "a8c51a88-5b96-4ea1-94c4-1bd5b57ce534",
   "metadata": {},
   "outputs": [
    {
     "data": {
      "text/plain": [
       "(3, 4)"
      ]
     },
     "execution_count": 129,
     "metadata": {},
     "output_type": "execute_result"
    }
   ],
   "source": [
    "tuple_example()"
   ]
  },
  {
   "cell_type": "code",
   "execution_count": null,
   "id": "b48aeae8-6d71-4b64-adb8-2515bd310ef6",
   "metadata": {},
   "outputs": [],
   "source": []
  }
 ],
 "metadata": {
  "kernelspec": {
   "display_name": "Python 3 (ipykernel)",
   "language": "python",
   "name": "python3"
  },
  "language_info": {
   "codemirror_mode": {
    "name": "ipython",
    "version": 3
   },
   "file_extension": ".py",
   "mimetype": "text/x-python",
   "name": "python",
   "nbconvert_exporter": "python",
   "pygments_lexer": "ipython3",
   "version": "3.9.0"
  }
 },
 "nbformat": 4,
 "nbformat_minor": 5
}
