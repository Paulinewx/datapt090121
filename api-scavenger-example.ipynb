{
 "cells": [
  {
   "cell_type": "code",
   "execution_count": 1,
   "id": "2fd13c57-ab3b-45f5-b4ae-c79e47eff37e",
   "metadata": {},
   "outputs": [],
   "source": [
    "import requests\n",
    "import pandas as pd"
   ]
  },
  {
   "cell_type": "code",
   "execution_count": 6,
   "id": "23e5400b-a4cd-4ced-a4de-b1f6c0283991",
   "metadata": {},
   "outputs": [],
   "source": [
    "owner = 'ironhack-datalabs'\n",
    "repo = 'mad-oct-2018'\n",
    "per_page = 100\n",
    "url = f'https://api.github.com/repos/{owner}/{repo}/forks?per_page={per_page}'"
   ]
  },
  {
   "cell_type": "code",
   "execution_count": 3,
   "id": "5d992107-bc71-4bfe-8ff7-2a917f4912b6",
   "metadata": {},
   "outputs": [],
   "source": [
    "token = next(open('github_api_token', 'r'))"
   ]
  },
  {
   "cell_type": "code",
   "execution_count": 4,
   "id": "2eace5be-c781-4670-a807-a84199523844",
   "metadata": {},
   "outputs": [],
   "source": [
    "headers = {'accept': 'application/vnd.github.v3+json',\n",
    "           'Authorization': f'token {token}'}"
   ]
  },
  {
   "cell_type": "code",
   "execution_count": 7,
   "id": "066780b3-e711-4e8d-836b-833191de6b73",
   "metadata": {},
   "outputs": [],
   "source": [
    "res = requests.get(url, headers=headers)"
   ]
  },
  {
   "cell_type": "code",
   "execution_count": 8,
   "id": "abf1e44e-ec1d-491a-b301-efd610551243",
   "metadata": {},
   "outputs": [
    {
     "data": {
      "text/plain": [
       "<Response [200]>"
      ]
     },
     "execution_count": 8,
     "metadata": {},
     "output_type": "execute_result"
    }
   ],
   "source": [
    "res"
   ]
  },
  {
   "cell_type": "code",
   "execution_count": 12,
   "id": "7a6666b5-5f92-416c-b538-3e2b211693d4",
   "metadata": {},
   "outputs": [],
   "source": [
    "forks_df = pd.DataFrame(res.json())"
   ]
  },
  {
   "cell_type": "code",
   "execution_count": 13,
   "id": "21a9f776-e1df-42ca-81a9-772f5c87d675",
   "metadata": {},
   "outputs": [
    {
     "name": "stdout",
     "output_type": "stream",
     "text": [
      "<class 'pandas.core.frame.DataFrame'>\n",
      "RangeIndex: 17 entries, 0 to 16\n",
      "Data columns (total 78 columns):\n",
      " #   Column             Non-Null Count  Dtype \n",
      "---  ------             --------------  ----- \n",
      " 0   id                 17 non-null     int64 \n",
      " 1   node_id            17 non-null     object\n",
      " 2   name               17 non-null     object\n",
      " 3   full_name          17 non-null     object\n",
      " 4   private            17 non-null     bool  \n",
      " 5   owner              17 non-null     object\n",
      " 6   html_url           17 non-null     object\n",
      " 7   description        10 non-null     object\n",
      " 8   fork               17 non-null     bool  \n",
      " 9   url                17 non-null     object\n",
      " 10  forks_url          17 non-null     object\n",
      " 11  keys_url           17 non-null     object\n",
      " 12  collaborators_url  17 non-null     object\n",
      " 13  teams_url          17 non-null     object\n",
      " 14  hooks_url          17 non-null     object\n",
      " 15  issue_events_url   17 non-null     object\n",
      " 16  events_url         17 non-null     object\n",
      " 17  assignees_url      17 non-null     object\n",
      " 18  branches_url       17 non-null     object\n",
      " 19  tags_url           17 non-null     object\n",
      " 20  blobs_url          17 non-null     object\n",
      " 21  git_tags_url       17 non-null     object\n",
      " 22  git_refs_url       17 non-null     object\n",
      " 23  trees_url          17 non-null     object\n",
      " 24  statuses_url       17 non-null     object\n",
      " 25  languages_url      17 non-null     object\n",
      " 26  stargazers_url     17 non-null     object\n",
      " 27  contributors_url   17 non-null     object\n",
      " 28  subscribers_url    17 non-null     object\n",
      " 29  subscription_url   17 non-null     object\n",
      " 30  commits_url        17 non-null     object\n",
      " 31  git_commits_url    17 non-null     object\n",
      " 32  comments_url       17 non-null     object\n",
      " 33  issue_comment_url  17 non-null     object\n",
      " 34  contents_url       17 non-null     object\n",
      " 35  compare_url        17 non-null     object\n",
      " 36  merges_url         17 non-null     object\n",
      " 37  archive_url        17 non-null     object\n",
      " 38  downloads_url      17 non-null     object\n",
      " 39  issues_url         17 non-null     object\n",
      " 40  pulls_url          17 non-null     object\n",
      " 41  milestones_url     17 non-null     object\n",
      " 42  notifications_url  17 non-null     object\n",
      " 43  labels_url         17 non-null     object\n",
      " 44  releases_url       17 non-null     object\n",
      " 45  deployments_url    17 non-null     object\n",
      " 46  created_at         17 non-null     object\n",
      " 47  updated_at         17 non-null     object\n",
      " 48  pushed_at          17 non-null     object\n",
      " 49  git_url            17 non-null     object\n",
      " 50  ssh_url            17 non-null     object\n",
      " 51  clone_url          17 non-null     object\n",
      " 52  svn_url            17 non-null     object\n",
      " 53  homepage           10 non-null     object\n",
      " 54  size               17 non-null     int64 \n",
      " 55  stargazers_count   17 non-null     int64 \n",
      " 56  watchers_count     17 non-null     int64 \n",
      " 57  language           13 non-null     object\n",
      " 58  has_issues         17 non-null     bool  \n",
      " 59  has_projects       17 non-null     bool  \n",
      " 60  has_downloads      17 non-null     bool  \n",
      " 61  has_wiki           17 non-null     bool  \n",
      " 62  has_pages          17 non-null     bool  \n",
      " 63  forks_count        17 non-null     int64 \n",
      " 64  mirror_url         0 non-null      object\n",
      " 65  archived           17 non-null     bool  \n",
      " 66  disabled           17 non-null     bool  \n",
      " 67  open_issues_count  17 non-null     int64 \n",
      " 68  license            16 non-null     object\n",
      " 69  allow_forking      17 non-null     bool  \n",
      " 70  is_template        17 non-null     bool  \n",
      " 71  topics             17 non-null     object\n",
      " 72  visibility         17 non-null     object\n",
      " 73  forks              17 non-null     int64 \n",
      " 74  open_issues        17 non-null     int64 \n",
      " 75  watchers           17 non-null     int64 \n",
      " 76  default_branch     17 non-null     object\n",
      " 77  permissions        17 non-null     object\n",
      "dtypes: bool(11), int64(9), object(58)\n",
      "memory usage: 9.2+ KB\n"
     ]
    }
   ],
   "source": [
    "forks_df.info()"
   ]
  },
  {
   "cell_type": "code",
   "execution_count": 16,
   "id": "5c2b5fb7-f0bf-4092-a0ca-870f50b2d283",
   "metadata": {},
   "outputs": [
    {
     "data": {
      "text/html": [
       "<div>\n",
       "<style scoped>\n",
       "    .dataframe tbody tr th:only-of-type {\n",
       "        vertical-align: middle;\n",
       "    }\n",
       "\n",
       "    .dataframe tbody tr th {\n",
       "        vertical-align: top;\n",
       "    }\n",
       "\n",
       "    .dataframe thead th {\n",
       "        text-align: right;\n",
       "    }\n",
       "</style>\n",
       "<table border=\"1\" class=\"dataframe\">\n",
       "  <thead>\n",
       "    <tr style=\"text-align: right;\">\n",
       "      <th></th>\n",
       "      <th>id</th>\n",
       "      <th>node_id</th>\n",
       "      <th>name</th>\n",
       "      <th>full_name</th>\n",
       "      <th>private</th>\n",
       "      <th>owner</th>\n",
       "      <th>html_url</th>\n",
       "      <th>description</th>\n",
       "      <th>fork</th>\n",
       "      <th>url</th>\n",
       "      <th>...</th>\n",
       "      <th>license</th>\n",
       "      <th>allow_forking</th>\n",
       "      <th>is_template</th>\n",
       "      <th>topics</th>\n",
       "      <th>visibility</th>\n",
       "      <th>forks</th>\n",
       "      <th>open_issues</th>\n",
       "      <th>watchers</th>\n",
       "      <th>default_branch</th>\n",
       "      <th>permissions</th>\n",
       "    </tr>\n",
       "  </thead>\n",
       "  <tbody>\n",
       "    <tr>\n",
       "      <th>0</th>\n",
       "      <td>416830289</td>\n",
       "      <td>R_kgDOGNhTUQ</td>\n",
       "      <td>mad-oct-2018</td>\n",
       "      <td>techols/mad-oct-2018</td>\n",
       "      <td>False</td>\n",
       "      <td>{'login': 'techols', 'id': 86572687, 'node_id'...</td>\n",
       "      <td>https://github.com/techols/mad-oct-2018</td>\n",
       "      <td>Student labs for Ironhack data analytics bootcamp</td>\n",
       "      <td>True</td>\n",
       "      <td>https://api.github.com/repos/techols/mad-oct-2018</td>\n",
       "      <td>...</td>\n",
       "      <td>{'key': 'unlicense', 'name': 'The Unlicense', ...</td>\n",
       "      <td>True</td>\n",
       "      <td>False</td>\n",
       "      <td>[]</td>\n",
       "      <td>public</td>\n",
       "      <td>0</td>\n",
       "      <td>0</td>\n",
       "      <td>0</td>\n",
       "      <td>master</td>\n",
       "      <td>{'admin': False, 'maintain': False, 'push': Fa...</td>\n",
       "    </tr>\n",
       "  </tbody>\n",
       "</table>\n",
       "<p>1 rows × 78 columns</p>\n",
       "</div>"
      ],
      "text/plain": [
       "          id       node_id          name             full_name  private  \\\n",
       "0  416830289  R_kgDOGNhTUQ  mad-oct-2018  techols/mad-oct-2018    False   \n",
       "\n",
       "                                               owner  \\\n",
       "0  {'login': 'techols', 'id': 86572687, 'node_id'...   \n",
       "\n",
       "                                  html_url  \\\n",
       "0  https://github.com/techols/mad-oct-2018   \n",
       "\n",
       "                                         description  fork  \\\n",
       "0  Student labs for Ironhack data analytics bootcamp  True   \n",
       "\n",
       "                                                 url  ...  \\\n",
       "0  https://api.github.com/repos/techols/mad-oct-2018  ...   \n",
       "\n",
       "                                             license allow_forking  \\\n",
       "0  {'key': 'unlicense', 'name': 'The Unlicense', ...          True   \n",
       "\n",
       "  is_template topics visibility forks open_issues watchers default_branch  \\\n",
       "0       False     []     public     0           0        0         master   \n",
       "\n",
       "                                         permissions  \n",
       "0  {'admin': False, 'maintain': False, 'push': Fa...  \n",
       "\n",
       "[1 rows x 78 columns]"
      ]
     },
     "execution_count": 16,
     "metadata": {},
     "output_type": "execute_result"
    }
   ],
   "source": [
    "forks_df.head(1)"
   ]
  },
  {
   "cell_type": "code",
   "execution_count": 17,
   "id": "e9aa6d39-9e05-430a-9b83-163b21b692bd",
   "metadata": {},
   "outputs": [],
   "source": [
    "from pandas import json_normalize"
   ]
  },
  {
   "cell_type": "code",
   "execution_count": 18,
   "id": "198511ba-0dc7-493e-8ca7-73f28b01cdb0",
   "metadata": {},
   "outputs": [],
   "source": [
    "forks_df = json_normalize(res.json())"
   ]
  },
  {
   "cell_type": "code",
   "execution_count": 19,
   "id": "e9007211-04c8-41dc-87a2-6b230df8036c",
   "metadata": {},
   "outputs": [
    {
     "name": "stdout",
     "output_type": "stream",
     "text": [
      "<class 'pandas.core.frame.DataFrame'>\n",
      "RangeIndex: 17 entries, 0 to 16\n",
      "Columns: 104 entries, id to license\n",
      "dtypes: bool(17), float64(1), int64(10), object(76)\n",
      "memory usage: 12.0+ KB\n"
     ]
    }
   ],
   "source": [
    "forks_df.info()"
   ]
  },
  {
   "cell_type": "code",
   "execution_count": 21,
   "id": "9d5bb8f2-c54b-47a5-b628-0d62a8ac208b",
   "metadata": {},
   "outputs": [
    {
     "data": {
      "text/plain": [
       "True"
      ]
     },
     "execution_count": 21,
     "metadata": {},
     "output_type": "execute_result"
    }
   ],
   "source": [
    "'language' in forks_df.columns"
   ]
  },
  {
   "cell_type": "code",
   "execution_count": 23,
   "id": "c1ed4f53-4010-427e-8e0b-5c2a450d3bac",
   "metadata": {},
   "outputs": [
    {
     "data": {
      "text/plain": [
       "array([None, 'Jupyter Notebook', 'HTML'], dtype=object)"
      ]
     },
     "execution_count": 23,
     "metadata": {},
     "output_type": "execute_result"
    }
   ],
   "source": [
    "forks_df.language.unique()"
   ]
  },
  {
   "cell_type": "code",
   "execution_count": 25,
   "id": "da0d2312-1a7c-4ed2-ab95-686aae904e05",
   "metadata": {},
   "outputs": [
    {
     "data": {
      "text/plain": [
       "{'HTML', 'Jupyter Notebook', None}"
      ]
     },
     "execution_count": 25,
     "metadata": {},
     "output_type": "execute_result"
    }
   ],
   "source": [
    "set([fork['language'] for fork in res.json()])"
   ]
  },
  {
   "cell_type": "code",
   "execution_count": 11,
   "id": "33284edc-9301-4f12-bab8-63694413d7dc",
   "metadata": {},
   "outputs": [],
   "source": [
    "import base64"
   ]
  },
  {
   "cell_type": "code",
   "execution_count": 19,
   "id": "0a948856-c52d-42eb-8593-84f2cfc03220",
   "metadata": {},
   "outputs": [],
   "source": [
    "owner='jmomarty'\n",
    "repo='datapt090121'\n",
    "path='hello.txt'\n",
    "base64_bytes = base64.b64encode(b'this is a test')\n",
    "base64_string = base64_bytes.decode('utf-8')\n",
    "data= {'message': 'this is a commit message for creating a file via github api',\n",
    "       'content': base64_string}"
   ]
  },
  {
   "cell_type": "code",
   "execution_count": 20,
   "id": "994986bf-3e86-435b-8a48-077cf725bd84",
   "metadata": {},
   "outputs": [
    {
     "data": {
      "text/plain": [
       "{'message': 'this is a commit message for creating a file via github api',\n",
       " 'content': 'dGhpcyBpcyBhIHRlc3Q='}"
      ]
     },
     "execution_count": 20,
     "metadata": {},
     "output_type": "execute_result"
    }
   ],
   "source": [
    "data"
   ]
  },
  {
   "cell_type": "code",
   "execution_count": 21,
   "id": "23dc8ea9-3ef4-471b-9022-55e48fc04685",
   "metadata": {},
   "outputs": [],
   "source": [
    "url = f'https://api.github.com/repos/{owner}/{repo}/contents/{path}a'"
   ]
  },
  {
   "cell_type": "code",
   "execution_count": 25,
   "id": "4aeaf06e-7ea5-4e1a-a7c9-90b4542b5ded",
   "metadata": {},
   "outputs": [],
   "source": [
    "res = requests.put(url, headers=headers, json=data)"
   ]
  },
  {
   "cell_type": "code",
   "execution_count": 26,
   "id": "32cbb037-ebd7-4afd-a823-e16465bbb880",
   "metadata": {},
   "outputs": [
    {
     "data": {
      "text/plain": [
       "201"
      ]
     },
     "execution_count": 26,
     "metadata": {},
     "output_type": "execute_result"
    }
   ],
   "source": [
    "res.status_code"
   ]
  },
  {
   "cell_type": "code",
   "execution_count": 27,
   "id": "4ea3d733-2e4f-4df3-b4cd-b1a3e52bd397",
   "metadata": {},
   "outputs": [
    {
     "data": {
      "text/plain": [
       "b'{\"content\":{\"name\":\"hello.txta\",\"path\":\"hello.txta\",\"sha\":\"a8a940627d132695a9769df883f85992f0ff4a43\",\"size\":14,\"url\":\"https://api.github.com/repos/jmomarty/datapt090121/contents/hello.txta?ref=main\",\"html_url\":\"https://github.com/jmomarty/datapt090121/blob/main/hello.txta\",\"git_url\":\"https://api.github.com/repos/jmomarty/datapt090121/git/blobs/a8a940627d132695a9769df883f85992f0ff4a43\",\"download_url\":\"https://raw.githubusercontent.com/jmomarty/datapt090121/main/hello.txta\",\"type\":\"file\",\"_links\":{\"self\":\"https://api.github.com/repos/jmomarty/datapt090121/contents/hello.txta?ref=main\",\"git\":\"https://api.github.com/repos/jmomarty/datapt090121/git/blobs/a8a940627d132695a9769df883f85992f0ff4a43\",\"html\":\"https://github.com/jmomarty/datapt090121/blob/main/hello.txta\"}},\"commit\":{\"sha\":\"5e7ef30a8d1050cc8f189bf9b132c726a0c4b997\",\"node_id\":\"C_kwDOF_uEatoAKDVlN2VmMzBhOGQxMDUwY2M4ZjE4OWJmOWIxMzJjNzI2YTBjNGI5OTc\",\"url\":\"https://api.github.com/repos/jmomarty/datapt090121/git/commits/5e7ef30a8d1050cc8f189bf9b132c726a0c4b997\",\"html_url\":\"https://github.com/jmomarty/datapt090121/commit/5e7ef30a8d1050cc8f189bf9b132c726a0c4b997\",\"author\":{\"name\":\"jmomarty\",\"email\":\"jmomarty@gmail.com\",\"date\":\"2021-10-16T11:07:11Z\"},\"committer\":{\"name\":\"jmomarty\",\"email\":\"jmomarty@gmail.com\",\"date\":\"2021-10-16T11:07:11Z\"},\"tree\":{\"sha\":\"d75251c453053676147ac5e8bc0a7bf7de3d9b20\",\"url\":\"https://api.github.com/repos/jmomarty/datapt090121/git/trees/d75251c453053676147ac5e8bc0a7bf7de3d9b20\"},\"message\":\"this is a commit message for creating a file via github api\",\"parents\":[{\"sha\":\"8ccd7aac2d1d61e303571a736556e614e7d068c1\",\"url\":\"https://api.github.com/repos/jmomarty/datapt090121/git/commits/8ccd7aac2d1d61e303571a736556e614e7d068c1\",\"html_url\":\"https://github.com/jmomarty/datapt090121/commit/8ccd7aac2d1d61e303571a736556e614e7d068c1\"}],\"verification\":{\"verified\":false,\"reason\":\"unsigned\",\"signature\":null,\"payload\":null}}}'"
      ]
     },
     "execution_count": 27,
     "metadata": {},
     "output_type": "execute_result"
    }
   ],
   "source": [
    "res.content"
   ]
  },
  {
   "cell_type": "code",
   "execution_count": 18,
   "id": "55328bc2-56bf-4604-9aac-1003adc9fe15",
   "metadata": {},
   "outputs": [
    {
     "data": {
      "text/plain": [
       "{'message': 'this is a commit message for creating a file via github api',\n",
       " 'content': b'dGhpcyBpcyBhIHRlc3Q='}"
      ]
     },
     "execution_count": 18,
     "metadata": {},
     "output_type": "execute_result"
    }
   ],
   "source": [
    "data"
   ]
  },
  {
   "cell_type": "code",
   "execution_count": 29,
   "id": "30f025ae-43d2-44b6-9570-4622a61b0fa6",
   "metadata": {},
   "outputs": [],
   "source": [
    "from github import Github"
   ]
  },
  {
   "cell_type": "code",
   "execution_count": 30,
   "id": "7f4a5fae-843e-4a96-a5d9-c27744ca1dc8",
   "metadata": {},
   "outputs": [],
   "source": [
    "g = Github(token)"
   ]
  },
  {
   "cell_type": "code",
   "execution_count": 31,
   "id": "fc4d4e79-b545-45fe-bc45-d0d0264ddd17",
   "metadata": {},
   "outputs": [
    {
     "data": {
      "text/plain": [
       "<github.MainClass.Github at 0x7f8058a3afd0>"
      ]
     },
     "execution_count": 31,
     "metadata": {},
     "output_type": "execute_result"
    }
   ],
   "source": [
    "g"
   ]
  },
  {
   "cell_type": "code",
   "execution_count": 33,
   "id": "c14a6766-fb70-4ab4-8244-e0d302fec0b3",
   "metadata": {},
   "outputs": [],
   "source": [
    "open_issues = repo.get_issues(state='open')"
   ]
  },
  {
   "cell_type": "code",
   "execution_count": 36,
   "id": "35faf712-6537-48da-a48e-c39843192420",
   "metadata": {},
   "outputs": [
    {
     "data": {
      "text/plain": [
       "datetime.datetime(2018, 6, 29, 7, 58, 21)"
      ]
     },
     "execution_count": 36,
     "metadata": {},
     "output_type": "execute_result"
    }
   ],
   "source": [
    "issue.created_at"
   ]
  },
  {
   "cell_type": "code",
   "execution_count": 39,
   "id": "39547b52-6c60-4f9d-bbcb-ab6b9e1e9afb",
   "metadata": {},
   "outputs": [],
   "source": [
    "issues = []\n",
    "for i, issue in enumerate(open_issues):\n",
    "    issues.append((issue.created_at, issue.title))\n",
    "    if i > 100:\n",
    "        break"
   ]
  },
  {
   "cell_type": "code",
   "execution_count": 41,
   "id": "7c6ff9b7-5f05-4abb-8abd-1f0ef9c6f00e",
   "metadata": {},
   "outputs": [],
   "source": [
    "open_issues_df = pd.DataFrame(issues)"
   ]
  },
  {
   "cell_type": "code",
   "execution_count": 45,
   "id": "7f9bcf59-922d-4037-90ce-de7ce5c66477",
   "metadata": {},
   "outputs": [],
   "source": [
    "open_issues_df.columns = ['created_at', 'issue_title']"
   ]
  },
  {
   "cell_type": "code",
   "execution_count": 47,
   "id": "414bb7f6-e333-4f2e-b496-a05ba233745e",
   "metadata": {},
   "outputs": [
    {
     "data": {
      "text/html": [
       "<div>\n",
       "<style scoped>\n",
       "    .dataframe tbody tr th:only-of-type {\n",
       "        vertical-align: middle;\n",
       "    }\n",
       "\n",
       "    .dataframe tbody tr th {\n",
       "        vertical-align: top;\n",
       "    }\n",
       "\n",
       "    .dataframe thead th {\n",
       "        text-align: right;\n",
       "    }\n",
       "</style>\n",
       "<table border=\"1\" class=\"dataframe\">\n",
       "  <thead>\n",
       "    <tr style=\"text-align: right;\">\n",
       "      <th></th>\n",
       "      <th>created_at</th>\n",
       "      <th>issue_title</th>\n",
       "    </tr>\n",
       "  </thead>\n",
       "  <tbody>\n",
       "    <tr>\n",
       "      <th>0</th>\n",
       "      <td>2021-10-16 04:28:47</td>\n",
       "      <td>[api] Provide a mean to know whether QgsVector...</td>\n",
       "    </tr>\n",
       "    <tr>\n",
       "      <th>1</th>\n",
       "      <td>2021-10-16 04:14:04</td>\n",
       "      <td>[ogr] Insure that the connections pool always ...</td>\n",
       "    </tr>\n",
       "    <tr>\n",
       "      <th>2</th>\n",
       "      <td>2021-10-16 03:06:26</td>\n",
       "      <td>Using {X,Y}_POSSIBLE_NAMES when opening a CSV ...</td>\n",
       "    </tr>\n",
       "    <tr>\n",
       "      <th>3</th>\n",
       "      <td>2021-10-15 17:27:09</td>\n",
       "      <td>[Backport queued_ltr_backports] Save/load proj...</td>\n",
       "    </tr>\n",
       "    <tr>\n",
       "      <th>4</th>\n",
       "      <td>2021-10-15 16:58:48</td>\n",
       "      <td>Fix form mode save button from attr dialog</td>\n",
       "    </tr>\n",
       "    <tr>\n",
       "      <th>...</th>\n",
       "      <td>...</td>\n",
       "      <td>...</td>\n",
       "    </tr>\n",
       "    <tr>\n",
       "      <th>97</th>\n",
       "      <td>2021-09-27 00:35:46</td>\n",
       "      <td>Resolution is lost when exporting high quality...</td>\n",
       "    </tr>\n",
       "    <tr>\n",
       "      <th>98</th>\n",
       "      <td>2021-09-27 00:21:00</td>\n",
       "      <td>Support for bands selection in loading WCS layer</td>\n",
       "    </tr>\n",
       "    <tr>\n",
       "      <th>99</th>\n",
       "      <td>2021-09-26 22:39:14</td>\n",
       "      <td>Mesh calculator: display datasets from multipl...</td>\n",
       "    </tr>\n",
       "    <tr>\n",
       "      <th>100</th>\n",
       "      <td>2021-09-25 16:33:04</td>\n",
       "      <td>Skybox are not rendered in 3D view</td>\n",
       "    </tr>\n",
       "    <tr>\n",
       "      <th>101</th>\n",
       "      <td>2021-09-25 09:47:10</td>\n",
       "      <td>CI - Update release URL when it is a point rel...</td>\n",
       "    </tr>\n",
       "  </tbody>\n",
       "</table>\n",
       "<p>102 rows × 2 columns</p>\n",
       "</div>"
      ],
      "text/plain": [
       "             created_at                                        issue_title\n",
       "0   2021-10-16 04:28:47  [api] Provide a mean to know whether QgsVector...\n",
       "1   2021-10-16 04:14:04  [ogr] Insure that the connections pool always ...\n",
       "2   2021-10-16 03:06:26  Using {X,Y}_POSSIBLE_NAMES when opening a CSV ...\n",
       "3   2021-10-15 17:27:09  [Backport queued_ltr_backports] Save/load proj...\n",
       "4   2021-10-15 16:58:48         Fix form mode save button from attr dialog\n",
       "..                  ...                                                ...\n",
       "97  2021-09-27 00:35:46  Resolution is lost when exporting high quality...\n",
       "98  2021-09-27 00:21:00   Support for bands selection in loading WCS layer\n",
       "99  2021-09-26 22:39:14  Mesh calculator: display datasets from multipl...\n",
       "100 2021-09-25 16:33:04                 Skybox are not rendered in 3D view\n",
       "101 2021-09-25 09:47:10  CI - Update release URL when it is a point rel...\n",
       "\n",
       "[102 rows x 2 columns]"
      ]
     },
     "execution_count": 47,
     "metadata": {},
     "output_type": "execute_result"
    }
   ],
   "source": [
    "open_issues_df.sort_values(by='created_at', ascending=False)"
   ]
  },
  {
   "cell_type": "code",
   "execution_count": null,
   "id": "3264161c-6fbe-416a-910b-fbbfe9d63bb4",
   "metadata": {},
   "outputs": [],
   "source": []
  }
 ],
 "metadata": {
  "kernelspec": {
   "display_name": "Python 3 (ipykernel)",
   "language": "python",
   "name": "python3"
  },
  "language_info": {
   "codemirror_mode": {
    "name": "ipython",
    "version": 3
   },
   "file_extension": ".py",
   "mimetype": "text/x-python",
   "name": "python",
   "nbconvert_exporter": "python",
   "pygments_lexer": "ipython3",
   "version": "3.7.9"
  }
 },
 "nbformat": 4,
 "nbformat_minor": 5
}
