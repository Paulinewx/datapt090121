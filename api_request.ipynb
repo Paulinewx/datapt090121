{
 "cells": [
  {
   "cell_type": "code",
   "execution_count": 2,
   "id": "5d1ed871-e4de-4f47-8a6e-ed7a5df9a5a2",
   "metadata": {},
   "outputs": [],
   "source": [
    "import requests"
   ]
  },
  {
   "cell_type": "code",
   "execution_count": 3,
   "id": "979a7ee9-4b79-4b6d-b97a-ba923b240fd0",
   "metadata": {},
   "outputs": [],
   "source": [
    "token = next(open('github_api_token', 'r'))"
   ]
  },
  {
   "cell_type": "code",
   "execution_count": 5,
   "id": "8a4da08e-353b-495d-bb57-c6e208192b3a",
   "metadata": {},
   "outputs": [],
   "source": [
    "headers = {'Authorization': f'token {token}'}"
   ]
  },
  {
   "cell_type": "code",
   "execution_count": 51,
   "id": "f297ec0f-1b45-4f0d-801f-b13d45f78c23",
   "metadata": {},
   "outputs": [],
   "source": [
    "res = requests.get('https://api.github.com/users/jmomarty/repos?per_page=100',\n",
    "                  headers=headers)"
   ]
  },
  {
   "cell_type": "code",
   "execution_count": 52,
   "id": "1eae4156-c5cc-4a55-a444-0c70a681c1e1",
   "metadata": {},
   "outputs": [
    {
     "name": "stdout",
     "output_type": "stream",
     "text": [
      "advanced-react-patterns\n",
      "bert\n",
      "cli\n",
      "CNN\n",
      "CNN_sentence\n",
      "complete-guide-to-elasticsearch\n",
      "cypress-realworld-app\n",
      "data-prework-labs\n",
      "datapt\n",
      "datapt090121\n",
      "Datasets\n",
      "datasets-1\n",
      "dataV2-labs\n",
      "DependencyCheck\n",
      "diagrams\n",
      "django-rest-framework\n",
      "elasticsearch\n",
      "FastAPISpamDetection\n",
      "git-example-ironhack\n",
      "GroundHog\n",
      "ironhack_git_example\n",
      "ironhack_parttime\n",
      "ironhack_test\n",
      "jetstream\n",
      "kaggle-competition-webinar\n",
      "kubernetes\n",
      "lvmh-project\n",
      "meli\n",
      "Mindustry\n",
      "NeuralLandPirates\n",
      "numpy\n",
      "opaChessIa\n",
      "pandas\n",
      "project_calculatrice\n",
      "PySyft\n",
      "PythonDataScienceHandbook\n",
      "quickjs\n",
      "scala\n",
      "Spoon-Knife\n",
      "test_ironhack\n",
      "vrepinblog\n",
      "web-scraping-webinar\n",
      "workflow\n"
     ]
    }
   ],
   "source": [
    "for repo in res.json():\n",
    "    print(repo['name'])"
   ]
  },
  {
   "cell_type": "code",
   "execution_count": 22,
   "id": "9f5b30cc-3dc1-4b0d-8fa7-3a81a16e8a24",
   "metadata": {},
   "outputs": [],
   "source": [
    "data = {'title': 'This is a dummy issue',\n",
    "        'body': 'There is no issue, this is just a test of the Github API'}"
   ]
  },
  {
   "cell_type": "code",
   "execution_count": 23,
   "id": "3c41a1af-7ee4-413e-8af4-f04797dfe6ef",
   "metadata": {},
   "outputs": [],
   "source": [
    "res = requests.post('https://api.github.com/repos/jmomarty/datapt090121/issues',\n",
    "                    headers=headers,\n",
    "                    json=data)"
   ]
  },
  {
   "cell_type": "code",
   "execution_count": 25,
   "id": "3af196f8-2ca7-47fc-99af-8ef96f84fddf",
   "metadata": {},
   "outputs": [
    {
     "data": {
      "text/plain": [
       "{'url': 'https://api.github.com/repos/jmomarty/datapt090121/issues/1',\n",
       " 'repository_url': 'https://api.github.com/repos/jmomarty/datapt090121',\n",
       " 'labels_url': 'https://api.github.com/repos/jmomarty/datapt090121/issues/1/labels{/name}',\n",
       " 'comments_url': 'https://api.github.com/repos/jmomarty/datapt090121/issues/1/comments',\n",
       " 'events_url': 'https://api.github.com/repos/jmomarty/datapt090121/issues/1/events',\n",
       " 'html_url': 'https://github.com/jmomarty/datapt090121/issues/1',\n",
       " 'id': 1023039048,\n",
       " 'node_id': 'I_kwDOF_uEas48-lZI',\n",
       " 'number': 1,\n",
       " 'title': 'This is a dummy issue',\n",
       " 'user': {'login': 'jmomarty',\n",
       "  'id': 1613530,\n",
       "  'node_id': 'MDQ6VXNlcjE2MTM1MzA=',\n",
       "  'avatar_url': 'https://avatars.githubusercontent.com/u/1613530?v=4',\n",
       "  'gravatar_id': '',\n",
       "  'url': 'https://api.github.com/users/jmomarty',\n",
       "  'html_url': 'https://github.com/jmomarty',\n",
       "  'followers_url': 'https://api.github.com/users/jmomarty/followers',\n",
       "  'following_url': 'https://api.github.com/users/jmomarty/following{/other_user}',\n",
       "  'gists_url': 'https://api.github.com/users/jmomarty/gists{/gist_id}',\n",
       "  'starred_url': 'https://api.github.com/users/jmomarty/starred{/owner}{/repo}',\n",
       "  'subscriptions_url': 'https://api.github.com/users/jmomarty/subscriptions',\n",
       "  'organizations_url': 'https://api.github.com/users/jmomarty/orgs',\n",
       "  'repos_url': 'https://api.github.com/users/jmomarty/repos',\n",
       "  'events_url': 'https://api.github.com/users/jmomarty/events{/privacy}',\n",
       "  'received_events_url': 'https://api.github.com/users/jmomarty/received_events',\n",
       "  'type': 'User',\n",
       "  'site_admin': False},\n",
       " 'labels': [],\n",
       " 'state': 'open',\n",
       " 'locked': False,\n",
       " 'assignee': None,\n",
       " 'assignees': [],\n",
       " 'milestone': None,\n",
       " 'comments': 0,\n",
       " 'created_at': '2021-10-11T19:20:07Z',\n",
       " 'updated_at': '2021-10-11T19:20:07Z',\n",
       " 'closed_at': None,\n",
       " 'author_association': 'OWNER',\n",
       " 'active_lock_reason': None,\n",
       " 'body': 'There is no issue, this is just a test of the Github API',\n",
       " 'closed_by': None,\n",
       " 'reactions': {'url': 'https://api.github.com/repos/jmomarty/datapt090121/issues/1/reactions',\n",
       "  'total_count': 0,\n",
       "  '+1': 0,\n",
       "  '-1': 0,\n",
       "  'laugh': 0,\n",
       "  'hooray': 0,\n",
       "  'confused': 0,\n",
       "  'heart': 0,\n",
       "  'rocket': 0,\n",
       "  'eyes': 0},\n",
       " 'timeline_url': 'https://api.github.com/repos/jmomarty/datapt090121/issues/1/timeline',\n",
       " 'performed_via_github_app': None}"
      ]
     },
     "execution_count": 25,
     "metadata": {},
     "output_type": "execute_result"
    }
   ],
   "source": [
    "res.json()"
   ]
  },
  {
   "cell_type": "code",
   "execution_count": 31,
   "id": "3a3fcf40-d492-4cbb-bb35-fdd6153dedec",
   "metadata": {},
   "outputs": [],
   "source": [
    "import pandas as pd\n",
    "from pandas import json_normalize"
   ]
  },
  {
   "cell_type": "code",
   "execution_count": 53,
   "id": "5186e248-c83f-46e7-9023-0552d1d5f68d",
   "metadata": {},
   "outputs": [
    {
     "name": "stdout",
     "output_type": "stream",
     "text": [
      "<class 'pandas.core.frame.DataFrame'>\n",
      "RangeIndex: 43 entries, 0 to 42\n",
      "Data columns (total 78 columns):\n",
      " #   Column             Non-Null Count  Dtype \n",
      "---  ------             --------------  ----- \n",
      " 0   id                 43 non-null     int64 \n",
      " 1   node_id            43 non-null     object\n",
      " 2   name               43 non-null     object\n",
      " 3   full_name          43 non-null     object\n",
      " 4   private            43 non-null     bool  \n",
      " 5   owner              43 non-null     object\n",
      " 6   html_url           43 non-null     object\n",
      " 7   description        27 non-null     object\n",
      " 8   fork               43 non-null     bool  \n",
      " 9   url                43 non-null     object\n",
      " 10  forks_url          43 non-null     object\n",
      " 11  keys_url           43 non-null     object\n",
      " 12  collaborators_url  43 non-null     object\n",
      " 13  teams_url          43 non-null     object\n",
      " 14  hooks_url          43 non-null     object\n",
      " 15  issue_events_url   43 non-null     object\n",
      " 16  events_url         43 non-null     object\n",
      " 17  assignees_url      43 non-null     object\n",
      " 18  branches_url       43 non-null     object\n",
      " 19  tags_url           43 non-null     object\n",
      " 20  blobs_url          43 non-null     object\n",
      " 21  git_tags_url       43 non-null     object\n",
      " 22  git_refs_url       43 non-null     object\n",
      " 23  trees_url          43 non-null     object\n",
      " 24  statuses_url       43 non-null     object\n",
      " 25  languages_url      43 non-null     object\n",
      " 26  stargazers_url     43 non-null     object\n",
      " 27  contributors_url   43 non-null     object\n",
      " 28  subscribers_url    43 non-null     object\n",
      " 29  subscription_url   43 non-null     object\n",
      " 30  commits_url        43 non-null     object\n",
      " 31  git_commits_url    43 non-null     object\n",
      " 32  comments_url       43 non-null     object\n",
      " 33  issue_comment_url  43 non-null     object\n",
      " 34  contents_url       43 non-null     object\n",
      " 35  compare_url        43 non-null     object\n",
      " 36  merges_url         43 non-null     object\n",
      " 37  archive_url        43 non-null     object\n",
      " 38  downloads_url      43 non-null     object\n",
      " 39  issues_url         43 non-null     object\n",
      " 40  pulls_url          43 non-null     object\n",
      " 41  milestones_url     43 non-null     object\n",
      " 42  notifications_url  43 non-null     object\n",
      " 43  labels_url         43 non-null     object\n",
      " 44  releases_url       43 non-null     object\n",
      " 45  deployments_url    43 non-null     object\n",
      " 46  created_at         43 non-null     object\n",
      " 47  updated_at         43 non-null     object\n",
      " 48  pushed_at          43 non-null     object\n",
      " 49  git_url            43 non-null     object\n",
      " 50  ssh_url            43 non-null     object\n",
      " 51  clone_url          43 non-null     object\n",
      " 52  svn_url            43 non-null     object\n",
      " 53  homepage           22 non-null     object\n",
      " 54  size               43 non-null     int64 \n",
      " 55  stargazers_count   43 non-null     int64 \n",
      " 56  watchers_count     43 non-null     int64 \n",
      " 57  language           13 non-null     object\n",
      " 58  has_issues         43 non-null     bool  \n",
      " 59  has_projects       43 non-null     bool  \n",
      " 60  has_downloads      43 non-null     bool  \n",
      " 61  has_wiki           43 non-null     bool  \n",
      " 62  has_pages          43 non-null     bool  \n",
      " 63  forks_count        43 non-null     int64 \n",
      " 64  mirror_url         0 non-null      object\n",
      " 65  archived           43 non-null     bool  \n",
      " 66  disabled           43 non-null     bool  \n",
      " 67  open_issues_count  43 non-null     int64 \n",
      " 68  license            23 non-null     object\n",
      " 69  allow_forking      43 non-null     bool  \n",
      " 70  is_template        43 non-null     bool  \n",
      " 71  topics             43 non-null     object\n",
      " 72  visibility         43 non-null     object\n",
      " 73  forks              43 non-null     int64 \n",
      " 74  open_issues        43 non-null     int64 \n",
      " 75  watchers           43 non-null     int64 \n",
      " 76  default_branch     43 non-null     object\n",
      " 77  permissions        43 non-null     object\n",
      "dtypes: bool(11), int64(9), object(58)\n",
      "memory usage: 23.1+ KB\n"
     ]
    }
   ],
   "source": [
    "pd.DataFrame(res.json()).info()"
   ]
  },
  {
   "cell_type": "code",
   "execution_count": 38,
   "id": "fb87a4b1-1965-436a-9429-ed7cca44a313",
   "metadata": {},
   "outputs": [],
   "source": [
    "df = json_normalize(res.json())"
   ]
  },
  {
   "cell_type": "code",
   "execution_count": 47,
   "id": "ca248889-fff9-48a7-a9e6-dd6e3ab7aea7",
   "metadata": {},
   "outputs": [
    {
     "name": "stdout",
     "output_type": "stream",
     "text": [
      "<class 'pandas.core.frame.DataFrame'>\n",
      "RangeIndex: 30 entries, 0 to 29\n",
      "Columns: 104 entries, id to license\n",
      "dtypes: bool(17), float64(1), int64(10), object(76)\n",
      "memory usage: 21.0+ KB\n"
     ]
    }
   ],
   "source": [
    "df.info()"
   ]
  },
  {
   "cell_type": "code",
   "execution_count": 46,
   "id": "2cc223da-0030-4955-9485-c0043b7b5488",
   "metadata": {},
   "outputs": [
    {
     "name": "stdout",
     "output_type": "stream",
     "text": [
      "Index(['id', 'node_id', 'name', 'full_name', 'private', 'html_url',\n",
      "       'description', 'fork', 'url', 'forks_url',\n",
      "       ...\n",
      "       'license.name', 'license.spdx_id', 'license.url', 'license.node_id',\n",
      "       'permissions.admin', 'permissions.maintain', 'permissions.push',\n",
      "       'permissions.triage', 'permissions.pull', 'license'],\n",
      "      dtype='object', length=104)\n"
     ]
    }
   ],
   "source": [
    "print(df.columns)"
   ]
  },
  {
   "cell_type": "code",
   "execution_count": null,
   "id": "d0bc1b7d-ccca-4912-815e-800fdf76927f",
   "metadata": {},
   "outputs": [],
   "source": []
  }
 ],
 "metadata": {
  "kernelspec": {
   "display_name": "Python 3 (ipykernel)",
   "language": "python",
   "name": "python3"
  },
  "language_info": {
   "codemirror_mode": {
    "name": "ipython",
    "version": 3
   },
   "file_extension": ".py",
   "mimetype": "text/x-python",
   "name": "python",
   "nbconvert_exporter": "python",
   "pygments_lexer": "ipython3",
   "version": "3.7.9"
  }
 },
 "nbformat": 4,
 "nbformat_minor": 5
}
