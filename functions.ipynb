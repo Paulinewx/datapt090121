{
 "cells": [
  {
   "cell_type": "code",
   "execution_count": 2,
   "id": "6d87d943-6dde-4812-87ba-195f43ba9811",
   "metadata": {},
   "outputs": [],
   "source": [
    "def func(a, b):\n",
    "    # do smth\n",
    "    return None"
   ]
  },
  {
   "cell_type": "code",
   "execution_count": 3,
   "id": "5b799bfc-b6c2-4de8-8d33-b42576a6ad04",
   "metadata": {},
   "outputs": [],
   "source": [
    "def func(a, b):\n",
    "    return a + b"
   ]
  },
  {
   "cell_type": "code",
   "execution_count": 4,
   "id": "a637798f-5248-4da1-aec5-0a736336a14a",
   "metadata": {},
   "outputs": [
    {
     "data": {
      "text/plain": [
       "7"
      ]
     },
     "execution_count": 4,
     "metadata": {},
     "output_type": "execute_result"
    }
   ],
   "source": [
    "func(3, 4)"
   ]
  },
  {
   "cell_type": "code",
   "execution_count": 5,
   "id": "cff8a783-443f-46c0-801d-50259a6411e9",
   "metadata": {},
   "outputs": [
    {
     "data": {
      "text/plain": [
       "7"
      ]
     },
     "execution_count": 5,
     "metadata": {},
     "output_type": "execute_result"
    }
   ],
   "source": [
    "3 + 4"
   ]
  },
  {
   "cell_type": "code",
   "execution_count": 9,
   "id": "e23a0460-dc43-468b-9a73-7bad23b93a4a",
   "metadata": {},
   "outputs": [],
   "source": [
    "def operate(a, b):\n",
    "    return a + 10 * b"
   ]
  },
  {
   "cell_type": "code",
   "execution_count": 11,
   "id": "52e87d60-e1f6-44b2-b0d5-c3114068a540",
   "metadata": {},
   "outputs": [
    {
     "data": {
      "text/plain": [
       "103"
      ]
     },
     "execution_count": 11,
     "metadata": {},
     "output_type": "execute_result"
    }
   ],
   "source": [
    "operate(3, 10)"
   ]
  },
  {
   "cell_type": "code",
   "execution_count": 17,
   "id": "cd14ebba-093c-445f-9a13-c7cf0491134d",
   "metadata": {},
   "outputs": [],
   "source": [
    "a = 2\n",
    "b = 5\n",
    "c = 7"
   ]
  },
  {
   "cell_type": "code",
   "execution_count": 19,
   "id": "0d09bd03-d78d-4815-ae29-551d6ab52b06",
   "metadata": {},
   "outputs": [],
   "source": [
    "def func(x, y, z): # x, y, z = arguments de la fonction\n",
    "    d = x + y * 10 # variable locale\n",
    "    e = z + d * 2 # variable locale\n",
    "    f = 5 # variable locale\n",
    "    return d / e"
   ]
  },
  {
   "cell_type": "code",
   "execution_count": 20,
   "id": "7336ca90-fc85-4ff3-8d50-75c34d2e8819",
   "metadata": {},
   "outputs": [
    {
     "data": {
      "text/plain": [
       "0.46846846846846846"
      ]
     },
     "execution_count": 20,
     "metadata": {},
     "output_type": "execute_result"
    }
   ],
   "source": [
    "func(2, 5, 7)"
   ]
  },
  {
   "cell_type": "code",
   "execution_count": 15,
   "id": "5e197543-a926-448d-8851-2b49dc60e2d8",
   "metadata": {},
   "outputs": [
    {
     "data": {
      "text/plain": [
       "0.46846846846846846"
      ]
     },
     "execution_count": 15,
     "metadata": {},
     "output_type": "execute_result"
    }
   ],
   "source": [
    "a = 2\n",
    "b = 5\n",
    "c = 7\n",
    "func(a, b, c)"
   ]
  },
  {
   "cell_type": "code",
   "execution_count": 32,
   "id": "82bbcec6-df7f-405e-915a-6e7a148cac2c",
   "metadata": {},
   "outputs": [
    {
     "ename": "UnboundLocalError",
     "evalue": "local variable 'x' referenced before assignment",
     "output_type": "error",
     "traceback": [
      "\u001b[0;31m---------------------------------------------------------------------------\u001b[0m",
      "\u001b[0;31mUnboundLocalError\u001b[0m                         Traceback (most recent call last)",
      "\u001b[0;32m/var/folders/yh/8wtmx8jd1n540jp1kgvkwm5w0000gp/T/ipykernel_20329/3460129266.py\u001b[0m in \u001b[0;36m<module>\u001b[0;34m\u001b[0m\n\u001b[1;32m      5\u001b[0m     \u001b[0mprint\u001b[0m\u001b[0;34m(\u001b[0m\u001b[0;34m\"Python is \"\u001b[0m \u001b[0;34m+\u001b[0m \u001b[0mx\u001b[0m\u001b[0;34m)\u001b[0m\u001b[0;34m\u001b[0m\u001b[0;34m\u001b[0m\u001b[0m\n\u001b[1;32m      6\u001b[0m \u001b[0;34m\u001b[0m\u001b[0m\n\u001b[0;32m----> 7\u001b[0;31m \u001b[0mmyfunc\u001b[0m\u001b[0;34m(\u001b[0m\u001b[0;34m)\u001b[0m\u001b[0;34m\u001b[0m\u001b[0;34m\u001b[0m\u001b[0m\n\u001b[0m",
      "\u001b[0;32m/var/folders/yh/8wtmx8jd1n540jp1kgvkwm5w0000gp/T/ipykernel_20329/3460129266.py\u001b[0m in \u001b[0;36mmyfunc\u001b[0;34m()\u001b[0m\n\u001b[1;32m      2\u001b[0m \u001b[0;34m\u001b[0m\u001b[0m\n\u001b[1;32m      3\u001b[0m \u001b[0;32mdef\u001b[0m \u001b[0mmyfunc\u001b[0m\u001b[0;34m(\u001b[0m\u001b[0;34m)\u001b[0m\u001b[0;34m:\u001b[0m\u001b[0;34m\u001b[0m\u001b[0;34m\u001b[0m\u001b[0m\n\u001b[0;32m----> 4\u001b[0;31m     \u001b[0mx\u001b[0m \u001b[0;34m=\u001b[0m \u001b[0mx\u001b[0m \u001b[0;34m+\u001b[0m \u001b[0;34m\"test\"\u001b[0m\u001b[0;34m\u001b[0m\u001b[0;34m\u001b[0m\u001b[0m\n\u001b[0m\u001b[1;32m      5\u001b[0m     \u001b[0mprint\u001b[0m\u001b[0;34m(\u001b[0m\u001b[0;34m\"Python is \"\u001b[0m \u001b[0;34m+\u001b[0m \u001b[0mx\u001b[0m\u001b[0;34m)\u001b[0m\u001b[0;34m\u001b[0m\u001b[0;34m\u001b[0m\u001b[0m\n\u001b[1;32m      6\u001b[0m \u001b[0;34m\u001b[0m\u001b[0m\n",
      "\u001b[0;31mUnboundLocalError\u001b[0m: local variable 'x' referenced before assignment"
     ]
    }
   ],
   "source": [
    "x = \"awesome\"\n",
    "\n",
    "def myfunc():\n",
    "    x = x + \"test\"\n",
    "    print(\"Python is \" + x)\n",
    "\n",
    "myfunc()"
   ]
  },
  {
   "cell_type": "code",
   "execution_count": 42,
   "id": "32e1b411-a8bb-4cbc-b43a-4257eac94210",
   "metadata": {},
   "outputs": [],
   "source": [
    "test = 0\n",
    "def func(x, y, z): # x, y, z = arguments de la fonction\n",
    "    print(test)\n",
    "    test = test + 1\n",
    "    d = x + y * 10 # variable locale\n",
    "    e = z + d * 2 # variable locale\n",
    "    f = 5 # variable locale\n",
    "    return d / e"
   ]
  },
  {
   "cell_type": "code",
   "execution_count": 43,
   "id": "bb192ee7-a38f-41ca-8c66-be17e5f0f8fa",
   "metadata": {},
   "outputs": [
    {
     "ename": "UnboundLocalError",
     "evalue": "local variable 'test' referenced before assignment",
     "output_type": "error",
     "traceback": [
      "\u001b[0;31m---------------------------------------------------------------------------\u001b[0m",
      "\u001b[0;31mUnboundLocalError\u001b[0m                         Traceback (most recent call last)",
      "\u001b[0;32m/var/folders/yh/8wtmx8jd1n540jp1kgvkwm5w0000gp/T/ipykernel_20329/3345109746.py\u001b[0m in \u001b[0;36m<module>\u001b[0;34m\u001b[0m\n\u001b[0;32m----> 1\u001b[0;31m \u001b[0mfunc\u001b[0m\u001b[0;34m(\u001b[0m\u001b[0;36m2\u001b[0m\u001b[0;34m,\u001b[0m \u001b[0;36m5\u001b[0m\u001b[0;34m,\u001b[0m \u001b[0;36m6\u001b[0m\u001b[0;34m)\u001b[0m\u001b[0;34m\u001b[0m\u001b[0;34m\u001b[0m\u001b[0m\n\u001b[0m",
      "\u001b[0;32m/var/folders/yh/8wtmx8jd1n540jp1kgvkwm5w0000gp/T/ipykernel_20329/372933252.py\u001b[0m in \u001b[0;36mfunc\u001b[0;34m(x, y, z)\u001b[0m\n\u001b[1;32m      1\u001b[0m \u001b[0mtest\u001b[0m \u001b[0;34m=\u001b[0m \u001b[0;36m0\u001b[0m\u001b[0;34m\u001b[0m\u001b[0;34m\u001b[0m\u001b[0m\n\u001b[1;32m      2\u001b[0m \u001b[0;32mdef\u001b[0m \u001b[0mfunc\u001b[0m\u001b[0;34m(\u001b[0m\u001b[0mx\u001b[0m\u001b[0;34m,\u001b[0m \u001b[0my\u001b[0m\u001b[0;34m,\u001b[0m \u001b[0mz\u001b[0m\u001b[0;34m)\u001b[0m\u001b[0;34m:\u001b[0m \u001b[0;31m# x, y, z = arguments de la fonction\u001b[0m\u001b[0;34m\u001b[0m\u001b[0;34m\u001b[0m\u001b[0m\n\u001b[0;32m----> 3\u001b[0;31m     \u001b[0mprint\u001b[0m\u001b[0;34m(\u001b[0m\u001b[0mtest\u001b[0m\u001b[0;34m)\u001b[0m\u001b[0;34m\u001b[0m\u001b[0;34m\u001b[0m\u001b[0m\n\u001b[0m\u001b[1;32m      4\u001b[0m     \u001b[0mtest\u001b[0m \u001b[0;34m=\u001b[0m \u001b[0mtest\u001b[0m \u001b[0;34m+\u001b[0m \u001b[0;36m1\u001b[0m\u001b[0;34m\u001b[0m\u001b[0;34m\u001b[0m\u001b[0m\n\u001b[1;32m      5\u001b[0m     \u001b[0md\u001b[0m \u001b[0;34m=\u001b[0m \u001b[0mx\u001b[0m \u001b[0;34m+\u001b[0m \u001b[0my\u001b[0m \u001b[0;34m*\u001b[0m \u001b[0;36m10\u001b[0m \u001b[0;31m# variable locale\u001b[0m\u001b[0;34m\u001b[0m\u001b[0;34m\u001b[0m\u001b[0m\n",
      "\u001b[0;31mUnboundLocalError\u001b[0m: local variable 'test' referenced before assignment"
     ]
    }
   ],
   "source": [
    "func(2, 5, 6)"
   ]
  },
  {
   "cell_type": "code",
   "execution_count": 24,
   "id": "fdaa4dc3-98f4-4ba9-858f-fc2aebb1f26c",
   "metadata": {},
   "outputs": [],
   "source": [
    "# fonctions pures = fonctions qui ne modifient pas l'état global de la mémoire"
   ]
  },
  {
   "cell_type": "code",
   "execution_count": 41,
   "id": "56a766f1-0b31-42ea-b496-b6d7bdff9345",
   "metadata": {},
   "outputs": [
    {
     "data": {
      "text/plain": [
       "0"
      ]
     },
     "execution_count": 41,
     "metadata": {},
     "output_type": "execute_result"
    }
   ],
   "source": [
    "d"
   ]
  },
  {
   "cell_type": "code",
   "execution_count": 49,
   "id": "0bec91b9-dcb4-4230-bcc4-9adf4893cb3a",
   "metadata": {},
   "outputs": [],
   "source": [
    "def func(a):\n",
    "    a = a + 1\n",
    "    return a"
   ]
  },
  {
   "cell_type": "code",
   "execution_count": 50,
   "id": "f15f0921-bace-4a42-baaa-71232beb5d15",
   "metadata": {},
   "outputs": [
    {
     "name": "stdout",
     "output_type": "stream",
     "text": [
      "8\n"
     ]
    }
   ],
   "source": [
    "print(func(7))"
   ]
  },
  {
   "cell_type": "code",
   "execution_count": 51,
   "id": "74b79d6b-9ab8-4865-9d99-475c551ee9bb",
   "metadata": {},
   "outputs": [],
   "source": [
    "def func(a):\n",
    "    a = a + 1\n",
    "    return a\n",
    "    print('test')"
   ]
  },
  {
   "cell_type": "code",
   "execution_count": 52,
   "id": "b96a0b55-eabd-4e2b-88a6-91a573fa3063",
   "metadata": {},
   "outputs": [
    {
     "data": {
      "text/plain": [
       "8"
      ]
     },
     "execution_count": 52,
     "metadata": {},
     "output_type": "execute_result"
    }
   ],
   "source": [
    "func(7)"
   ]
  },
  {
   "cell_type": "code",
   "execution_count": 53,
   "id": "98c48b0c-d03d-4579-b2d0-4daabd29adce",
   "metadata": {},
   "outputs": [],
   "source": [
    "def func(a):\n",
    "    if a > 0:\n",
    "        return a\n",
    "    else:\n",
    "        return -a"
   ]
  },
  {
   "cell_type": "code",
   "execution_count": 54,
   "id": "aeac97d4-ad18-4944-ac4c-9e56631313bf",
   "metadata": {},
   "outputs": [
    {
     "data": {
      "text/plain": [
       "3"
      ]
     },
     "execution_count": 54,
     "metadata": {},
     "output_type": "execute_result"
    }
   ],
   "source": [
    "func(3)"
   ]
  },
  {
   "cell_type": "code",
   "execution_count": 55,
   "id": "3d14cf30-086a-47f5-9e04-fc71a92ff643",
   "metadata": {},
   "outputs": [
    {
     "data": {
      "text/plain": [
       "3"
      ]
     },
     "execution_count": 55,
     "metadata": {},
     "output_type": "execute_result"
    }
   ],
   "source": [
    "func(-3)"
   ]
  },
  {
   "cell_type": "code",
   "execution_count": 59,
   "id": "2b990ec4-2359-4e62-8b4c-1f37c3eb2234",
   "metadata": {},
   "outputs": [],
   "source": [
    "def func(a):\n",
    "    for i in range(1000):\n",
    "        if i % 2 == 0:\n",
    "            print('test')\n",
    "            return True"
   ]
  },
  {
   "cell_type": "code",
   "execution_count": 60,
   "id": "94a583ff-712d-4ede-ba7c-4282500d846e",
   "metadata": {},
   "outputs": [
    {
     "name": "stdout",
     "output_type": "stream",
     "text": [
      "test\n"
     ]
    },
    {
     "data": {
      "text/plain": [
       "True"
      ]
     },
     "execution_count": 60,
     "metadata": {},
     "output_type": "execute_result"
    }
   ],
   "source": [
    "func(3)"
   ]
  },
  {
   "cell_type": "code",
   "execution_count": 64,
   "id": "ac24af32-cc3d-47bc-84cb-f46cc315068c",
   "metadata": {},
   "outputs": [],
   "source": [
    "def test(a):\n",
    "    if a > 0:\n",
    "        print(f\"{a} is strictly positive.\")\n",
    "        return a\n",
    "    else:\n",
    "        print(f\"{a} is negative.\")\n",
    "        return 0"
   ]
  },
  {
   "cell_type": "code",
   "execution_count": 65,
   "id": "7e5959d6-2683-416a-a84c-6d5109fe9a9a",
   "metadata": {},
   "outputs": [
    {
     "name": "stdout",
     "output_type": "stream",
     "text": [
      "3 is strictly positive.\n"
     ]
    },
    {
     "data": {
      "text/plain": [
       "3"
      ]
     },
     "execution_count": 65,
     "metadata": {},
     "output_type": "execute_result"
    }
   ],
   "source": [
    "test(3)"
   ]
  },
  {
   "cell_type": "code",
   "execution_count": 66,
   "id": "32a74264-8a7e-47f9-859e-abeb5449cb1b",
   "metadata": {},
   "outputs": [
    {
     "name": "stdout",
     "output_type": "stream",
     "text": [
      "-3 is negative.\n"
     ]
    },
    {
     "data": {
      "text/plain": [
       "0"
      ]
     },
     "execution_count": 66,
     "metadata": {},
     "output_type": "execute_result"
    }
   ],
   "source": [
    "test(-3)"
   ]
  },
  {
   "cell_type": "code",
   "execution_count": 67,
   "id": "74670d13-409a-4587-a899-1b580b992d09",
   "metadata": {},
   "outputs": [],
   "source": [
    "a = 3"
   ]
  },
  {
   "cell_type": "code",
   "execution_count": 68,
   "id": "7db331ce-3998-4785-b2a8-79b3fdd7356b",
   "metadata": {},
   "outputs": [
    {
     "data": {
      "text/plain": [
       "int"
      ]
     },
     "execution_count": 68,
     "metadata": {},
     "output_type": "execute_result"
    }
   ],
   "source": [
    "type(a)"
   ]
  },
  {
   "cell_type": "code",
   "execution_count": 69,
   "id": "c34a1b02-2771-476e-bc7a-1906232cfb8e",
   "metadata": {},
   "outputs": [],
   "source": [
    "def test(a):\n",
    "    if a > 0:\n",
    "        print(f\"{a} is strictly positive.\")\n",
    "        return a\n",
    "    else:\n",
    "        print(f\"{a} is negative.\")\n",
    "        return 0"
   ]
  },
  {
   "cell_type": "code",
   "execution_count": 71,
   "id": "52cfbb7c-7c6e-4050-b156-acf65ed45a07",
   "metadata": {},
   "outputs": [
    {
     "name": "stdout",
     "output_type": "stream",
     "text": [
      "3 is strictly positive.\n"
     ]
    },
    {
     "data": {
      "text/plain": [
       "int"
      ]
     },
     "execution_count": 71,
     "metadata": {},
     "output_type": "execute_result"
    }
   ],
   "source": [
    "type(test(a))"
   ]
  },
  {
   "cell_type": "code",
   "execution_count": 72,
   "id": "e4c6be12-b94f-44d1-9f9e-824ff5ad4359",
   "metadata": {},
   "outputs": [],
   "source": [
    "def test(a):\n",
    "    if a > 0:\n",
    "        print(f\"{a} is strictly positive.\")\n",
    "        return str(a)\n",
    "    else:\n",
    "        print(f\"{a} is negative.\")\n",
    "        return 0"
   ]
  },
  {
   "cell_type": "code",
   "execution_count": 73,
   "id": "101a91c0-a8de-43e7-b75d-cb7baf719b49",
   "metadata": {},
   "outputs": [
    {
     "name": "stdout",
     "output_type": "stream",
     "text": [
      "3 is strictly positive.\n"
     ]
    },
    {
     "data": {
      "text/plain": [
       "str"
      ]
     },
     "execution_count": 73,
     "metadata": {},
     "output_type": "execute_result"
    }
   ],
   "source": [
    "type(test(a))"
   ]
  },
  {
   "cell_type": "code",
   "execution_count": 74,
   "id": "a343b3f9-4a29-4772-a63b-2887377e7b0e",
   "metadata": {},
   "outputs": [],
   "source": [
    "l = []\n",
    "for i in range(100):\n",
    "    l.append(i)"
   ]
  },
  {
   "cell_type": "code",
   "execution_count": 76,
   "id": "aadc128f-e057-4d51-b513-397d84a56205",
   "metadata": {},
   "outputs": [],
   "source": [
    "l = []"
   ]
  },
  {
   "cell_type": "code",
   "execution_count": 77,
   "id": "645bae8c-3309-400a-b835-afa020f4483f",
   "metadata": {},
   "outputs": [
    {
     "ename": "IndexError",
     "evalue": "list index out of range",
     "output_type": "error",
     "traceback": [
      "\u001b[0;31m---------------------------------------------------------------------------\u001b[0m",
      "\u001b[0;31mIndexError\u001b[0m                                Traceback (most recent call last)",
      "\u001b[0;32m/var/folders/yh/8wtmx8jd1n540jp1kgvkwm5w0000gp/T/ipykernel_20329/219327365.py\u001b[0m in \u001b[0;36m<module>\u001b[0;34m\u001b[0m\n\u001b[0;32m----> 1\u001b[0;31m \u001b[0ml\u001b[0m\u001b[0;34m[\u001b[0m\u001b[0;36m3\u001b[0m\u001b[0;34m]\u001b[0m\u001b[0;34m\u001b[0m\u001b[0;34m\u001b[0m\u001b[0m\n\u001b[0m",
      "\u001b[0;31mIndexError\u001b[0m: list index out of range"
     ]
    }
   ],
   "source": [
    "l[3]"
   ]
  },
  {
   "cell_type": "code",
   "execution_count": 78,
   "id": "051b723e-5663-4a66-b5ce-7c1afc7080fc",
   "metadata": {},
   "outputs": [],
   "source": [
    "d = {}"
   ]
  },
  {
   "cell_type": "code",
   "execution_count": 79,
   "id": "8ba914b7-c4a5-427f-a90d-d75c56e859bc",
   "metadata": {},
   "outputs": [],
   "source": [
    "d['test'] = 4"
   ]
  },
  {
   "cell_type": "code",
   "execution_count": 80,
   "id": "6a3c81c2-83f4-493f-9ab1-6d39c2549bab",
   "metadata": {},
   "outputs": [
    {
     "data": {
      "text/plain": [
       "{3: 7, 4: 8}"
      ]
     },
     "execution_count": 80,
     "metadata": {},
     "output_type": "execute_result"
    }
   ],
   "source": [
    "dict([(3, 7), (4, 8)])"
   ]
  },
  {
   "cell_type": "code",
   "execution_count": 81,
   "id": "8eaf9d82-203c-4179-8aeb-4106595c70b1",
   "metadata": {},
   "outputs": [
    {
     "data": {
      "text/plain": [
       "{'a', 'b', 'c', 'd', 'e'}"
      ]
     },
     "execution_count": 81,
     "metadata": {},
     "output_type": "execute_result"
    }
   ],
   "source": [
    "set('abcdee')"
   ]
  },
  {
   "cell_type": "code",
   "execution_count": null,
   "id": "172f286b-56c5-429c-a689-abc462bf614b",
   "metadata": {},
   "outputs": [],
   "source": []
  }
 ],
 "metadata": {
  "kernelspec": {
   "display_name": "Python 3 (ipykernel)",
   "language": "python",
   "name": "python3"
  },
  "language_info": {
   "codemirror_mode": {
    "name": "ipython",
    "version": 3
   },
   "file_extension": ".py",
   "mimetype": "text/x-python",
   "name": "python",
   "nbconvert_exporter": "python",
   "pygments_lexer": "ipython3",
   "version": "3.9.0"
  }
 },
 "nbformat": 4,
 "nbformat_minor": 5
}
