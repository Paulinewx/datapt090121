{
 "cells": [
  {
   "cell_type": "code",
   "execution_count": 1,
   "id": "56f1b29c-dea2-43ce-ae65-b690b8a7ba5b",
   "metadata": {},
   "outputs": [],
   "source": [
    "import pandas as pd\n",
    "import seaborn as sns"
   ]
  },
  {
   "cell_type": "code",
   "execution_count": 48,
   "id": "d1d07dd0-130b-4551-b26b-1a2bdb248d9f",
   "metadata": {},
   "outputs": [],
   "source": [
    "df = [{'Paris': 17, 'London': 23, 'Berlin': 20}, \n",
    "      {'Paris': 18, 'London': 22, 'Berlin': 21}, \n",
    "      {'Paris': 16, 'London': 24, 'Berlin': 19}, \n",
    "      {'Paris': 16, 'London': 21, 'Berlin': 17}, \n",
    "      {'Paris': 15, 'London': 17, 'Berlin': 13}, \n",
    "      {'Paris': 14, 'London': 15, 'Berlin': 12}]"
   ]
  },
  {
   "cell_type": "code",
   "execution_count": 49,
   "id": "677a8939-d8cd-413c-ad47-d10edc18fbd2",
   "metadata": {},
   "outputs": [],
   "source": [
    "df = pd.DataFrame(df)"
   ]
  },
  {
   "cell_type": "code",
   "execution_count": 50,
   "id": "c12409da-4100-4905-a491-ba73bdae7fb1",
   "metadata": {},
   "outputs": [],
   "source": [
    "df = df.reset_index()"
   ]
  },
  {
   "cell_type": "code",
   "execution_count": 51,
   "id": "e704e36a-63d8-442b-99bf-c9b44451ba85",
   "metadata": {},
   "outputs": [],
   "source": [
    "df = df.rename(columns={'index': 'days'})"
   ]
  },
  {
   "cell_type": "code",
   "execution_count": 52,
   "id": "4fa3e563-7beb-4e3f-85c9-30e989284c21",
   "metadata": {},
   "outputs": [
    {
     "data": {
      "text/html": [
       "<div>\n",
       "<style scoped>\n",
       "    .dataframe tbody tr th:only-of-type {\n",
       "        vertical-align: middle;\n",
       "    }\n",
       "\n",
       "    .dataframe tbody tr th {\n",
       "        vertical-align: top;\n",
       "    }\n",
       "\n",
       "    .dataframe thead th {\n",
       "        text-align: right;\n",
       "    }\n",
       "</style>\n",
       "<table border=\"1\" class=\"dataframe\">\n",
       "  <thead>\n",
       "    <tr style=\"text-align: right;\">\n",
       "      <th></th>\n",
       "      <th>days</th>\n",
       "      <th>Paris</th>\n",
       "      <th>London</th>\n",
       "      <th>Berlin</th>\n",
       "    </tr>\n",
       "  </thead>\n",
       "  <tbody>\n",
       "    <tr>\n",
       "      <th>0</th>\n",
       "      <td>0</td>\n",
       "      <td>17</td>\n",
       "      <td>23</td>\n",
       "      <td>20</td>\n",
       "    </tr>\n",
       "    <tr>\n",
       "      <th>1</th>\n",
       "      <td>1</td>\n",
       "      <td>18</td>\n",
       "      <td>22</td>\n",
       "      <td>21</td>\n",
       "    </tr>\n",
       "    <tr>\n",
       "      <th>2</th>\n",
       "      <td>2</td>\n",
       "      <td>16</td>\n",
       "      <td>24</td>\n",
       "      <td>19</td>\n",
       "    </tr>\n",
       "    <tr>\n",
       "      <th>3</th>\n",
       "      <td>3</td>\n",
       "      <td>16</td>\n",
       "      <td>21</td>\n",
       "      <td>17</td>\n",
       "    </tr>\n",
       "    <tr>\n",
       "      <th>4</th>\n",
       "      <td>4</td>\n",
       "      <td>15</td>\n",
       "      <td>17</td>\n",
       "      <td>13</td>\n",
       "    </tr>\n",
       "    <tr>\n",
       "      <th>5</th>\n",
       "      <td>5</td>\n",
       "      <td>14</td>\n",
       "      <td>15</td>\n",
       "      <td>12</td>\n",
       "    </tr>\n",
       "  </tbody>\n",
       "</table>\n",
       "</div>"
      ],
      "text/plain": [
       "   days  Paris  London  Berlin\n",
       "0     0     17      23      20\n",
       "1     1     18      22      21\n",
       "2     2     16      24      19\n",
       "3     3     16      21      17\n",
       "4     4     15      17      13\n",
       "5     5     14      15      12"
      ]
     },
     "execution_count": 52,
     "metadata": {},
     "output_type": "execute_result"
    }
   ],
   "source": [
    "df"
   ]
  },
  {
   "cell_type": "code",
   "execution_count": 42,
   "id": "4d591e65-82f9-4f9d-a12d-323bb8dc8772",
   "metadata": {},
   "outputs": [
    {
     "data": {
      "text/plain": [
       "<AxesSubplot:xlabel='days', ylabel='Paris'>"
      ]
     },
     "execution_count": 42,
     "metadata": {},
     "output_type": "execute_result"
    },
    {
     "data": {
      "image/png": "[encoded data removed]",
      "text/plain": [
       "<Figure size 432x288 with 1 Axes>"
      ]
     },
     "metadata": {
      "needs_background": "light"
     },
     "output_type": "display_data"
    }
   ],
   "source": [
    "sns.lineplot(data=df, x='days', y='Paris')\n",
    "sns.lineplot(data=df, x='days', y='London')"
   ]
  },
  {
   "cell_type": "code",
   "execution_count": 43,
   "id": "b11678f9-0002-4dc7-8999-1d5f31be6811",
   "metadata": {},
   "outputs": [],
   "source": [
    "# Tidy Dataset\n",
    "# 1) chaque variable (temperature, pression, etc) correspond à une colonne\n",
    "# 2) chaque observation correspond à une ligne\n",
    "# 3) chaque cellule / case correspond à une valeur\n",
    "# (4) les noms des colonnes ne correspondent pas à des valeurs d'une variable)"
   ]
  },
  {
   "cell_type": "code",
   "execution_count": 53,
   "id": "c1c7a4ea-e6e4-46ec-8340-91f2284bf9f9",
   "metadata": {},
   "outputs": [
    {
     "data": {
      "text/html": [
       "<div>\n",
       "<style scoped>\n",
       "    .dataframe tbody tr th:only-of-type {\n",
       "        vertical-align: middle;\n",
       "    }\n",
       "\n",
       "    .dataframe tbody tr th {\n",
       "        vertical-align: top;\n",
       "    }\n",
       "\n",
       "    .dataframe thead th {\n",
       "        text-align: right;\n",
       "    }\n",
       "</style>\n",
       "<table border=\"1\" class=\"dataframe\">\n",
       "  <thead>\n",
       "    <tr style=\"text-align: right;\">\n",
       "      <th></th>\n",
       "      <th>days</th>\n",
       "      <th>Paris</th>\n",
       "      <th>London</th>\n",
       "      <th>Berlin</th>\n",
       "    </tr>\n",
       "  </thead>\n",
       "  <tbody>\n",
       "    <tr>\n",
       "      <th>0</th>\n",
       "      <td>0</td>\n",
       "      <td>17</td>\n",
       "      <td>23</td>\n",
       "      <td>20</td>\n",
       "    </tr>\n",
       "    <tr>\n",
       "      <th>1</th>\n",
       "      <td>1</td>\n",
       "      <td>18</td>\n",
       "      <td>22</td>\n",
       "      <td>21</td>\n",
       "    </tr>\n",
       "    <tr>\n",
       "      <th>2</th>\n",
       "      <td>2</td>\n",
       "      <td>16</td>\n",
       "      <td>24</td>\n",
       "      <td>19</td>\n",
       "    </tr>\n",
       "    <tr>\n",
       "      <th>3</th>\n",
       "      <td>3</td>\n",
       "      <td>16</td>\n",
       "      <td>21</td>\n",
       "      <td>17</td>\n",
       "    </tr>\n",
       "    <tr>\n",
       "      <th>4</th>\n",
       "      <td>4</td>\n",
       "      <td>15</td>\n",
       "      <td>17</td>\n",
       "      <td>13</td>\n",
       "    </tr>\n",
       "    <tr>\n",
       "      <th>5</th>\n",
       "      <td>5</td>\n",
       "      <td>14</td>\n",
       "      <td>15</td>\n",
       "      <td>12</td>\n",
       "    </tr>\n",
       "  </tbody>\n",
       "</table>\n",
       "</div>"
      ],
      "text/plain": [
       "   days  Paris  London  Berlin\n",
       "0     0     17      23      20\n",
       "1     1     18      22      21\n",
       "2     2     16      24      19\n",
       "3     3     16      21      17\n",
       "4     4     15      17      13\n",
       "5     5     14      15      12"
      ]
     },
     "execution_count": 53,
     "metadata": {},
     "output_type": "execute_result"
    }
   ],
   "source": [
    "df"
   ]
  },
  {
   "cell_type": "code",
   "execution_count": 54,
   "id": "67f9b993-5342-4949-8d89-2802f15dd772",
   "metadata": {},
   "outputs": [],
   "source": [
    "tidy_df = pd.melt(df,\n",
    "        id_vars=['days'], \n",
    "        value_vars=['Paris', 'London', 'Berlin'],\n",
    "        var_name='City',\n",
    "        value_name='Temperature',)"
   ]
  },
  {
   "cell_type": "code",
   "execution_count": 55,
   "id": "49577501-c892-4499-9302-fa402fd1302d",
   "metadata": {},
   "outputs": [
    {
     "data": {
      "text/plain": [
       "<AxesSubplot:xlabel='days', ylabel='Temperature'>"
      ]
     },
     "execution_count": 55,
     "metadata": {},
     "output_type": "execute_result"
    },
    {
     "data": {
      "image/png": "[encoded data removed]",
      "text/plain": [
       "<Figure size 432x288 with 1 Axes>"
      ]
     },
     "metadata": {
      "needs_background": "light"
     },
     "output_type": "display_data"
    }
   ],
   "source": [
    "sns.lineplot(data=tidy_df,\n",
    "             x='days',\n",
    "             y='Temperature',\n",
    "             hue='City')"
   ]
  },
  {
   "cell_type": "code",
   "execution_count": null,
   "id": "09e4fb14-c7f3-40f2-a6a3-67a49731ccbf",
   "metadata": {},
   "outputs": [],
   "source": []
  }
 ],
 "metadata": {
  "kernelspec": {
   "display_name": "Python 3 (ipykernel)",
   "language": "python",
   "name": "python3"
  },
  "language_info": {
   "codemirror_mode": {
    "name": "ipython",
    "version": 3
   },
   "file_extension": ".py",
   "mimetype": "text/x-python",
   "name": "python",
   "nbconvert_exporter": "python",
   "pygments_lexer": "ipython3",
   "version": "3.7.9"
  }
 },
 "nbformat": 4,
 "nbformat_minor": 5
}
